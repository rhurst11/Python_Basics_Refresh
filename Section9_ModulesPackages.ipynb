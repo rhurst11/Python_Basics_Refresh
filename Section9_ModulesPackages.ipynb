{
 "cells": [
  {
   "cell_type": "markdown",
   "id": "fe3868f8-4401-4116-ad22-839aa39c10c4",
   "metadata": {},
   "source": [
    "MODULES AND PACKAGES\n",
    "\n",
    "PyPi is a repository for open-source third-party Python packages (similar to RubyGems for ruby, PHP's Packagist, CPAN for Perl, and NPM for Node.js)\n",
    "\n",
    "so far we have only use built in libraries for Pythonh\n",
    "\n",
    "There are many other libraries available that people have open-sourced on PyPi\n",
    "\n",
    "by installing Python from python.org or through Anaconda distribution you also installed pip\n",
    "\n",
    "pip is a simple way to download packages at your command line directly from ther PyPi repository"
   ]
  },
  {
   "cell_type": "markdown",
   "id": "09fc7412-1ed3-4677-b87c-5a6457fe2d64",
   "metadata": {},
   "source": [
    "NOW DISCUSSING HOW TO WRITE OUR OWN MODULES AND PACKAGES\n",
    "\n",
    "REALLY ALL A MODULE IS IS A .PY SCRIPT\n",
    "\n",
    "MODULES ARE JUST .PY SCRIPTS THAT YOU CALL IN ANOTHER .PY SCRIPT\n",
    "\n",
    "PACKAGES ARE A COLLECTION OF MODULES"
   ]
  },
  {
   "cell_type": "code",
   "execution_count": null,
   "id": "7f09dfa1-deeb-4b9d-af01-a60235a608fc",
   "metadata": {},
   "outputs": [],
   "source": []
  }
 ],
 "metadata": {
  "kernelspec": {
   "display_name": "Python 3 (ipykernel)",
   "language": "python",
   "name": "python3"
  },
  "language_info": {
   "codemirror_mode": {
    "name": "ipython",
    "version": 3
   },
   "file_extension": ".py",
   "mimetype": "text/x-python",
   "name": "python",
   "nbconvert_exporter": "python",
   "pygments_lexer": "ipython3",
   "version": "3.7.11"
  }
 },
 "nbformat": 4,
 "nbformat_minor": 5
}
