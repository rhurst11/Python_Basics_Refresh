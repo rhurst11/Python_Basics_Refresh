{
 "cells": [
  {
   "cell_type": "markdown",
   "id": "b05bf1ff-cd72-4f43-9855-02d07f7c4227",
   "metadata": {},
   "source": [
    "METHODS AND FUNCTIONS:\n",
    "\n",
    "METHODS:\n",
    "\n",
    "- METHODS ARE ESSENTIALLY FUNCTIONS THAT ARE BUILT INTO OBJECTS"
   ]
  },
  {
   "cell_type": "code",
   "execution_count": 3,
   "id": "f3d04434-b440-462f-a451-ab2122ee00d4",
   "metadata": {},
   "outputs": [
    {
     "name": "stdout",
     "output_type": "stream",
     "text": [
      "Help on built-in function insert:\n",
      "\n",
      "insert(index, object, /) method of builtins.list instance\n",
      "    Insert object before index.\n",
      "\n"
     ]
    }
   ],
   "source": [
    "mylist = [1,2,3]\n",
    "\n",
    "# examples of methods useable with lists would be .append, .pop, etc...\n",
    "\n",
    "\n",
    "# here's how to get a list of methods for various built in objects:\n",
    "\n",
    "# have an object add notation and ht tab\n",
    "\n",
    "# can also use help function with above syntax\n",
    "\n",
    "# example of using built in help function (could use shift tab, or, if not in jupyter notebook, cvall the nbuiltin help function as below:  \n",
    "\n",
    "help(mylist.insert)\n",
    "\n",
    "# third option is to just go to the python documentation"
   ]
  },
  {
   "cell_type": "code",
   "execution_count": 4,
   "id": "52bdd5f2-4194-4904-91df-5ca56c0f0a52",
   "metadata": {},
   "outputs": [],
   "source": [
    "# look up the python standard library, it is literally the holy grail of python documentation\n",
    "# you will find that a lot of answers are really only found in the documentation as yoi get more advanced\n",
    "\n",
    "\n",
    "# go to stack overflow for readable answers though"
   ]
  },
  {
   "cell_type": "markdown",
   "id": "c8dfc965-f8c7-40d5-9bc3-2d8d228c8a0b",
   "metadata": {},
   "source": [
    "DISCUSSING FUNCTIONS NEXT:\n",
    "\n",
    "CREATING CLEAN AND REPEATABLE CODE IS CRITICAL TO BEING A GOOD PROGRAMMER\n",
    "FUNCTIONS ALLOW US TO CREATE BLOCKS OF CODE THAT CAN EASILY BE EXECUTED MANY TIMES, WITHOUT NEEDING TO CONSTANTLY REWRITE THE ENTIRE BLOCK OF CODE"
   ]
  },
  {
   "cell_type": "markdown",
   "id": "a32a7100-79ed-4504-8f76-ef46c752b210",
   "metadata": {},
   "source": [
    "lecture on the def keyword:\n",
    "\n",
    "\n",
    "creating a function requires very specific keywords and syntax\n",
    "\n",
    "def function_name(parameters):\n",
    "    actions here\n",
    "    return (allows us to assign the output of the function to a new variable)\n",
    "\n",
    "\n",
    "example function syntax (writing):\n",
    "\n",
    "def name_of_function(name):\n",
    "    \"\"\"comments here describing purpose of function\"\"\"\n",
    "    print(\"Hello\")\n",
    "    \n",
    "example function syntax (calling)\n",
    "\n",
    "name_of_function(\"Jose\")\n",
    "\n",
    "\n",
    "notice snakecasing (all underscores with underscores between words, this is status quo for function syntax\n",
    "\n",
    "classes will use camel casing\n",
    "\n",
    "\n",
    "example with mutliple parameters and a return statement:\n",
    "\n",
    "def add_function(parameter1, parameter2):\n",
    "    return parameter1 + parameter2\n",
    " "
   ]
  },
  {
   "cell_type": "code",
   "execution_count": 5,
   "id": "cff787ee-a3d2-48f9-9233-8426a02104d5",
   "metadata": {},
   "outputs": [
    {
     "data": {
      "text/plain": [
       "9"
      ]
     },
     "execution_count": 5,
     "metadata": {},
     "output_type": "execute_result"
    }
   ],
   "source": [
    "#  working with example function \n",
    "def add_function(parameter1, parameter2):\n",
    "    return parameter1 + parameter2\n",
    "\n",
    "output_of_return_statement = add_function(4, 5)\n",
    "output_of_return_statement"
   ]
  },
  {
   "cell_type": "markdown",
   "id": "7f8686c7-a411-4721-86e9-5e1b7c08f07c",
   "metadata": {},
   "source": [
    "BASICS OF PYTHON LECTURE:"
   ]
  },
  {
   "cell_type": "code",
   "execution_count": 6,
   "id": "9af845af-4bc8-4c30-991c-7e257a4bf644",
   "metadata": {},
   "outputs": [
    {
     "name": "stdout",
     "output_type": "stream",
     "text": [
      "hi\n"
     ]
    }
   ],
   "source": [
    "# example practice\n",
    "\n",
    "\n",
    "def say_hi():\n",
    "    print(\"hi\")\n",
    "    \n",
    "say_hi()"
   ]
  },
  {
   "cell_type": "code",
   "execution_count": 7,
   "id": "0b2408b8-eb7a-4080-9d05-96f5b0a462a0",
   "metadata": {},
   "outputs": [
    {
     "name": "stdout",
     "output_type": "stream",
     "text": [
      "hi\n",
      "how\n",
      "are\n",
      "you\n"
     ]
    }
   ],
   "source": [
    "# example practice\n",
    "def say_hi():\n",
    "    print(\"hi\")\n",
    "    print(\"how\")\n",
    "    print(\"are\")\n",
    "    print(\"you\")\n",
    "say_hi()"
   ]
  },
  {
   "cell_type": "code",
   "execution_count": 8,
   "id": "22c1516b-5c09-4654-ab89-cc831879c544",
   "metadata": {},
   "outputs": [
    {
     "name": "stdout",
     "output_type": "stream",
     "text": [
      "Hello Ray\n"
     ]
    }
   ],
   "source": [
    "# example practice\n",
    "\n",
    "def intro_name(name):\n",
    "    print(f'Hello {name}')\n",
    "\n",
    "intro_name('Ray')"
   ]
  },
  {
   "cell_type": "code",
   "execution_count": 9,
   "id": "c0dbe298-c953-4bde-a917-d1341c438ce0",
   "metadata": {},
   "outputs": [
    {
     "name": "stdout",
     "output_type": "stream",
     "text": [
      "Hello Default\n"
     ]
    }
   ],
   "source": [
    "# example practice\n",
    "# providing a default value here if name is not provided\n",
    "\n",
    "def intro_name(name = 'Default'):\n",
    "    print(f'Hello {name}')\n",
    "\n",
    "intro_name()"
   ]
  },
  {
   "cell_type": "code",
   "execution_count": 10,
   "id": "47d8a406-d919-41dc-bfef-cba810b22aff",
   "metadata": {},
   "outputs": [],
   "source": [
    "def add_num(num1, num2):\n",
    "    return num1 + num2"
   ]
  },
  {
   "cell_type": "code",
   "execution_count": 11,
   "id": "82a9ca14-9aff-4c44-b944-72db00d754ee",
   "metadata": {},
   "outputs": [
    {
     "data": {
      "text/plain": [
       "7"
      ]
     },
     "execution_count": 11,
     "metadata": {},
     "output_type": "execute_result"
    }
   ],
   "source": [
    "output_variable_of_function = add_num(3,4)\n",
    "\n",
    "output_variable_of_function"
   ]
  },
  {
   "cell_type": "code",
   "execution_count": 12,
   "id": "35480c9c-5853-4f87-80ad-7104462a6fed",
   "metadata": {},
   "outputs": [
    {
     "data": {
      "text/plain": [
       "7"
      ]
     },
     "execution_count": 12,
     "metadata": {},
     "output_type": "execute_result"
    }
   ],
   "source": [
    "output_variable_of_function"
   ]
  },
  {
   "cell_type": "code",
   "execution_count": 13,
   "id": "58d3512d-808a-4878-be56-ef52a4fa61b0",
   "metadata": {},
   "outputs": [],
   "source": [
    "\"\"\"\n",
    "Here we will compare print and return, \n",
    "\n",
    "return allows you to directly assign the output of a function to a variable, while print does not\n",
    "\"\"\"\n",
    "\n",
    "def print_result(a, b):\n",
    "    print(a+b)\n",
    "    \n",
    "\n",
    "def return_result(a,b):\n",
    "    return a + b"
   ]
  },
  {
   "cell_type": "code",
   "execution_count": 14,
   "id": "6206759d-3ede-47d8-aef8-eaae99fd1d0f",
   "metadata": {},
   "outputs": [
    {
     "name": "stdout",
     "output_type": "stream",
     "text": [
      "9\n"
     ]
    }
   ],
   "source": [
    "print_result(4,5)"
   ]
  },
  {
   "cell_type": "code",
   "execution_count": 15,
   "id": "4827ba0d-6bb1-463b-9693-84a7ce6cfad5",
   "metadata": {},
   "outputs": [
    {
     "name": "stdout",
     "output_type": "stream",
     "text": [
      "9\n"
     ]
    }
   ],
   "source": [
    "result = print_result(4,5)\n",
    "\n",
    "result"
   ]
  },
  {
   "cell_type": "code",
   "execution_count": 16,
   "id": "5a6106da-2c2d-4e94-b348-d51d2cfd752e",
   "metadata": {},
   "outputs": [
    {
     "data": {
      "text/plain": [
       "NoneType"
      ]
     },
     "execution_count": 16,
     "metadata": {},
     "output_type": "execute_result"
    }
   ],
   "source": [
    "type(result)\n",
    "\n",
    "# doesn't actually return anything, no saved variable"
   ]
  },
  {
   "cell_type": "code",
   "execution_count": 17,
   "id": "97c0d129-49d0-4792-9fd1-01be9d5b5b4b",
   "metadata": {},
   "outputs": [
    {
     "data": {
      "text/plain": [
       "9"
      ]
     },
     "execution_count": 17,
     "metadata": {},
     "output_type": "execute_result"
    }
   ],
   "source": [
    "return_result(4,5)"
   ]
  },
  {
   "cell_type": "code",
   "execution_count": 18,
   "id": "5397e5b3-3bc2-433f-bdda-5351ee248e1d",
   "metadata": {},
   "outputs": [],
   "source": [
    "result = return_result(4,5)"
   ]
  },
  {
   "cell_type": "code",
   "execution_count": 19,
   "id": "a67fcd34-1c68-4f5b-91bf-d6bdc4e14d2b",
   "metadata": {},
   "outputs": [
    {
     "data": {
      "text/plain": [
       "9"
      ]
     },
     "execution_count": 19,
     "metadata": {},
     "output_type": "execute_result"
    }
   ],
   "source": [
    "result"
   ]
  },
  {
   "cell_type": "code",
   "execution_count": 20,
   "id": "3887b903-7bf0-40e1-90d3-8c391da71f0f",
   "metadata": {},
   "outputs": [
    {
     "data": {
      "text/plain": [
       "int"
      ]
     },
     "execution_count": 20,
     "metadata": {},
     "output_type": "execute_result"
    }
   ],
   "source": [
    "type(result)"
   ]
  },
  {
   "cell_type": "code",
   "execution_count": 21,
   "id": "9c178eec-bdce-44d3-8b5d-66aff5dbbfd6",
   "metadata": {},
   "outputs": [
    {
     "name": "stdout",
     "output_type": "stream",
     "text": [
      "10\n"
     ]
    },
    {
     "data": {
      "text/plain": [
       "10"
      ]
     },
     "execution_count": 21,
     "metadata": {},
     "output_type": "execute_result"
    }
   ],
   "source": [
    "# you can print and return in th esame function, not sure why you would but it will not throw an error\n",
    "\n",
    "def return_result(a,b):\n",
    "    print(a + b)\n",
    "    return a + b\n",
    "\n",
    "return_result(5,5)"
   ]
  },
  {
   "cell_type": "code",
   "execution_count": 22,
   "id": "108e62d6-42c8-4c6d-9cf2-7ba08459ab61",
   "metadata": {},
   "outputs": [
    {
     "name": "stdout",
     "output_type": "stream",
     "text": [
      "1020\n"
     ]
    },
    {
     "data": {
      "text/plain": [
       "'1020'"
      ]
     },
     "execution_count": 22,
     "metadata": {},
     "output_type": "execute_result"
    }
   ],
   "source": [
    "# really should check that your datatypes are compatible with your functions:\n",
    "\n",
    "def return_result(a,b):\n",
    "    print(a + b)\n",
    "    return a + b\n",
    "\n",
    "# adding strings here to highlight risks of not type checking\n",
    "return_result('10','20')"
   ]
  },
  {
   "cell_type": "code",
   "execution_count": 23,
   "id": "e5e19d99-2dae-49f7-9487-07c51f52d1b7",
   "metadata": {},
   "outputs": [
    {
     "data": {
      "text/plain": [
       "30"
      ]
     },
     "execution_count": 23,
     "metadata": {},
     "output_type": "execute_result"
    }
   ],
   "source": [
    "# checking data types here:\n",
    "\n",
    "\n",
    "def return_result(a,b):\n",
    "    checked_type_a = int(a)\n",
    "    checked_type_b = int(b)\n",
    "    return checked_type_a + checked_type_b\n",
    "\n",
    "# adding strings here to highlight risks of not type checking\n",
    "return_result('10','20')"
   ]
  },
  {
   "cell_type": "markdown",
   "id": "e47eba33-166c-46ef-8949-089538152c8d",
   "metadata": {},
   "source": [
    "LECTURE ON LOGIC WITH PYTHON FUNCTIONS:\n",
    "\n",
    "think of adding logic such as conditionals and loops with functions"
   ]
  },
  {
   "cell_type": "code",
   "execution_count": 24,
   "id": "88ec0f7b-649b-4e17-bc0d-175f6a0daa29",
   "metadata": {},
   "outputs": [
    {
     "data": {
      "text/plain": [
       "0"
      ]
     },
     "execution_count": 24,
     "metadata": {},
     "output_type": "execute_result"
    }
   ],
   "source": [
    "# recall the mod operator %, which just returns back a remainder after divisionZ\n",
    "# it checks for the remainder amount, so the remainder is 0 it is divisible by the given number:\n",
    "\n",
    "2%2"
   ]
  },
  {
   "cell_type": "code",
   "execution_count": 25,
   "id": "f106735e-c67b-484b-8823-e364b053048e",
   "metadata": {},
   "outputs": [
    {
     "data": {
      "text/plain": [
       "'Even'"
      ]
     },
     "execution_count": 25,
     "metadata": {},
     "output_type": "execute_result"
    }
   ],
   "source": [
    "# building out a simple number checker here with a function and some conditional logic\n",
    "\n",
    "def even_num_check(input_num):\n",
    "    if int(input_num) % 2 == 0:\n",
    "        result = 'Even'\n",
    "        return result\n",
    "    else:\n",
    "        result = 'Odd'\n",
    "        return result\n",
    "\n",
    "even_num_check('2')"
   ]
  },
  {
   "cell_type": "code",
   "execution_count": 26,
   "id": "5d1519c0-0ccd-4a95-b029-1def95abdb2b",
   "metadata": {},
   "outputs": [
    {
     "data": {
      "text/plain": [
       "False"
      ]
     },
     "execution_count": 26,
     "metadata": {},
     "output_type": "execute_result"
    }
   ],
   "source": [
    "# more simple way to do function above:\n",
    "\n",
    "def even_check(number):\n",
    "    return number % 2 ==0\n",
    "\n",
    "even_check(21)"
   ]
  },
  {
   "cell_type": "code",
   "execution_count": 27,
   "id": "0831a388-49d0-4165-8422-b934d0ec237c",
   "metadata": {},
   "outputs": [
    {
     "data": {
      "text/plain": [
       "True"
      ]
     },
     "execution_count": 27,
     "metadata": {},
     "output_type": "execute_result"
    }
   ],
   "source": [
    "even_check(20)"
   ]
  },
  {
   "cell_type": "code",
   "execution_count": 28,
   "id": "e6981a8c-d13b-4cec-ac8a-24a77f9da428",
   "metadata": {},
   "outputs": [
    {
     "data": {
      "text/plain": [
       "\"\\n\\nit's really common for beginnners to make additional lines in. a function that are not necessary, \\nin the more elgant function above, we just return that boolean check itself and that is more efficient\\n\\n\""
      ]
     },
     "execution_count": 28,
     "metadata": {},
     "output_type": "execute_result"
    }
   ],
   "source": [
    "\"\"\"\n",
    "\n",
    "it's really common for beginnners to make additional lines in. a function that are not necessary, \n",
    "in the more elgant function above, we just return that boolean check itself and that is more efficient\n",
    "\n",
    "\"\"\""
   ]
  },
  {
   "cell_type": "code",
   "execution_count": 29,
   "id": "fa7419ca-f9c1-4826-8a11-02507cab98bd",
   "metadata": {},
   "outputs": [
    {
     "data": {
      "text/plain": [
       "True"
      ]
     },
     "execution_count": 29,
     "metadata": {},
     "output_type": "execute_result"
    }
   ],
   "source": [
    "# NEW FUNCTION\n",
    "\n",
    "# RETURN TRUE IF ANY NUMBER IS EVEN INSIDE A LIST\n",
    "\n",
    "\n",
    "# so this is my function build without video aid, cross reference against cell below for efficiency gains\n",
    "def even_checker_list(checklist):\n",
    "    positive_results = 0\n",
    "    for x in checklist:\n",
    "        if x % 2 == 0:\n",
    "            positive_results +=1\n",
    "        \n",
    "    if positive_results > 0:\n",
    "        result = True\n",
    "    else:\n",
    "        result = False\n",
    "    return result\n",
    "\n",
    "mylist = [1,2,5,6,7,9,9,10,11]\n",
    "\n",
    "even_checker_list(mylist)\n"
   ]
  },
  {
   "cell_type": "code",
   "execution_count": 30,
   "id": "c53c0986-2ad5-4dee-8e7c-cd03b6bc621d",
   "metadata": {},
   "outputs": [
    {
     "data": {
      "text/plain": [
       "True"
      ]
     },
     "execution_count": 30,
     "metadata": {},
     "output_type": "execute_result"
    }
   ],
   "source": [
    "# notice how much this boosts effieicnyc\n",
    "\n",
    "def check_even_list(num_list):\n",
    "    \n",
    "    for number in num_list:\n",
    "        if number % 2 == 0:\n",
    "#             notice that return doesn;t have to be at any particular point in the function, we are able to use it wherever:\n",
    "            return True\n",
    "        else:\n",
    "#             pass means don't do anything\n",
    "            pass\n",
    "\n",
    "\n",
    "check_even_list([1,2,3,5,7,9])"
   ]
  },
  {
   "cell_type": "code",
   "execution_count": 31,
   "id": "84545d6b-7c38-4040-9cb0-829ebde9f380",
   "metadata": {},
   "outputs": [
    {
     "data": {
      "text/plain": [
       "False"
      ]
     },
     "execution_count": 31,
     "metadata": {},
     "output_type": "execute_result"
    }
   ],
   "source": [
    "# SUPER IMPORTANT POINT HERE ON RETURNS:\n",
    "\n",
    "# THIS FUNCTION IS COMPLETELY WRONG:\n",
    "# IT IS WRONG BECAUSE THE CELL THAT RETURNS FALSE is indented improperly (EXPLAINED BELOW)\n",
    "\n",
    "def check_even_list(num_list):\n",
    "    \n",
    "    for number in num_list:\n",
    "        if number % 2 == 0:\n",
    "#             notice that return doesn;t have to be at any particular point in the function, we are able to use it wherever:\n",
    "            return True\n",
    "        else:\n",
    "#             pass means don't do anything\n",
    "            return False #WRONG!!!!!! DON'T DO THIS\n",
    "\n",
    "\"\"\"\n",
    "the reason it would be incorrect to return False up above in the given syntax (emphasis on indentation)\n",
    "\n",
    "the very first time that a number is not even here, it will just return false \n",
    "watch below\n",
    "\"\"\"\n",
    "\n",
    "\n",
    "# this list should return true given the purpose of our function, but it doesn't because out function returns false on the first item in the list\n",
    "check_even_list([1,2,3,5])"
   ]
  },
  {
   "cell_type": "code",
   "execution_count": 32,
   "id": "f9b91e21-d33c-4c90-b99e-a3f836f71e9b",
   "metadata": {},
   "outputs": [
    {
     "data": {
      "text/plain": [
       "True"
      ]
     },
     "execution_count": 32,
     "metadata": {},
     "output_type": "execute_result"
    }
   ],
   "source": [
    "# here is the above function but with proper indentation\n",
    "# basically sticking the return False in the for loop instead of in the conditional logic \n",
    "\n",
    "\n",
    "def check_even_list(num_list):\n",
    "    \n",
    "    for number in num_list:\n",
    "        if number % 2 == 0:\n",
    "#             notice that return doesn;t have to be at any particular point in the function, we are able to use it wherever:\n",
    "            return True\n",
    "        else:\n",
    "            pass #means don't do anything\n",
    "    return False #WITH THE RETURN FALSE HERE, IT WILL WORK BECAUSE IT IS NOT TRIGGERING DURING THE FOR LOOP\n",
    "\n",
    "\"\"\"\n",
    "the reason it would be incorrect to return False up above in the given syntax (emphasis on indentation)\n",
    "\n",
    "the very first time that a number is not even here, it will just return false \n",
    "watch below\n",
    "\"\"\"\n",
    "\n",
    "\n",
    "# this list should return true given the purpose of our function\n",
    "check_even_list([1,2,3,5])"
   ]
  },
  {
   "cell_type": "code",
   "execution_count": 33,
   "id": "581b7608-bd9b-4cec-ab38-a8648ffcab01",
   "metadata": {},
   "outputs": [
    {
     "data": {
      "text/plain": [
       "[2, 4, 6, 8]"
      ]
     },
     "execution_count": 33,
     "metadata": {},
     "output_type": "execute_result"
    }
   ],
   "source": [
    "# ADDING MORE COMPLEXITY: NOW WANT A FUNCTION THAT RETURNS ALL EVEN NUMBERS IN A GIVEN LIST\n",
    "\n",
    "# this trial is without video, compare to cell below for efficiency improvements\n",
    "def even_return(num_list):\n",
    "    output_list = []\n",
    "    for x in num_list:\n",
    "        if x%2 == 0:\n",
    "            output_list.append(x)\n",
    "        else:\n",
    "            pass\n",
    "    return output_list\n",
    "            \n",
    "   \n",
    "# should receive back a list with 2,4,6,8 if function is working\n",
    "trial_list = [1,2,4,5,6,7,8]\n",
    "\n",
    "even_return(trial_list)"
   ]
  },
  {
   "cell_type": "code",
   "execution_count": 34,
   "id": "33805bca-7cb2-4eb5-a13f-4e98369252ed",
   "metadata": {},
   "outputs": [
    {
     "data": {
      "text/plain": [
       "[]"
      ]
     },
     "execution_count": 34,
     "metadata": {},
     "output_type": "execute_result"
    }
   ],
   "source": [
    "# initial attempt was identical to the video's approach, no improvements needed\n",
    "\n",
    "# additional check of function above\n",
    "even_return([1,3,5])"
   ]
  },
  {
   "cell_type": "markdown",
   "id": "1382cc80-37ac-406f-b598-5e3ac2d25afe",
   "metadata": {},
   "source": [
    "NEW LECTURE: FUNCTIONS AND TUPLE UNPACKING\n",
    "\n",
    "RECALL THAT WE ARE ABLE TO LOOP THROUGH A LIST OF TUPLES AND UNPACK THE VALUES WITHIN THEM"
   ]
  },
  {
   "cell_type": "code",
   "execution_count": 35,
   "id": "32aec8b7-8fb8-4854-b436-e0cd304e5438",
   "metadata": {},
   "outputs": [],
   "source": [
    "# TUPLE UNPACKING EXAMPLE:\n",
    "\n",
    "# HERE WE HAVE A LIST OF TUPLES, AND WE WANT TO UNPACK THE TUPLE PAIRS\n",
    "\n",
    "stock_prices = [('APPL', 200), ('GOOG', 400), ('MSFT', 100)]"
   ]
  },
  {
   "cell_type": "code",
   "execution_count": 36,
   "id": "394f0a09-c341-4dbe-9224-b371c19973c0",
   "metadata": {},
   "outputs": [
    {
     "name": "stdout",
     "output_type": "stream",
     "text": [
      "('APPL', 200)\n",
      "('GOOG', 400)\n",
      "('MSFT', 100)\n"
     ]
    }
   ],
   "source": [
    "# this is not tuple unpacking:\n",
    "\n",
    "for item in stock_prices:\n",
    "    print(item)"
   ]
  },
  {
   "cell_type": "code",
   "execution_count": 37,
   "id": "d5d23b1c-eb94-43d6-abbb-616a36a1c6f1",
   "metadata": {},
   "outputs": [
    {
     "name": "stdout",
     "output_type": "stream",
     "text": [
      "APPL 200\n",
      "GOOG 400\n",
      "MSFT 100\n"
     ]
    }
   ],
   "source": [
    "# this is tuple unpacking\n",
    "\n",
    "for ticker, stock_price in stock_prices:\n",
    "    print(ticker, stock_price)"
   ]
  },
  {
   "cell_type": "code",
   "execution_count": 38,
   "id": "5ac252db-fdce-4116-afd7-72b5479befb5",
   "metadata": {},
   "outputs": [
    {
     "name": "stdout",
     "output_type": "stream",
     "text": [
      "APPL\n",
      "GOOG\n",
      "MSFT\n"
     ]
    }
   ],
   "source": [
    "# this is tuple unpacking\n",
    "# more tuple unpacking\n",
    "\n",
    "for ticker, stock_price in stock_prices:\n",
    "    print(ticker)"
   ]
  },
  {
   "cell_type": "code",
   "execution_count": 39,
   "id": "d64aae6c-1502-4718-b5d2-7d300506dbdc",
   "metadata": {},
   "outputs": [
    {
     "name": "stdout",
     "output_type": "stream",
     "text": [
      "200\n",
      "400\n",
      "100\n"
     ]
    }
   ],
   "source": [
    "# this is tuple unpacking\n",
    "# more tuple unpacking\n",
    "\n",
    "for ticker, stock_price in stock_prices:\n",
    "    print(stock_price)"
   ]
  },
  {
   "cell_type": "code",
   "execution_count": 40,
   "id": "89452712-4287-410f-a4af-ce4ad777c9d0",
   "metadata": {},
   "outputs": [
    {
     "name": "stdout",
     "output_type": "stream",
     "text": [
      "APPL 220.0\n",
      "GOOG 440.0\n",
      "MSFT 110.0\n"
     ]
    }
   ],
   "source": [
    "# checking for ten percent increas in price:\n",
    "\n",
    "for ticker,stock_price in stock_prices:\n",
    "    print(ticker, (stock_price + stock_price* 0.1))"
   ]
  },
  {
   "cell_type": "markdown",
   "id": "ea862c4a-2393-4aef-99fb-63aa93f5aab0",
   "metadata": {},
   "source": [
    "A FUNCTION CAN ALSO RETURN THINGS AS TUPLES, AND THEN WE CAN UNPACK THAT FUNCTION RESULT USING TUPLE UNPACKING"
   ]
  },
  {
   "cell_type": "code",
   "execution_count": 41,
   "id": "8eab66d2-9af7-4f7e-adad-58e1b589a788",
   "metadata": {},
   "outputs": [],
   "source": [
    "# EXAMPLE OF FUNCTIONS IN CONJUNCTION WITH TUPLES\n",
    "\n",
    "work_hours = [('Abby', 100), ('Billy', 400), ('Cassie', 800)]\n",
    "\n",
    "# we want to build a function that tracks which employee has worked the most hours in a given month (say for employee of the month or something)"
   ]
  },
  {
   "cell_type": "code",
   "execution_count": 42,
   "id": "0a256ef2-ede4-4025-bb50-4d7069a36d9a",
   "metadata": {},
   "outputs": [],
   "source": [
    "# building our employee hours tracker:\n",
    "# we want to return the empliyee name and the amount of hours worked\n",
    "\n",
    "\n",
    "def employee_hours_tracker(work_hours):\n",
    "#     need 2 placeholder variables\n",
    "    current_max = 0\n",
    "    employee_of_month = ''\n",
    "    \n",
    "    #WANT TO RETURN A TUPLE THAT RETURNS THE EMPLOYEE OF THJE MONTH AND THE CURRENT MAXIMUM HOURS\n",
    "    #CURRENT MAX WILL TRACK THE MAXIMUM AMOUNT OF HOURS ENCOUNTERED IN THE TUPLE SO FAR, AND IF A GREATER NUMBER OF HOURS COMES UP IT WILL REPLACE THE PRE-EXISTING CURRENT MAXIMUM HOURS\n",
    "    \n",
    "    for employee, hours in work_hours:\n",
    "        if hours > current_max:\n",
    "            current_max = hours\n",
    "            employee_of_month = employee\n",
    "        else:\n",
    "            pass\n",
    "    #what we want to return at the end of the function\n",
    "#     notice that our return statement returns a tuple datatype\n",
    "    return (employee_of_month, current_max)"
   ]
  },
  {
   "cell_type": "code",
   "execution_count": 43,
   "id": "53d519a5-67b5-401a-becb-9770593786ba",
   "metadata": {},
   "outputs": [
    {
     "data": {
      "text/plain": [
       "('Cassie', 800)"
      ]
     },
     "execution_count": 43,
     "metadata": {},
     "output_type": "execute_result"
    }
   ],
   "source": [
    "# testing function above:\n",
    "\n",
    "# list is present above but am sharing here for ease of reading\n",
    "work_hours = work_hours = [('Abby', 100), ('Billy', 400), ('Cassie', 800)]\n",
    "\n",
    "employee_hours_tracker(work_hours)"
   ]
  },
  {
   "cell_type": "code",
   "execution_count": 44,
   "id": "4c6eccc9-c9ab-4154-9631-bfc26019c5ee",
   "metadata": {},
   "outputs": [
    {
     "data": {
      "text/plain": [
       "('Cassie', 800)"
      ]
     },
     "execution_count": 44,
     "metadata": {},
     "output_type": "execute_result"
    }
   ],
   "source": [
    "result = employee_hours_tracker(work_hours)\n",
    "\n",
    "result"
   ]
  },
  {
   "cell_type": "code",
   "execution_count": 45,
   "id": "a4531698-fae2-41fe-9e7f-b8bde7754823",
   "metadata": {},
   "outputs": [
    {
     "data": {
      "text/plain": [
       "'Cassie'"
      ]
     },
     "execution_count": 45,
     "metadata": {},
     "output_type": "execute_result"
    }
   ],
   "source": [
    "# notice that we are both unpacking tuples here and assigining them to 2 different variables with one line of code\n",
    "\n",
    "name,hours = employee_hours_tracker(work_hours)\n",
    "\n",
    "name"
   ]
  },
  {
   "cell_type": "code",
   "execution_count": 46,
   "id": "b5711f39-25b7-4786-9078-4f735fa3dec7",
   "metadata": {},
   "outputs": [
    {
     "data": {
      "text/plain": [
       "800"
      ]
     },
     "execution_count": 46,
     "metadata": {},
     "output_type": "execute_result"
    }
   ],
   "source": [
    "hours"
   ]
  },
  {
   "cell_type": "code",
   "execution_count": 48,
   "id": "3b3dada3-0d8b-4fdf-b64a-416aa8e8d4b2",
   "metadata": {},
   "outputs": [
    {
     "ename": "ValueError",
     "evalue": "not enough values to unpack (expected 3, got 2)",
     "output_type": "error",
     "traceback": [
      "\u001b[0;31m---------------------------------------------------------------------------\u001b[0m",
      "\u001b[0;31mValueError\u001b[0m                                Traceback (most recent call last)",
      "\u001b[0;32m/var/folders/9l/kb4zxp_16lx6phccx7c7yk0r0000gn/T/ipykernel_21233/2102673869.py\u001b[0m in \u001b[0;36m<module>\u001b[0;34m\u001b[0m\n\u001b[1;32m      4\u001b[0m \u001b[0;34m\u001b[0m\u001b[0m\n\u001b[1;32m      5\u001b[0m \u001b[0;31m# example of code that would throw and error, aasking for three values from tuple output instead of the 2 the function actually outputs\u001b[0m\u001b[0;34m\u001b[0m\u001b[0;34m\u001b[0m\u001b[0;34m\u001b[0m\u001b[0m\n\u001b[0;32m----> 6\u001b[0;31m \u001b[0mname\u001b[0m\u001b[0;34m,\u001b[0m \u001b[0mhours\u001b[0m\u001b[0;34m,\u001b[0m \u001b[0mlocation\u001b[0m \u001b[0;34m=\u001b[0m \u001b[0memployee_hours_tracker\u001b[0m\u001b[0;34m(\u001b[0m\u001b[0mwork_hours\u001b[0m\u001b[0;34m)\u001b[0m\u001b[0;34m\u001b[0m\u001b[0;34m\u001b[0m\u001b[0m\n\u001b[0m\u001b[1;32m      7\u001b[0m \u001b[0;34m\u001b[0m\u001b[0m\n\u001b[1;32m      8\u001b[0m \u001b[0;31m# notice that the error code tells us how many values are actually output by the funtion: 2 not 3\u001b[0m\u001b[0;34m\u001b[0m\u001b[0;34m\u001b[0m\u001b[0;34m\u001b[0m\u001b[0m\n",
      "\u001b[0;31mValueError\u001b[0m: not enough values to unpack (expected 3, got 2)"
     ]
    }
   ],
   "source": [
    "# really common error is to assume the function ouputs more than it actually does\n",
    "# super common when using a function someone else wrote:\n",
    "\n",
    "\n",
    "# example of code that would throw and error, aasking for three values from tuple output instead of the 2 the function actually outputs\n",
    "name, hours, location = employee_hours_tracker(work_hours)\n",
    "\n",
    "# notice that the error code tells us how many values are actually output by the funtion: 2 not 3"
   ]
  },
  {
   "cell_type": "code",
   "execution_count": null,
   "id": "4c32f633-5d56-4cd4-aceb-43d5e8cced35",
   "metadata": {},
   "outputs": [],
   "source": [
    "# easiest way to deal with the error above is to return everything to a single item first so you can see the tuple output and code accordingly"
   ]
  },
  {
   "cell_type": "markdown",
   "id": "566a34b4-b72e-4f8f-b9a6-356a867696ee",
   "metadata": {},
   "source": [
    "NEXT LECTURE: INTERACTIONS BETWEEN FUNCTIONS\n",
    "\n",
    "TYPICALLY A PYTHON SCRIPT OR NOTEBOOK CONTAINS SEVERAL FUNCTIONS INTERACTING WITH EACH OTHER\n",
    "\n",
    "\n",
    "BELOW WE WILL CREATE A FEW FUNCTIONS THAT MIMIMC THE CARNIVAL GUESSING GAME \"THREE CUP MONTE\""
   ]
  },
  {
   "cell_type": "code",
   "execution_count": 49,
   "id": "f80f7488-3d23-4d95-a874-bd55c9adce20",
   "metadata": {},
   "outputs": [
    {
     "data": {
      "text/plain": [
       "'\\nwe will only replicate the effect of three cup moonte with a python list\\n\\n\\nour simple version will not show the shuffle to the user, so the guess is completely random\\n'"
      ]
     },
     "execution_count": 49,
     "metadata": {},
     "output_type": "execute_result"
    }
   ],
   "source": [
    "# FUNCTION CREATION FOR THREE CUP MONTE REPLICATION:\n",
    "# main goal of this exercise is to show how functions can interact with one another and pass outputs\n",
    "\n",
    "\n",
    "\"\"\"\n",
    "we will only replicate the effect of three cup moonte with a python list\n",
    "\n",
    "\n",
    "our simple version will not show the shuffle to the user, so the guess is completely random\n",
    "\"\"\""
   ]
  },
  {
   "cell_type": "code",
   "execution_count": 50,
   "id": "b8c509b9-e320-44df-bf94-253f183afe9c",
   "metadata": {},
   "outputs": [],
   "source": [
    "# here's how to shuffle a list at random \n",
    "# python comes with a built in list randomizer:\n",
    "\n",
    "example = [1,2,3,4,5,6,7]\n",
    "\n",
    "# want to randomly shuffle this list\n",
    "# suffle function will rnadomily shuffle our list in place\n",
    "from random import shuffle\n",
    "\n",
    "shuffle(example)"
   ]
  },
  {
   "cell_type": "code",
   "execution_count": 52,
   "id": "a3ecf99a-db07-411a-9ec5-d628165ad4e0",
   "metadata": {},
   "outputs": [
    {
     "data": {
      "text/plain": [
       "[3, 6, 7, 1, 5, 2, 4]"
      ]
     },
     "execution_count": 52,
     "metadata": {},
     "output_type": "execute_result"
    }
   ],
   "source": [
    "example\n",
    "\n",
    "# shuffle has worked in place, that's why we need to call the variable to see the return"
   ]
  },
  {
   "cell_type": "code",
   "execution_count": 53,
   "id": "97e031d2-dd4f-4250-80ee-755872ef22fa",
   "metadata": {},
   "outputs": [],
   "source": [
    "# creating a function here to shuffle the list and return an output\n",
    "\n",
    "def shuffle_list(mylist):\n",
    "    shuffle(mylist)\n",
    "    return mylist"
   ]
  },
  {
   "cell_type": "code",
   "execution_count": 55,
   "id": "476aa850-6ef7-4d7a-a77e-b60e545cf2dd",
   "metadata": {},
   "outputs": [
    {
     "data": {
      "text/plain": [
       "[6, 2, 5, 3, 7, 4, 1]"
      ]
     },
     "execution_count": 55,
     "metadata": {},
     "output_type": "execute_result"
    }
   ],
   "source": [
    "# function check here:\n",
    "\n",
    "result = shuffle_list(example)\n",
    "\n",
    "result"
   ]
  },
  {
   "cell_type": "code",
   "execution_count": 58,
   "id": "f0e95a78-c5aa-464e-af4c-088e6f9ce896",
   "metadata": {},
   "outputs": [],
   "source": [
    "# here we are building a list that will work with three cup monte replication:\n",
    "\n",
    "# O represents our ball\n",
    "\n",
    "game_list = ['', 'O', '']\n",
    "\n",
    "# so we have a function that can shuffle the list\n",
    "# now we need a function that can take in our player guess\n",
    "\n",
    "def player_guess():\n",
    "    # placeholder variable for player's guess\n",
    "    guess = ''\n",
    "    \n",
    "    while guess not in ['0', '1', '2']:\n",
    "#         remember input function only returns a string\n",
    "        guess = input(\"Pick a number, 0, 1, or 2\")\n",
    "    \n",
    "    return int(guess)"
   ]
  },
  {
   "cell_type": "code",
   "execution_count": 63,
   "id": "35232a2a-72b1-4ba4-a1d1-e7c7e5d7b789",
   "metadata": {},
   "outputs": [
    {
     "name": "stdin",
     "output_type": "stream",
     "text": [
      "Pick a number, 0, 1, or 2 1\n"
     ]
    },
    {
     "data": {
      "text/plain": [
       "1"
      ]
     },
     "execution_count": 63,
     "metadata": {},
     "output_type": "execute_result"
    }
   ],
   "source": [
    "# looking at function and input feature so far, output should be an integer \n",
    "\n",
    "player_guess()"
   ]
  },
  {
   "cell_type": "code",
   "execution_count": 65,
   "id": "0b152025-51a5-4906-be9e-7a22bd974ef7",
   "metadata": {},
   "outputs": [],
   "source": [
    "# now we need a function that checks if the player guess is correct or not\n",
    "\n",
    "def check_guess(mylist, guess):\n",
    "#     notice how instructor checks for guess correctness below, it's clean\n",
    "# he passes our guess variable as an index position to the sshuffled list\n",
    "    if mylist[guess] == 'O':\n",
    "        print(\"Correct!\")\n",
    "    else:\n",
    "        print(\"Wrong Guess!\")\n",
    "        print(mylist)\n",
    "    \n",
    "    "
   ]
  },
  {
   "cell_type": "code",
   "execution_count": 66,
   "id": "0fbcf8ec-f88e-468e-a59b-3c62eea8637e",
   "metadata": {},
   "outputs": [
    {
     "name": "stdin",
     "output_type": "stream",
     "text": [
      "Pick a number, 0, 1, or 2 1\n"
     ]
    },
    {
     "name": "stdout",
     "output_type": "stream",
     "text": [
      "Wrong Guess!\n",
      "['', '', 'O']\n"
     ]
    }
   ],
   "source": [
    "# now setting a final script and putting functions to gether\n",
    "\n",
    "\n",
    "\n",
    "# INTIAL LIST\n",
    "\n",
    "mylist = ['', 'O', '']\n",
    "\n",
    "# SHUFFLE LIST\n",
    "\n",
    "mixedup_list = shuffle_list(mylist)\n",
    "\n",
    "# USER GUESS\n",
    "\n",
    "guess = player_guess()\n",
    "\n",
    "# CHECK GUESS\n",
    "# this is where the functions really start to interact with each other\n",
    "\n",
    "check_guess(mixedup_list, guess)\n",
    "\n"
   ]
  },
  {
   "cell_type": "markdown",
   "id": "3fe0b54a-0f6e-4078-81e6-118dc5687931",
   "metadata": {},
   "source": [
    "ARGS AND KWARGS LECTURE:\n",
    "\n",
    "\n",
    "*args\n",
    "\n",
    "stands for arguments\n",
    "\n",
    "**kwargs\n",
    "\n",
    "stands for keyword arguments\n"
   ]
  },
  {
   "cell_type": "code",
   "execution_count": 3,
   "id": "3a04dfe3-896b-4435-8e14-dfffbdec07aa",
   "metadata": {},
   "outputs": [],
   "source": [
    "# creating a function that will aceept 2 numbers:\n",
    "\n",
    "def myfunc(a,b):\n",
    "#     returns 5% of the sume of a and b\n",
    "# passing values in as a tuple here to sum function\n",
    "    return sum((a,b)) * 0.05"
   ]
  },
  {
   "cell_type": "code",
   "execution_count": 5,
   "id": "0804023a-54ce-426d-bb37-4011d6a72d3b",
   "metadata": {},
   "outputs": [
    {
     "data": {
      "text/plain": [
       "5.0"
      ]
     },
     "execution_count": 5,
     "metadata": {},
     "output_type": "execute_result"
    }
   ],
   "source": [
    "# running function here:\n",
    "myfunc(40,60)"
   ]
  },
  {
   "cell_type": "code",
   "execution_count": 6,
   "id": "52d6b75d-f4ab-4b30-b553-3fe80b256b7d",
   "metadata": {},
   "outputs": [],
   "source": [
    "# questionarises of what if I had more numbers to pass\n",
    "# a and b are currently positional arguments, this required us to pass them i as a tuple\n",
    "# what if we want to workj with more than 2 numbers?\n",
    "\n",
    "# could keep adding more positional arguments, but this will become a pain\n",
    "# this is where *args comes in\n",
    "# *args allows us to take an arbitrary number of arguemtns in\n",
    "\n",
    "def myfunc(*args):\n",
    "    return sum(args) * 0.05"
   ]
  },
  {
   "cell_type": "code",
   "execution_count": 10,
   "id": "8cab191b-8244-44ca-a2a4-d430c6bcd118",
   "metadata": {},
   "outputs": [
    {
     "data": {
      "text/plain": [
       "2.25"
      ]
     },
     "execution_count": 10,
     "metadata": {},
     "output_type": "execute_result"
    }
   ],
   "source": [
    "# works with whatever number of arguments we want!\n",
    "# major efficiency boost, this is the point of *args\n",
    "# basically it will take in your arguments, make a tuple in the function, and proceed without an error\n",
    "\n",
    "# *args, the args portion could be anything you want, it's the * that isd critical\n",
    "# however by convention just use args, so *args\n",
    "\n",
    "myfunc(1,2,3,4,5,6,7,8,9,)"
   ]
  },
  {
   "cell_type": "code",
   "execution_count": 21,
   "id": "9265a026-aea5-4df8-85fa-42c63c7c017a",
   "metadata": {},
   "outputs": [],
   "source": [
    "# **kwrags allows use to create key-value pairs, so for a dictionary\n",
    "\n",
    "def myfunc(**kwargs):\n",
    "    if 'fruit' in kwargs:\n",
    "        print('My fruit of choice is {}'.format(kwargs['fruit']))\n",
    "    else:\n",
    "        print('I did not find any fruit here')"
   ]
  },
  {
   "cell_type": "code",
   "execution_count": 22,
   "id": "adcf4351-bb22-4a18-b3e0-3f62361d16d8",
   "metadata": {},
   "outputs": [
    {
     "name": "stdout",
     "output_type": "stream",
     "text": [
      "My fruit of choice is apple\n"
     ]
    }
   ],
   "source": [
    "# so what can we do with the **kwarg function above\n",
    "\n",
    "myfunc(fruit = 'apple')"
   ]
  },
  {
   "cell_type": "code",
   "execution_count": 23,
   "id": "5e124c62-becd-4028-ab3c-44ddcd2d568d",
   "metadata": {},
   "outputs": [
    {
     "name": "stdout",
     "output_type": "stream",
     "text": [
      "My fruit of choice is apple\n"
     ]
    }
   ],
   "source": [
    "# so what can we do with the **kwarg function above\n",
    "# notice that we can have a bunch of arguments and it will still just run what we coded in the function and call it in a much more flexible way\n",
    "\n",
    "myfunc(fruit = 'apple', veggie = 'lettuce')\n"
   ]
  },
  {
   "cell_type": "code",
   "execution_count": 41,
   "id": "b015f043-29a1-419b-aafc-4b9596325a8d",
   "metadata": {},
   "outputs": [],
   "source": [
    "def testfunc(**kwargs):\n",
    "    print(kwargs)"
   ]
  },
  {
   "cell_type": "code",
   "execution_count": 42,
   "id": "afb50662-2731-4cbe-9ca2-62cfc03af696",
   "metadata": {},
   "outputs": [
    {
     "name": "stdout",
     "output_type": "stream",
     "text": [
      "{'fruit': 'apple', 'veggie': 'lettuce'}\n"
     ]
    }
   ],
   "source": [
    "testfunc(fruit='apple',veggie='lettuce')"
   ]
  },
  {
   "cell_type": "code",
   "execution_count": 47,
   "id": "4c37a317-52a0-42ed-a97a-1e1e6c962cb8",
   "metadata": {},
   "outputs": [],
   "source": [
    "# example of using args and kwarhgs in combination\n",
    "\n",
    "def finalfunc(*args, **kwargs):\n",
    "#     breaking down function so we can really see what's going on\n",
    "    print(args)\n",
    "    print(kwargs)\n",
    "    print('I would like {} {}'.format(args[0], kwargs['food']))"
   ]
  },
  {
   "cell_type": "code",
   "execution_count": 49,
   "id": "6d76b838-59cb-48e3-8e9c-9c3ac2fc387a",
   "metadata": {},
   "outputs": [
    {
     "name": "stdout",
     "output_type": "stream",
     "text": [
      "(1, 2, 3, 4, 5, 6, 7, 8)\n",
      "{'fruit': 'orange', 'food': 'eggs'}\n",
      "I would like 1 eggs\n"
     ]
    }
   ],
   "source": [
    "# because we said args first, hten kwargs when defining our function arguments, we have to make sure our list goes in that order\n",
    "\n",
    "finalfunc(1,2,3,4,5,6,7,8, fruit = 'orange', food = 'eggs')"
   ]
  },
  {
   "cell_type": "markdown",
   "id": "f4bdd196-c5cc-44c8-8408-5e7a2b4f4a34",
   "metadata": {},
   "source": [
    "args and kwargs will be extremely useful when working with other libraries"
   ]
  },
  {
   "cell_type": "code",
   "execution_count": null,
   "id": "24a72928-c92b-4d46-9b42-93649b379445",
   "metadata": {},
   "outputs": [],
   "source": [
    " "
   ]
  }
 ],
 "metadata": {
  "kernelspec": {
   "display_name": "Python 3 (ipykernel)",
   "language": "python",
   "name": "python3"
  },
  "language_info": {
   "codemirror_mode": {
    "name": "ipython",
    "version": 3
   },
   "file_extension": ".py",
   "mimetype": "text/x-python",
   "name": "python",
   "nbconvert_exporter": "python",
   "pygments_lexer": "ipython3",
   "version": "3.7.11"
  }
 },
 "nbformat": 4,
 "nbformat_minor": 5
}
