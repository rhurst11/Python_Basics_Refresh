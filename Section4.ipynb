{
 "cells": [
  {
   "cell_type": "markdown",
   "id": "30e796b1-0083-4211-8a05-f12417a64eb7",
   "metadata": {},
   "source": [
    "If Elif and Else statements\n",
    "\n",
    "keywods:\n",
    "\n",
    "if\n",
    "elif\n",
    "else\n",
    "\n",
    "Control Flow syntax makes use of colons and indentation (whitespace)\n",
    "\n",
    "indentation system is absolutely crucial to Python\n",
    "    this indentation system is what makes python easily readable\n",
    "    \n",
    "   Syntax of an if statement:\n",
    "   \n",
    "if some_condition:\n",
    "    execute_this_code\n",
    "elif some_othercondition:\n",
    "    execute_something_else\n",
    "else:\n",
    "    do_something_else\n"
   ]
  },
  {
   "cell_type": "code",
   "execution_count": 2,
   "id": "53f80b89-7a8b-4d7a-a904-7b4914f16292",
   "metadata": {},
   "outputs": [
    {
     "name": "stdout",
     "output_type": "stream",
     "text": [
      "ITS TRUE!\n"
     ]
    }
   ],
   "source": [
    "if True:\n",
    "    print('ITS TRUE!')"
   ]
  },
  {
   "cell_type": "code",
   "execution_count": 3,
   "id": "2b43fd53-a334-4b68-ad77-38c9c43958be",
   "metadata": {},
   "outputs": [
    {
     "name": "stdout",
     "output_type": "stream",
     "text": [
      "ITS TRUE!\n"
     ]
    }
   ],
   "source": [
    "if 3 > 2:\n",
    "    print('ITS TRUE!')"
   ]
  },
  {
   "cell_type": "code",
   "execution_count": 4,
   "id": "ea6e313e-cb74-4e52-ac81-9db0b3ac68d3",
   "metadata": {},
   "outputs": [
    {
     "name": "stdout",
     "output_type": "stream",
     "text": [
      "feed me\n"
     ]
    }
   ],
   "source": [
    "hungry = True\n",
    "\n",
    "if hungry:\n",
    "    print('feed me')"
   ]
  },
  {
   "cell_type": "code",
   "execution_count": 5,
   "id": "11798a1d-8567-4445-8cc1-a3897d444733",
   "metadata": {},
   "outputs": [
    {
     "name": "stdout",
     "output_type": "stream",
     "text": [
      "I'm full\n"
     ]
    }
   ],
   "source": [
    "hungry = False\n",
    "\n",
    "if hungry:\n",
    "    print('feed me')\n",
    "else:\n",
    "    print(\"I'm full\")"
   ]
  },
  {
   "cell_type": "code",
   "execution_count": 6,
   "id": "b7a6ff3f-8ae6-432c-91b5-0bc003386f91",
   "metadata": {},
   "outputs": [
    {
     "name": "stdout",
     "output_type": "stream",
     "text": [
      "you are not at a bank\n"
     ]
    }
   ],
   "source": [
    "# discussing multiple branches in control flow:\n",
    "\n",
    "location = 'Bank'\n",
    "\n",
    "if location == 'Auto Shop':\n",
    "    print('you are at the auto shop')\n",
    "else:\n",
    "    print('you are not at a bank')"
   ]
  },
  {
   "cell_type": "code",
   "execution_count": 7,
   "id": "c650a251-2d35-4b43-b50f-902c70357dfe",
   "metadata": {},
   "outputs": [
    {
     "name": "stdout",
     "output_type": "stream",
     "text": [
      "I'm at the bank\n"
     ]
    }
   ],
   "source": [
    "location = 'Bank'\n",
    "\n",
    "if location == 'Auto Shop':\n",
    "    print('you are at the auto shop')\n",
    "elif location == 'Bank':\n",
    "    print(\"I'm at the bank\")\n",
    "else:\n",
    "    print('you are not at a bank')"
   ]
  },
  {
   "cell_type": "code",
   "execution_count": 8,
   "id": "56ffefe1-8914-43e7-8bb9-4df92531450a",
   "metadata": {},
   "outputs": [
    {
     "name": "stdout",
     "output_type": "stream",
     "text": [
      "Hello Sammy\n"
     ]
    }
   ],
   "source": [
    "name = 'Sammy'\n",
    "\n",
    "if name =='Frankie':\n",
    "    print('Hello Frankie')\n",
    "elif name == 'Sammy':\n",
    "    print('Hello Sammy')\n",
    "else:\n",
    "    print('who are you')"
   ]
  },
  {
   "cell_type": "markdown",
   "id": "f6d9981f-a28a-4bb4-bbe9-20587e5d5e2f",
   "metadata": {},
   "source": [
    "FOR LOOPS:\n",
    "    \n",
    "    MANY OBJECTS IN PYTHON ARE \"ITERABLE\"\n",
    "    \n",
    "        ITERABLE MEANS WE CAN ITERATE OVER EVERY ELEMENT IN THE OBJECT\n",
    "        \n",
    "        SUCH AS EVERY ELEMENT INA. LIST OR EVERY CHARACTER IN A STRING\n",
    "        \n",
    "        WE CAN USE LOOPS TO EXECUTE A BLOCK OF CODE FOR EVERY ITERATION"
   ]
  },
  {
   "cell_type": "code",
   "execution_count": 9,
   "id": "42b83517-767c-4032-8dbf-c839e71ad549",
   "metadata": {},
   "outputs": [
    {
     "name": "stdout",
     "output_type": "stream",
     "text": [
      "1\n",
      "2\n",
      "3\n"
     ]
    }
   ],
   "source": [
    "# SYNTAX OF A FOR LOOP:\n",
    "\n",
    "my_iterable = [1,2,3]\n",
    "# this iterable could be any other iterable object, not just a list\n",
    "\n",
    "for item_name in my_iterable:\n",
    "    print(item_name)"
   ]
  },
  {
   "cell_type": "code",
   "execution_count": 10,
   "id": "1d6cf4fd-ad15-4ee5-980a-ebd348475ecb",
   "metadata": {},
   "outputs": [],
   "source": [
    "# example for loops:\n",
    "\n",
    "mylist = [1,2,3,4,5,6,7,8,9,10]"
   ]
  },
  {
   "cell_type": "code",
   "execution_count": 11,
   "id": "9c1161e6-c717-4aa3-b143-7f44c8d05b37",
   "metadata": {},
   "outputs": [
    {
     "name": "stdout",
     "output_type": "stream",
     "text": [
      "1\n",
      "2\n",
      "3\n",
      "4\n",
      "5\n",
      "6\n",
      "7\n",
      "8\n",
      "9\n",
      "10\n"
     ]
    }
   ],
   "source": [
    "for number in mylist:\n",
    "    print(number)"
   ]
  },
  {
   "cell_type": "code",
   "execution_count": 12,
   "id": "b20add60-d251-46f8-b2cf-798a9e5697d8",
   "metadata": {},
   "outputs": [
    {
     "name": "stdout",
     "output_type": "stream",
     "text": [
      "hi\n",
      "hi\n",
      "hi\n",
      "hi\n",
      "hi\n",
      "hi\n",
      "hi\n",
      "hi\n",
      "hi\n",
      "hi\n"
     ]
    }
   ],
   "source": [
    "for x in mylist:\n",
    "    print('hi')"
   ]
  },
  {
   "cell_type": "code",
   "execution_count": 13,
   "id": "ebdbe414-57dc-4d0a-8f86-8d4b395909b1",
   "metadata": {},
   "outputs": [
    {
     "name": "stdout",
     "output_type": "stream",
     "text": [
      "2\n",
      "4\n",
      "6\n",
      "8\n",
      "10\n"
     ]
    },
    {
     "data": {
      "text/plain": [
       "\"\\nso % 2 is asking what the remainder is when you divide by 2, if it's 0 then it's an even number\\n\""
      ]
     },
     "execution_count": 13,
     "metadata": {},
     "output_type": "execute_result"
    }
   ],
   "source": [
    "for num in mylist:\n",
    "#     check for even\n",
    "    if num % 2 == 0:\n",
    "        print(num)\n",
    "        \n",
    "\"\"\"\n",
    "so % 2 is asking what the remainder is when you divide by 2, if it's 0 then it's an even number\n",
    "\"\"\""
   ]
  },
  {
   "cell_type": "code",
   "execution_count": 14,
   "id": "ccbb15c3-a18b-49d5-b0d6-9f9501d4aaa2",
   "metadata": {},
   "outputs": [
    {
     "name": "stdout",
     "output_type": "stream",
     "text": [
      "Odd Number: 1\n",
      "2\n",
      "Odd Number: 3\n",
      "4\n",
      "Odd Number: 5\n",
      "6\n",
      "Odd Number: 7\n",
      "8\n",
      "Odd Number: 9\n",
      "10\n"
     ]
    }
   ],
   "source": [
    "for num in mylist:\n",
    "#     check for even\n",
    "    if num % 2 == 0:\n",
    "        print(num)\n",
    "    else:\n",
    "        print(f'Odd Number: {num}')"
   ]
  },
  {
   "cell_type": "code",
   "execution_count": 15,
   "id": "a3a75fd9-7fe4-4387-bcde-b479d4f9511e",
   "metadata": {},
   "outputs": [
    {
     "name": "stdout",
     "output_type": "stream",
     "text": [
      "55\n"
     ]
    }
   ],
   "source": [
    "# common idea with for loops is keeping a running tally while iterating throuw loops\n",
    "# this version gives you total at end of iteration\n",
    "\n",
    "list_sum = 0\n",
    "\n",
    "for num in mylist:\n",
    "    list_sum = list_sum + num\n",
    "\n",
    "print(list_sum)"
   ]
  },
  {
   "cell_type": "code",
   "execution_count": 16,
   "id": "556d193e-5e1b-48f8-be5a-b95d6d419a7f",
   "metadata": {},
   "outputs": [
    {
     "name": "stdout",
     "output_type": "stream",
     "text": [
      "1\n",
      "3\n",
      "6\n",
      "10\n",
      "15\n",
      "21\n",
      "28\n",
      "36\n",
      "45\n",
      "55\n"
     ]
    }
   ],
   "source": [
    "# this version gives you total throughout the iteration\n",
    "# great exampl;e of why indetation and white space are so important\n",
    "\n",
    "list_sum = 0\n",
    "\n",
    "for num in mylist:\n",
    "    list_sum = list_sum + num\n",
    "\n",
    "    print(list_sum)"
   ]
  },
  {
   "cell_type": "code",
   "execution_count": 17,
   "id": "c41b069e-c9c6-413b-b3b1-d123a457f1ac",
   "metadata": {},
   "outputs": [
    {
     "name": "stdout",
     "output_type": "stream",
     "text": [
      "H\n",
      "e\n",
      "l\n",
      "l\n",
      "o\n",
      " \n",
      "W\n",
      "o\n",
      "r\n",
      "l\n",
      "d\n"
     ]
    }
   ],
   "source": [
    "mystring = 'Hello World'\n",
    "\n",
    "for letter in mystring:\n",
    "    print(letter)"
   ]
  },
  {
   "cell_type": "code",
   "execution_count": 18,
   "id": "fcb92cc6-dc7b-4e2b-82e1-507285240a31",
   "metadata": {},
   "outputs": [
    {
     "name": "stdout",
     "output_type": "stream",
     "text": [
      "H\n",
      "e\n",
      "l\n",
      "l\n",
      "o\n",
      " \n",
      "W\n",
      "o\n",
      "r\n",
      "l\n",
      "d\n"
     ]
    }
   ],
   "source": [
    "# could also go direct without using a variable:\n",
    "\n",
    "for letter in 'Hello World':\n",
    "    print(letter)"
   ]
  },
  {
   "cell_type": "code",
   "execution_count": 19,
   "id": "d5a220ad-72a7-4dfb-80d3-5f7cd4bfc23b",
   "metadata": {},
   "outputs": [
    {
     "name": "stdout",
     "output_type": "stream",
     "text": [
      "good methodology\n",
      "good methodology\n",
      "good methodology\n",
      "good methodology\n",
      "good methodology\n",
      "good methodology\n",
      "good methodology\n",
      "good methodology\n",
      "good methodology\n",
      "good methodology\n",
      "good methodology\n",
      "good methodology\n",
      "good methodology\n",
      "good methodology\n",
      "good methodology\n",
      "good methodology\n",
      "good methodology\n"
     ]
    }
   ],
   "source": [
    "#  a great syntax for when you iterate through but fdon;t intend to use the variable name given to your iterating variabel: is to use an _\n",
    "\n",
    "for _ in 'Use an Underscore':\n",
    "    print('good methodology')\n",
    "\n"
   ]
  },
  {
   "cell_type": "code",
   "execution_count": 20,
   "id": "08e39b45-787f-4c12-9683-f569e410742a",
   "metadata": {},
   "outputs": [
    {
     "name": "stdout",
     "output_type": "stream",
     "text": [
      "1\n",
      "2\n",
      "3\n"
     ]
    }
   ],
   "source": [
    "tup = (1, 2, 3)\n",
    "\n",
    "for item in tup:\n",
    "    print(item)"
   ]
  },
  {
   "cell_type": "code",
   "execution_count": 21,
   "id": "0b964bd0-71f4-48b4-9ab5-5236155d19da",
   "metadata": {},
   "outputs": [],
   "source": [
    "# tuple unpacking,tuples have a special quality regarding forloops\n",
    "# when iterating through a sequence that contains itself tuples, the item can be used with tuple unpacking\n",
    "\n",
    "mylist = [(1,2), (3,4), (5,6), (7, 8)]\n",
    "\n"
   ]
  },
  {
   "cell_type": "code",
   "execution_count": 22,
   "id": "0c1f1967-1d9f-4e74-9345-e33a8def7e33",
   "metadata": {},
   "outputs": [
    {
     "data": {
      "text/plain": [
       "4"
      ]
     },
     "execution_count": 22,
     "metadata": {},
     "output_type": "execute_result"
    }
   ],
   "source": [
    "len(mylist)"
   ]
  },
  {
   "cell_type": "code",
   "execution_count": 23,
   "id": "ce7bdae3-11a1-4e66-b110-540b38dd3ed9",
   "metadata": {},
   "outputs": [
    {
     "name": "stdout",
     "output_type": "stream",
     "text": [
      "(1, 2)\n",
      "(3, 4)\n",
      "(5, 6)\n",
      "(7, 8)\n"
     ]
    }
   ],
   "source": [
    "for x in mylist:\n",
    "    print(x)"
   ]
  },
  {
   "cell_type": "code",
   "execution_count": 24,
   "id": "d81913b9-d2ee-4f1e-8d8c-8321deb02f09",
   "metadata": {},
   "outputs": [
    {
     "name": "stdout",
     "output_type": "stream",
     "text": [
      "1\n",
      "2\n",
      "3\n",
      "4\n",
      "5\n",
      "6\n",
      "7\n",
      "8\n"
     ]
    }
   ],
   "source": [
    "# tuples inside of a list are extreemyl common\n",
    "# this is because of tuple unpacking, shown in this cell:\n",
    "\n",
    "# THIS IS TUPLE UNPACKING:\n",
    "for a,b in mylist:\n",
    "    print(a)\n",
    "    print(b)"
   ]
  },
  {
   "cell_type": "code",
   "execution_count": 25,
   "id": "05f2aec0-44a6-4052-bfca-b3dc8d8fa1ff",
   "metadata": {},
   "outputs": [
    {
     "name": "stdout",
     "output_type": "stream",
     "text": [
      "1\n",
      "2\n",
      "3\n",
      "5\n",
      "6\n",
      "7\n",
      "8\n",
      "9\n",
      "10\n"
     ]
    }
   ],
   "source": [
    "# another example of tuple unpacking:\n",
    "\n",
    "newlist = [(1,2,3), (5,6,7), (8,9,10)]\n",
    "\n",
    "for a,b,c in newlist:\n",
    "    print(a)\n",
    "    print(b)\n",
    "    print(c)"
   ]
  },
  {
   "cell_type": "code",
   "execution_count": 26,
   "id": "fe2cb6cf-fa5a-475a-9352-9deeff7ff47f",
   "metadata": {},
   "outputs": [
    {
     "name": "stdout",
     "output_type": "stream",
     "text": [
      "1 2 3\n",
      "5 6 7\n",
      "8 9 10\n"
     ]
    }
   ],
   "source": [
    "for a,b,c in newlist:\n",
    "    print(a, b, c)"
   ]
  },
  {
   "cell_type": "code",
   "execution_count": 27,
   "id": "2d97c8c6-c5b1-458d-bb00-19a54ccd27a6",
   "metadata": {},
   "outputs": [
    {
     "name": "stdout",
     "output_type": "stream",
     "text": [
      "k1\n",
      "k2\n",
      "k3\n"
     ]
    }
   ],
   "source": [
    "# ITERATING THROUGHA DICTIONARY\n",
    "\n",
    "d = {'k1':1, 'k2': 2, 'k3': 3} \n",
    "\n",
    "for item in d:\n",
    "    print(item)\n",
    "    \n",
    "# notice that the default for iterating through a dictionary only iterates through the keys\n",
    "\n",
    "# need to vall .items to get the key value pairs\n",
    "# ALSO can use tuple unpacking instead AS shown in next cell:"
   ]
  },
  {
   "cell_type": "code",
   "execution_count": 28,
   "id": "61a732ed-ede8-4ec6-a7a0-41402350ff08",
   "metadata": {},
   "outputs": [
    {
     "name": "stdout",
     "output_type": "stream",
     "text": [
      "k 1\n",
      "k 2\n",
      "k 3\n"
     ]
    }
   ],
   "source": [
    "for key,value in d:\n",
    "    print(key, value)"
   ]
  },
  {
   "cell_type": "code",
   "execution_count": 29,
   "id": "998429e8-70f9-45c1-bc56-bb17b83313e4",
   "metadata": {},
   "outputs": [
    {
     "name": "stdout",
     "output_type": "stream",
     "text": [
      "1\n",
      "2\n",
      "3\n"
     ]
    }
   ],
   "source": [
    "for key,value in d:\n",
    "    print(value)"
   ]
  },
  {
   "cell_type": "code",
   "execution_count": 30,
   "id": "0e9787f0-c460-4330-94d6-f3f61b45541f",
   "metadata": {},
   "outputs": [
    {
     "name": "stdout",
     "output_type": "stream",
     "text": [
      "('k1', 1)\n",
      "('k2', 2)\n",
      "('k3', 3)\n"
     ]
    }
   ],
   "source": [
    "for pairs in d.items():\n",
    "    print(pairs)"
   ]
  },
  {
   "cell_type": "code",
   "execution_count": 31,
   "id": "2291ec9f-c315-4156-95d1-d6b0c76348a2",
   "metadata": {},
   "outputs": [],
   "source": [
    "# remember that dictionaries ar un-ordered, so there's no guaruntee you will get them returned in the order that you put them in"
   ]
  },
  {
   "cell_type": "markdown",
   "id": "320ba170-5eb4-489e-8ce0-279da5632e54",
   "metadata": {},
   "source": [
    "WHILE LOOPS:\n",
    "\n",
    "while loops will cotninue to execute a block of code while some condition is true\n",
    "\n",
    "For example:\n",
    "while my pool is'nt full, keep filling my pool with water\n",
    "\n",
    "or while my dogs are still hungry, keep feeding my dogs\n",
    "\n",
    "\n",
    "\n",
    "SYNBTAX of a WHILE LOOP\n",
    "\n",
    "   while some_boolean_condition:\n",
    "       # do some action\n",
    "   else:\n",
    "       # do something different"
   ]
  },
  {
   "cell_type": "code",
   "execution_count": 35,
   "id": "90100d2c-7bde-4a47-9ecc-eb3fd59f85e3",
   "metadata": {},
   "outputs": [
    {
     "name": "stdout",
     "output_type": "stream",
     "text": [
      "the current value of x is 0\n",
      "the current value of x is 1\n",
      "the current value of x is 2\n",
      "the current value of x is 3\n",
      "the current value of x is 4\n",
      "X IS NOT LESS THAN 5\n"
     ]
    }
   ],
   "source": [
    "# further exploring while loops:\n",
    "\n",
    "x = 0\n",
    "\n",
    "while x < 5:\n",
    "    print(f'the current value of x is {x}')\n",
    "    x = x+1\n",
    "else:\n",
    "    print('X IS NOT LESS THAN 5')\n",
    "\n",
    "    \n",
    "# REMEMBER: YOU CAN ACCIDENTALLY MAKE INFININTE WHILE LOOPS\n",
    "# CAN PRESS INTERRUPT OR RESTART IN THE KERNEL \n",
    "# SOMETIME INTERRUPT WON:T WORK BECAUSE THE WHILE LOOP IS CONSUMING TOO MUCH OF YOUR COMPUTING POWER\n",
    "\n",
    "# can also write x = x + 1 as x += 1"
   ]
  },
  {
   "cell_type": "markdown",
   "id": "fec48088-95b0-47e5-ab21-76dff7babb6f",
   "metadata": {},
   "source": [
    "CRUCIAL KEYWORDS WHEN WORKING WITH LOOP:\n",
    "\n",
    "break:\n",
    "\n",
    "Breaks out of the current closest enclosing loop\n",
    "\n",
    "continue:\n",
    "\n",
    "continue goes to the top of the closest enclosing loop\n",
    "\n",
    "pass:\n",
    "\n",
    "pass does nothing at all"
   ]
  },
  {
   "cell_type": "code",
   "execution_count": 37,
   "id": "74496adb-4d5c-418e-9b18-f8f42e6e894f",
   "metadata": {},
   "outputs": [
    {
     "name": "stdout",
     "output_type": "stream",
     "text": [
      "passing for loop right now\n"
     ]
    }
   ],
   "source": [
    "# working with pass keyword\n",
    "\n",
    "x = [1,2,3]\n",
    "\n",
    "for item in x:\n",
    "#     can't just fill a loop with acomment, it will still throw a syntax error\n",
    "# what you can do is run a pass keyword to avoid the error while you are building out your code\n",
    "\n",
    "    pass\n",
    "print('passing for loop right now')"
   ]
  },
  {
   "cell_type": "code",
   "execution_count": 39,
   "id": "888be8ac-2593-42f1-8384-9f95b7abca6c",
   "metadata": {},
   "outputs": [
    {
     "name": "stdout",
     "output_type": "stream",
     "text": [
      "S\n",
      "a\n",
      "m\n",
      "m\n",
      "y\n"
     ]
    }
   ],
   "source": [
    "# working with cotinue keyword, next 2 cells\n",
    "\n",
    "mystring = 'Sammy'\n",
    "\n",
    "for letter in mystring:\n",
    "    print(letter)"
   ]
  },
  {
   "cell_type": "code",
   "execution_count": 40,
   "id": "98c199b3-53ea-424f-86f4-833d827280eb",
   "metadata": {},
   "outputs": [
    {
     "name": "stdout",
     "output_type": "stream",
     "text": [
      "S\n",
      "m\n",
      "m\n",
      "y\n"
     ]
    }
   ],
   "source": [
    "# say we want to avoid a particular character when we iterate through our string\n",
    "# we can use the continue keyword to do that:\n",
    "\n",
    "mystring = 'Sammy'\n",
    "\n",
    "for letter in mystring:\n",
    "    if letter == 'a':\n",
    "        continue\n",
    "    print(letter)"
   ]
  },
  {
   "cell_type": "code",
   "execution_count": 41,
   "id": "470f77a1-191f-4520-ba33-31b6469eaf42",
   "metadata": {},
   "outputs": [
    {
     "name": "stdout",
     "output_type": "stream",
     "text": [
      "S\n"
     ]
    }
   ],
   "source": [
    "# working with break keyword, using code from above\n",
    "\n",
    "mystring = 'Sammy'\n",
    "\n",
    "for letter in mystring:\n",
    "    if letter == 'a':\n",
    "        break\n",
    "    print(letter)\n",
    "    "
   ]
  },
  {
   "cell_type": "code",
   "execution_count": 42,
   "id": "78db234e-8d59-482a-bcac-6e80147c52b6",
   "metadata": {},
   "outputs": [
    {
     "name": "stdout",
     "output_type": "stream",
     "text": [
      "0\n",
      "1\n",
      "2\n",
      "3\n",
      "4\n"
     ]
    }
   ],
   "source": [
    "# breaks are particularly useful with while statements, see in next 2 cells:\n",
    "\n",
    "x = 0\n",
    "\n",
    "while x < 5:\n",
    "    print(x)\n",
    "    x +=1"
   ]
  },
  {
   "cell_type": "code",
   "execution_count": 43,
   "id": "44bd4f20-eea5-4687-8a7e-f36d07e5ca59",
   "metadata": {},
   "outputs": [
    {
     "name": "stdout",
     "output_type": "stream",
     "text": [
      "0\n",
      "1\n"
     ]
    }
   ],
   "source": [
    "# now using break with a while loop\n",
    "\n",
    "x = 0\n",
    "\n",
    "while x < 5:\n",
    "    if x ==2:\n",
    "        break\n",
    "    print(x)\n",
    "    x +=1"
   ]
  },
  {
   "cell_type": "markdown",
   "id": "647a07ac-6239-41e0-ad57-20cc3ce2b4e3",
   "metadata": {},
   "source": [
    "USEFUL OPERATORS IN PYTHON:\n",
    "\n",
    "THERE ARE SOME ADDITIONAL BUILT IN FUNCTIONS AND OPERATOR KEYWORDS THAT ARE PARTICULARLY USEFUL:"
   ]
  },
  {
   "cell_type": "code",
   "execution_count": 45,
   "id": "3f1853de-b5e9-43b9-a8ab-88f9c47b493a",
   "metadata": {},
   "outputs": [
    {
     "name": "stdout",
     "output_type": "stream",
     "text": [
      "0\n",
      "1\n",
      "2\n",
      "3\n",
      "4\n",
      "5\n",
      "6\n",
      "7\n",
      "8\n",
      "9\n"
     ]
    }
   ],
   "source": [
    "# RANGE FUNCTION IS SUPER USEFUL\n",
    "\n",
    "\"\"\"\n",
    "CAN USE RANGE TO ITERATE THROUGH A RANGE IN AN OBJECT SUCH AS AN INDEX\n",
    "\"\"\"\n",
    "\n",
    "# example of iterating through with a range keyword:\n",
    "\n",
    "for num in range(10):\n",
    "    print(num)"
   ]
  },
  {
   "cell_type": "code",
   "execution_count": 46,
   "id": "fdd6cda4-c229-46bc-9168-081b1dd51b32",
   "metadata": {},
   "outputs": [
    {
     "name": "stdout",
     "output_type": "stream",
     "text": [
      "3\n",
      "4\n",
      "5\n",
      "6\n",
      "7\n",
      "8\n",
      "9\n"
     ]
    }
   ],
   "source": [
    "# say we want to sepcify a starting position for our range function:\n",
    "\n",
    "# example of iterating through with a range keyword:\n",
    "\n",
    "for num in range(3,10):\n",
    "    print(num)"
   ]
  },
  {
   "cell_type": "code",
   "execution_count": 47,
   "id": "2f8f9487-76e5-41ce-8e79-07c7649ce937",
   "metadata": {},
   "outputs": [
    {
     "name": "stdout",
     "output_type": "stream",
     "text": [
      "3\n",
      "5\n",
      "7\n",
      "9\n"
     ]
    }
   ],
   "source": [
    "# say we want to sepcify a starting position for our range function:\n",
    "\n",
    "# we can also adjust our step size, as we iterate through by adding a third parameter to the range function\n",
    "\n",
    "# example of iterating through with a range keyword:\n",
    "\n",
    "for num in range(3,10, 2):\n",
    "    print(num)"
   ]
  },
  {
   "cell_type": "code",
   "execution_count": 48,
   "id": "87b3ecb2-b1f7-4ad8-ac10-47ad9390cef4",
   "metadata": {},
   "outputs": [
    {
     "data": {
      "text/plain": [
       "range(0, 11, 2)"
      ]
     },
     "execution_count": 48,
     "metadata": {},
     "output_type": "execute_result"
    }
   ],
   "source": [
    "# notice that if you just call a range function, it will provide you with a less than useful output,\n",
    "\n",
    "# this is because the range function is a generator, it is not going to give you a basic object\n",
    "\n",
    "range(0, 11, 2)"
   ]
  },
  {
   "cell_type": "code",
   "execution_count": 49,
   "id": "fbe4efc8-bbf2-490a-b5cb-ee6e47779eaa",
   "metadata": {},
   "outputs": [
    {
     "data": {
      "text/plain": [
       "[0, 2, 4, 6, 8, 10]"
      ]
     },
     "execution_count": 49,
     "metadata": {},
     "output_type": "execute_result"
    }
   ],
   "source": [
    "list(range(0,11,2))"
   ]
  },
  {
   "cell_type": "code",
   "execution_count": 50,
   "id": "506c54c8-f678-424d-804d-d89b4687b785",
   "metadata": {},
   "outputs": [],
   "source": [
    "# a generator is really just a special type of function that generates data rather than saving it to memory "
   ]
  },
  {
   "cell_type": "code",
   "execution_count": 52,
   "id": "9e438047-b561-422a-832b-6ca2ab6f545d",
   "metadata": {},
   "outputs": [
    {
     "name": "stdout",
     "output_type": "stream",
     "text": [
      "At index 0 the letter is a\n",
      "At index 1 the letter is b\n",
      "At index 2 the letter is c\n",
      "At index 3 the letter is d\n",
      "At index 4 the letter is e\n"
     ]
    }
   ],
   "source": [
    "# NOW DISCUSSING THE ENUMERATE FUNCTION:\n",
    "\n",
    "# below is a super common kind of iterating function\n",
    "# it is such a common use case for a loop that the keyword enumerate has been built to just fill the role for sake of efficiency:\n",
    "# basically if you want some sort of counter while looping, you would use enumerate\n",
    "\n",
    "index_count = 0\n",
    "\n",
    "for letter in 'abcde':\n",
    "    print('At index {} the letter is {}'.format(index_count, letter))\n",
    "    index_count += 1"
   ]
  },
  {
   "cell_type": "code",
   "execution_count": 53,
   "id": "940b7af4-4b06-47ab-afc0-b0a38cb37611",
   "metadata": {},
   "outputs": [
    {
     "name": "stdout",
     "output_type": "stream",
     "text": [
      "a\n",
      "b\n",
      "c\n",
      "d\n",
      "e\n"
     ]
    }
   ],
   "source": [
    "# A breakdown of what enumerate does without the keyword itself:\n",
    "\n",
    "index_count = 0\n",
    "word = 'abcde'\n",
    "\n",
    "for letter in word:\n",
    "    print(word[index_count])\n",
    "    index_count += 1\n",
    "\n"
   ]
  },
  {
   "cell_type": "code",
   "execution_count": 57,
   "id": "5f82ea37-2d9e-4af4-a061-f3747a975410",
   "metadata": {},
   "outputs": [
    {
     "name": "stdout",
     "output_type": "stream",
     "text": [
      "(0, 'a')\n",
      "(1, 'b')\n",
      "(2, 'c')\n",
      "(3, 'd')\n",
      "(4, 'e')\n"
     ]
    }
   ],
   "source": [
    "# here's the same output but using enumerate\n",
    "\n",
    "word = 'abcde'\n",
    "\n",
    "for item in enumerate(word):\n",
    "    print(item)"
   ]
  },
  {
   "cell_type": "code",
   "execution_count": 58,
   "id": "fc0ef2c2-d305-4ba4-8622-bffe09531ba5",
   "metadata": {},
   "outputs": [
    {
     "name": "stdout",
     "output_type": "stream",
     "text": [
      "0\n",
      "a\n",
      "\n",
      "\n",
      "1\n",
      "b\n",
      "\n",
      "\n",
      "2\n",
      "c\n",
      "\n",
      "\n",
      "3\n",
      "d\n",
      "\n",
      "\n",
      "4\n",
      "e\n",
      "\n",
      "\n"
     ]
    }
   ],
   "source": [
    "# notice thatenumerat ebasically gives us the index count and corresponding letter in tuples\n",
    "# we can then use tuple unpacking accordingly if desired:\n",
    "\n",
    "# here is the same example but using tuple unpacking when printing outputs:\n",
    "word = 'abcde'\n",
    "\n",
    "for index,letter in enumerate(word):\n",
    "    print(index)\n",
    "    print(letter)\n",
    "    print('\\n')"
   ]
  },
  {
   "cell_type": "markdown",
   "id": "e15e498d-89b0-409a-a7fd-ee882a51c802",
   "metadata": {},
   "source": [
    "NOW DISCUSSING THE ZIP FUNCTION IT;S ALMOST LIKE AN OPPOSITE TO THE ENUMERATE FUNCTION:\n",
    "\n",
    "BASICALLY IT CAN ZIP TOGETHER 2 or more LISTS:"
   ]
  },
  {
   "cell_type": "code",
   "execution_count": 62,
   "id": "68c97b15-ab9f-4478-8111-efb0dc5b45fc",
   "metadata": {},
   "outputs": [
    {
     "data": {
      "text/plain": [
       "<zip at 0x7ffe2157b910>"
      ]
     },
     "execution_count": 62,
     "metadata": {},
     "output_type": "execute_result"
    }
   ],
   "source": [
    "# WORKING WITH THE ZIP FUNCTION\n",
    "\n",
    "mylist1 = [1,2,3]\n",
    "\n",
    "mylist2 = ['a', 'b', 'c']\n",
    "\n",
    "# notice that if we just run zip, we don;t get any displayed output:\n",
    "# it just gives you the location of the zipped output in your computer memory\n",
    "\n",
    "zip(mylist1, mylist2)"
   ]
  },
  {
   "cell_type": "code",
   "execution_count": 63,
   "id": "8a97b440-bdf3-49ac-bd07-f9ce89c54a07",
   "metadata": {},
   "outputs": [
    {
     "name": "stdout",
     "output_type": "stream",
     "text": [
      "(1, 'a')\n",
      "(2, 'b')\n",
      "(3, 'c')\n"
     ]
    }
   ],
   "source": [
    "# here's how to see the output of a zip function when zipping:\n",
    "# notice that it provides backa. list of tuples!!!\n",
    "\n",
    "\n",
    "mylist1 = [1,2,3]\n",
    "\n",
    "mylist2 = ['a', 'b', 'c']\n",
    "\n",
    "for item in zip(mylist1, mylist2):\n",
    "    print(item)"
   ]
  },
  {
   "cell_type": "code",
   "execution_count": 64,
   "id": "bb738960-ba6f-45c4-977d-a56f439f9ce5",
   "metadata": {},
   "outputs": [
    {
     "name": "stdout",
     "output_type": "stream",
     "text": [
      "(1, 'a', 100)\n",
      "(2, 'b', 200)\n",
      "(3, 'c', 300)\n"
     ]
    }
   ],
   "source": [
    "# example of zipping together 3 lists:\n",
    "\n",
    "mylist1 = [1,2,3]\n",
    "\n",
    "mylist2 = ['a', 'b', 'c']\n",
    "\n",
    "mylist3 = [100, 200, 300]\n",
    "\n",
    "for item in zip(mylist1, mylist2, mylist3):\n",
    "    print(item)\n",
    "    "
   ]
  },
  {
   "cell_type": "code",
   "execution_count": 65,
   "id": "d7cb7fd8-a003-4241-920c-38ecbf9cd482",
   "metadata": {},
   "outputs": [
    {
     "name": "stdout",
     "output_type": "stream",
     "text": [
      "(1, 'a', 100)\n",
      "(2, 'b', 200)\n",
      "(3, 'c', 300)\n"
     ]
    }
   ],
   "source": [
    "# here's what happens if you zip together lists that are uneven:\n",
    "\n",
    "# basically it only zips together to the length of the hsortest list and ignores everything extra:\n",
    "\n",
    "mylist1 = [1,2,3]\n",
    "\n",
    "mylist2 = ['a', 'b', 'c']\n",
    "\n",
    "mylist3 = [100, 200, 300, 400, 500]\n",
    "\n",
    "for item in zip(mylist1, mylist2, mylist3):\n",
    "    print(item)\n",
    "    "
   ]
  },
  {
   "cell_type": "code",
   "execution_count": 66,
   "id": "f755e142-2726-4b28-83a1-7a30e6f5fb7b",
   "metadata": {},
   "outputs": [
    {
     "data": {
      "text/plain": [
       "[(1, 'a', 100), (2, 'b', 200), (3, 'c', 300)]"
      ]
     },
     "execution_count": 66,
     "metadata": {},
     "output_type": "execute_result"
    }
   ],
   "source": [
    "# can also zip together lists without iterating, and you will get a list of tuples output directly:\n",
    "\n",
    "list(zip(mylist1, mylist2, mylist3))"
   ]
  },
  {
   "cell_type": "markdown",
   "id": "8eec1ea3-89c7-4ca6-ad73-82455ec9b533",
   "metadata": {},
   "source": [
    "NOW DISCUSSING IN OPERATOR:\n",
    "\n",
    "you can use in during a for loop obviously, but you can also use it to quickly check if an object is in a list, a string, or a dictionary (only works for keys though unless you explicitly call the items or value functions) and the function will return a boolean:"
   ]
  },
  {
   "cell_type": "code",
   "execution_count": 68,
   "id": "e4761b5d-615d-4f27-8c43-4490bec3dbaf",
   "metadata": {},
   "outputs": [
    {
     "data": {
      "text/plain": [
       "False"
      ]
     },
     "execution_count": 68,
     "metadata": {},
     "output_type": "execute_result"
    }
   ],
   "source": [
    "'x' in [1,2,3]"
   ]
  },
  {
   "cell_type": "code",
   "execution_count": 69,
   "id": "0f24b663-aa4b-4654-be19-369e58281326",
   "metadata": {},
   "outputs": [
    {
     "data": {
      "text/plain": [
       "True"
      ]
     },
     "execution_count": 69,
     "metadata": {},
     "output_type": "execute_result"
    }
   ],
   "source": [
    "'x' in ['x', 'y', 'z']"
   ]
  },
  {
   "cell_type": "code",
   "execution_count": 70,
   "id": "0f4b5165-c8b8-4517-abc3-921c96e1d5c2",
   "metadata": {},
   "outputs": [
    {
     "data": {
      "text/plain": [
       "True"
      ]
     },
     "execution_count": 70,
     "metadata": {},
     "output_type": "execute_result"
    }
   ],
   "source": [
    "'a' in 'a world'"
   ]
  },
  {
   "cell_type": "code",
   "execution_count": 71,
   "id": "d6febe14-579c-4bcb-970a-eff886804ba1",
   "metadata": {},
   "outputs": [
    {
     "data": {
      "text/plain": [
       "True"
      ]
     },
     "execution_count": 71,
     "metadata": {},
     "output_type": "execute_result"
    }
   ],
   "source": [
    "'mykey' in {'mykey': 345}"
   ]
  },
  {
   "cell_type": "code",
   "execution_count": 73,
   "id": "ed62e2ee-75c0-4fc1-9add-c58c1dc17568",
   "metadata": {},
   "outputs": [
    {
     "data": {
      "text/plain": [
       "True"
      ]
     },
     "execution_count": 73,
     "metadata": {},
     "output_type": "execute_result"
    }
   ],
   "source": [
    "# checking for a value in a dictionary (NOT A KEY)\n",
    "\n",
    "d = {'mykey': 345}\n",
    "\n",
    "345 in d.values()"
   ]
  },
  {
   "cell_type": "markdown",
   "id": "b81fc82b-ec26-4d2c-a6fe-0e121bef0323",
   "metadata": {},
   "source": [
    "SOME SUPER USEFUL MATHEMATICAL FUNCTIONS:\n",
    "\n",
    "MIN OR MAX FUNCTIONS\n",
    "\n",
    "THE RANDOM LIBRARY"
   ]
  },
  {
   "cell_type": "code",
   "execution_count": 74,
   "id": "a4ab0153-1f93-4388-ac56-fcd23056978d",
   "metadata": {},
   "outputs": [
    {
     "data": {
      "text/plain": [
       "1"
      ]
     },
     "execution_count": 74,
     "metadata": {},
     "output_type": "execute_result"
    }
   ],
   "source": [
    "# Using th e iminimum funcion:\n",
    "\n",
    "mylist = [1,2,500,400,3]\n",
    "\n",
    "min(mylist)"
   ]
  },
  {
   "cell_type": "code",
   "execution_count": 75,
   "id": "96f1b166-97a8-4a8c-a3ea-0e871f9632e4",
   "metadata": {},
   "outputs": [
    {
     "data": {
      "text/plain": [
       "500"
      ]
     },
     "execution_count": 75,
     "metadata": {},
     "output_type": "execute_result"
    }
   ],
   "source": [
    "max(mylist)"
   ]
  },
  {
   "cell_type": "code",
   "execution_count": 76,
   "id": "53ec5023-7c54-4495-9dcc-75e78e12d29c",
   "metadata": {},
   "outputs": [],
   "source": [
    "# THE RANDOM LIBRARY\n",
    "# THIS IS A BUILT IN LIBRARY\n",
    "\n",
    "# WE WILL IMPORT THE LIBRARY / OR IMPORT FUNCTIONS FROM THE LIBRARY\n"
   ]
  },
  {
   "cell_type": "code",
   "execution_count": 77,
   "id": "88a70f71-b520-4716-b936-6c9ae99c266c",
   "metadata": {},
   "outputs": [],
   "source": [
    "# importing a function from the random libnrary:\n",
    "# press tab to see the list of what you can import from the called library\n",
    "\n",
    "# we will import shuffle:\n",
    "\n",
    "from random import shuffle\n"
   ]
  },
  {
   "cell_type": "code",
   "execution_count": 80,
   "id": "ded77d67-1977-4860-9238-0da96a5d80a5",
   "metadata": {},
   "outputs": [
    {
     "data": {
      "text/plain": [
       "[10, 5, 4, 3, 6, 8, 2, 9, 7, 1]"
      ]
     },
     "execution_count": 80,
     "metadata": {},
     "output_type": "execute_result"
    }
   ],
   "source": [
    "# the shuffle funcion will reandomly shuffle around any list:\n",
    "\n",
    "listtobeshuffled = [1,2,3,4,5,6,7,8,9,10]\n",
    "\n",
    "# the shuffle function itself doesn't return anything, it operates in place on the given list)\n",
    "\n",
    "shuffle(listtobeshuffled)\n",
    "\n",
    "# notice that this list is now shuffled\n",
    "\n",
    "listtobeshuffled"
   ]
  },
  {
   "cell_type": "code",
   "execution_count": 82,
   "id": "4262f1b2-bc27-4c24-82c3-9a2fc6a7085c",
   "metadata": {},
   "outputs": [
    {
     "data": {
      "text/plain": [
       "34"
      ]
     },
     "execution_count": 82,
     "metadata": {},
     "output_type": "execute_result"
    }
   ],
   "source": [
    "#  we can use the randint function from the random library to grab a random integer:\n",
    "\n",
    "\n",
    "# importing the randint function\n",
    "from random import randint\n",
    "\n",
    "# to use randint you pass in a lower range and an upper range for the randint to range within:\n",
    "\n",
    "randint(0,100)\n"
   ]
  },
  {
   "cell_type": "code",
   "execution_count": 84,
   "id": "cebb1fff-cc97-45f8-8b02-5bfc3989c772",
   "metadata": {},
   "outputs": [],
   "source": [
    "# here's an example os saving a randint output to a variable in this case so we can later use it\n",
    "\n",
    "mynum = randint(0,10)"
   ]
  },
  {
   "cell_type": "code",
   "execution_count": 85,
   "id": "431a7053-c81c-47af-8513-f7b9750cfb55",
   "metadata": {},
   "outputs": [
    {
     "data": {
      "text/plain": [
       "7"
      ]
     },
     "execution_count": 85,
     "metadata": {},
     "output_type": "execute_result"
    }
   ],
   "source": [
    "mynum"
   ]
  },
  {
   "cell_type": "markdown",
   "id": "79d29780-d17e-4b6e-843f-21e43cc7950f",
   "metadata": {},
   "source": [
    "INPUT FUNCTION:\n",
    "\n",
    "USING THEN INPUT FUNCTION WE CAN ACCEPT USER INPUT WITH EASE:\n",
    "\n",
    "JUST CALL THE INPUT FUNCTION, NO NEED TO IMPORT\n",
    "\n",
    "\n",
    "keep in mind that the inpuit function ALWAYS returns a string, so you need to be mindful of data typing"
   ]
  },
  {
   "cell_type": "code",
   "execution_count": 87,
   "id": "d3da0c22-d7e1-4c62-b3ce-f17e9f4eeddd",
   "metadata": {},
   "outputs": [
    {
     "name": "stdin",
     "output_type": "stream",
     "text": [
      "ENTER A NUMBER HERE 5\n"
     ]
    },
    {
     "data": {
      "text/plain": [
       "'5'"
      ]
     },
     "execution_count": 87,
     "metadata": {},
     "output_type": "execute_result"
    }
   ],
   "source": [
    "# USING THE INPUT FUNCTION:\n",
    "\n",
    "input('ENTER A NUMBER HERE')"
   ]
  },
  {
   "cell_type": "code",
   "execution_count": 88,
   "id": "b34aafff-81d1-4250-878e-3627e9be62a5",
   "metadata": {},
   "outputs": [
    {
     "name": "stdin",
     "output_type": "stream",
     "text": [
      "ENTER A NUMBER HERE 5\n"
     ]
    },
    {
     "data": {
      "text/plain": [
       "'5'"
      ]
     },
     "execution_count": 88,
     "metadata": {},
     "output_type": "execute_result"
    }
   ],
   "source": [
    "user_input = input('ENTER A NUMBER HERE')\n",
    "\n",
    "user_input"
   ]
  },
  {
   "cell_type": "code",
   "execution_count": 89,
   "id": "6009a96e-af20-44f5-a837-aaab7773d88a",
   "metadata": {},
   "outputs": [
    {
     "data": {
      "text/plain": [
       "'5'"
      ]
     },
     "execution_count": 89,
     "metadata": {},
     "output_type": "execute_result"
    }
   ],
   "source": [
    "user_input"
   ]
  },
  {
   "cell_type": "code",
   "execution_count": 90,
   "id": "8c0210ac-1489-4088-b012-53597bbcaa81",
   "metadata": {},
   "outputs": [
    {
     "data": {
      "text/plain": [
       "str"
      ]
     },
     "execution_count": 90,
     "metadata": {},
     "output_type": "execute_result"
    }
   ],
   "source": [
    "# checking data type (quotes in above output shjould give it away)\n",
    "\n",
    "type(user_input)"
   ]
  },
  {
   "cell_type": "code",
   "execution_count": 93,
   "id": "e10619ce-1257-4641-a3a6-55ff1ddc260d",
   "metadata": {},
   "outputs": [
    {
     "data": {
      "text/plain": [
       "5"
      ]
     },
     "execution_count": 93,
     "metadata": {},
     "output_type": "execute_result"
    }
   ],
   "source": [
    "# converting user input to an integer data type\n",
    "\n",
    "int(user_input)"
   ]
  },
  {
   "cell_type": "code",
   "execution_count": 94,
   "id": "e963e18f-9117-489e-ba07-40e1e9b1e4b9",
   "metadata": {},
   "outputs": [
    {
     "data": {
      "text/plain": [
       "5.0"
      ]
     },
     "execution_count": 94,
     "metadata": {},
     "output_type": "execute_result"
    }
   ],
   "source": [
    "# converting user input to an float data type\n",
    "\n",
    "float(user_input)"
   ]
  },
  {
   "cell_type": "code",
   "execution_count": null,
   "id": "980624dc-a0b1-4904-b76e-07f1b6fa11fa",
   "metadata": {},
   "outputs": [],
   "source": []
  }
 ],
 "metadata": {
  "kernelspec": {
   "display_name": "Python 3 (ipykernel)",
   "language": "python",
   "name": "python3"
  },
  "language_info": {
   "codemirror_mode": {
    "name": "ipython",
    "version": 3
   },
   "file_extension": ".py",
   "mimetype": "text/x-python",
   "name": "python",
   "nbconvert_exporter": "python",
   "pygments_lexer": "ipython3",
   "version": "3.7.11"
  }
 },
 "nbformat": 4,
 "nbformat_minor": 5
}
