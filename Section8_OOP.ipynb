{
 "cells": [
  {
   "cell_type": "markdown",
   "id": "91b5b219-e824-4322-8c61-88b4dd886362",
   "metadata": {},
   "source": [
    "DISCUSSING OBJECT ORIENTED PROGRAMMING:\n",
    "\n",
    "OOP ALLOWS PROGRAMMERS TO CREATE THEIR OWN OBJKECTS THAT HAVE METHODS AND ATTRIBUTES\n",
    "\n",
    "RECALL THAT AFTERDEFINING A STRING, LIST, DICTIONARY, OR OTHER OBJECT YOU WERE ABLE TO CALL METHODS OFF OF THEM WITH THE .METHOD_NAME() SYNTAX\n",
    "\n",
    "THESE METHODS ACT AS FUNCTIONS THAT USE INFORMATION ABOUT THE OBJECT AS WELL AS THE OBJECT ITSELF TO RETURN RESULTS, OR CHANGE THE CURRENT OBJECT\n",
    "\n",
    "OOP ALLOWS USERS TO CREATE THEIR OBJECTS WITH THEIR OWN WITH THEIR OWN METHODS AND ATTRIBUTES\n",
    "\n",
    "THE GENERAL FORMAT IS OGFTEN CONFUSING WHEN FIRST ENCOUNTERED, (HAS SELF KEYWORD)\n",
    "\n",
    "IN GENERAL OOP ALLOWS US TO CREATE CODE THAT IS REPEATABLE AND ORGANIZED\n",
    "\n",
    "FOR MUCH LARGER SCRIPTS OF PYTHON CODE, FUNCTIONS BY THEMSELVES AREN;T ENOUGH FOR ORGANIZATION AND REPEATBILITY\n",
    "\n",
    "COMMONLY REPEATED TASKS AND OBJECTS CAN BE DEFINED WITH OOP TO CREATE MORE USEABLE AND READABLE CODE"
   ]
  },
  {
   "cell_type": "code",
   "execution_count": 1,
   "id": "ace6601e-3bdf-4c32-8904-a6e07936a9de",
   "metadata": {},
   "outputs": [],
   "source": [
    "# CHECKING OUT SYNTAX\n",
    "\n",
    "# class keyword is how we define an object\n",
    "# this is why objects are sometimes called classes in python\n",
    "\n",
    "# classes are named in camel case\n",
    "# class NameOfClass()\n",
    "\n",
    "\n",
    "# functions inside of a class call are METHODs"
   ]
  },
  {
   "cell_type": "code",
   "execution_count": 3,
   "id": "da8121f6-3c6a-4209-a3c2-4f1337e70790",
   "metadata": {},
   "outputs": [],
   "source": [
    "# COVERING ATTRIBUTES AND CLASSES FOR OOP\n",
    "\n",
    "# we are going to use our own user-defined objects (just like one of the built in objects)\n",
    "\n",
    "class SampleWord():\n",
    "    #just building a super simple class here and passing \n",
    "    pass\n"
   ]
  },
  {
   "cell_type": "code",
   "execution_count": 4,
   "id": "eaa95587-5ef7-4830-86a4-d3517adbe535",
   "metadata": {},
   "outputs": [],
   "source": [
    "my_sample = SampleWord()"
   ]
  },
  {
   "cell_type": "code",
   "execution_count": 5,
   "id": "4b589e69-93da-4768-902d-a4280cec5de2",
   "metadata": {},
   "outputs": [
    {
     "data": {
      "text/plain": [
       "__main__.SampleWord"
      ]
     },
     "execution_count": 5,
     "metadata": {},
     "output_type": "execute_result"
    }
   ],
   "source": [
    "type(my_sample)"
   ]
  },
  {
   "cell_type": "code",
   "execution_count": 12,
   "id": "83d4859a-0612-4d96-805f-8b0af732a887",
   "metadata": {},
   "outputs": [],
   "source": [
    "class Dog():\n",
    "    def __init__(self, breed):\n",
    "        \n",
    "#         self keyword represents the instance of the object itself\n",
    "# by convention, we use self, it isn;t hard-set, but use self\n",
    "\n",
    "        #here working with Attributes\n",
    "        #we take in the argument\n",
    "        #assign it using self.attribute_name\n",
    "        \n",
    "        self.breed = breed"
   ]
  },
  {
   "cell_type": "code",
   "execution_count": 13,
   "id": "2f500085-1e2b-46b4-8d45-550e453f5ad9",
   "metadata": {},
   "outputs": [
    {
     "ename": "TypeError",
     "evalue": "__init__() missing 1 required positional argument: 'breed'",
     "output_type": "error",
     "traceback": [
      "\u001b[0;31m---------------------------------------------------------------------------\u001b[0m",
      "\u001b[0;31mTypeError\u001b[0m                                 Traceback (most recent call last)",
      "\u001b[0;32m/var/folders/9l/kb4zxp_16lx6phccx7c7yk0r0000gn/T/ipykernel_3558/3226080032.py\u001b[0m in \u001b[0;36m<module>\u001b[0;34m\u001b[0m\n\u001b[0;32m----> 1\u001b[0;31m \u001b[0mmy_dog\u001b[0m \u001b[0;34m=\u001b[0m \u001b[0mDog\u001b[0m\u001b[0;34m(\u001b[0m\u001b[0;34m)\u001b[0m\u001b[0;34m\u001b[0m\u001b[0;34m\u001b[0m\u001b[0m\n\u001b[0m",
      "\u001b[0;31mTypeError\u001b[0m: __init__() missing 1 required positional argument: 'breed'"
     ]
    }
   ],
   "source": [
    "my_dog = Dog()"
   ]
  },
  {
   "cell_type": "code",
   "execution_count": 14,
   "id": "107fa38e-8930-4a5e-8e5e-f8c994db8c54",
   "metadata": {},
   "outputs": [],
   "source": [
    "# getting an error above because we are expecting a breed parameter\n",
    "\n",
    "my_dog = Dog(breed = 'Lab')"
   ]
  },
  {
   "cell_type": "code",
   "execution_count": 15,
   "id": "c851e5c9-b43e-4fec-bc6c-86b28385a133",
   "metadata": {},
   "outputs": [
    {
     "data": {
      "text/plain": [
       "__main__.Dog"
      ]
     },
     "execution_count": 15,
     "metadata": {},
     "output_type": "execute_result"
    }
   ],
   "source": [
    "type(my_dog)"
   ]
  },
  {
   "cell_type": "code",
   "execution_count": 16,
   "id": "2aba2f4d-4273-4470-b950-797c681d12ff",
   "metadata": {},
   "outputs": [
    {
     "data": {
      "text/plain": [
       "'Lab'"
      ]
     },
     "execution_count": 16,
     "metadata": {},
     "output_type": "execute_result"
    }
   ],
   "source": [
    "my_dog.breed"
   ]
  },
  {
   "cell_type": "code",
   "execution_count": 20,
   "id": "adc2e1f0-2e95-48fd-ba53-97c9893fa61c",
   "metadata": {},
   "outputs": [],
   "source": [
    "class ComplicatedDog():\n",
    "    def __init__(self, breed, name, spots):\n",
    "        \n",
    "        # self keyword represents the instance of the object itself\n",
    "        # by convention, we use self, it isn;t hard-set, but use self\n",
    "\n",
    "        #here working with Attributes\n",
    "        #we take in the argument\n",
    "        #assign it using self.attribute_name\n",
    "        \n",
    "        self.breed = breed\n",
    "        self.name = name\n",
    "        \n",
    "        #expecting Boolean for spots attribute\n",
    "        self.spots = spots"
   ]
  },
  {
   "cell_type": "code",
   "execution_count": 21,
   "id": "5cd38fe5-3212-4694-b700-07c95e398a93",
   "metadata": {},
   "outputs": [],
   "source": [
    "my_complicated_dog = ComplicatedDog(breed = 'Huskie', name = 'Pepe', spots = False)"
   ]
  },
  {
   "cell_type": "code",
   "execution_count": 23,
   "id": "e8852887-551b-4867-9644-96623dbaa2fe",
   "metadata": {},
   "outputs": [
    {
     "data": {
      "text/plain": [
       "__main__.ComplicatedDog"
      ]
     },
     "execution_count": 23,
     "metadata": {},
     "output_type": "execute_result"
    }
   ],
   "source": [
    "type(my_complicated_dog)"
   ]
  },
  {
   "cell_type": "code",
   "execution_count": 24,
   "id": "e331d9d0-15f7-475a-a34a-3030424334e8",
   "metadata": {},
   "outputs": [],
   "source": [
    "# you can define attributesa t a class object level (above our __init__ method\n",
    "\n",
    "\n",
    "# these are called \"class object attributes\", they are the same for any instance of a class"
   ]
  },
  {
   "cell_type": "code",
   "execution_count": 25,
   "id": "ec229577-c184-4f37-a0ed-6e870ac351e4",
   "metadata": {},
   "outputs": [],
   "source": [
    "# think of methods as functions defined inside the body of the class and they are used to perform operations that sometimes utilize the attributes of the object we created\n",
    "\n",
    "# basically methods are functions acting on an object that take the object itself into account using the self keyword"
   ]
  },
  {
   "cell_type": "code",
   "execution_count": 32,
   "id": "7c870a62-108b-4b2c-9a4a-3d82f537aa8b",
   "metadata": {},
   "outputs": [],
   "source": [
    "class Circle():\n",
    "    \n",
    "    #class object attribute\n",
    "    pi = 3.14\n",
    "    \n",
    "    #can provide default values\n",
    "    def __init__(self, radius=1):\n",
    "        self.radius = radius\n",
    "        self.area = radius*radius*self.pi\n",
    "        \n",
    "    #METHOD\n",
    "    \n",
    "    def get_circumference(self):\n",
    "        return self.radius * self.pi * 2"
   ]
  },
  {
   "cell_type": "code",
   "execution_count": 33,
   "id": "c87a0807-462e-4458-84e0-41b81f11a0f6",
   "metadata": {},
   "outputs": [],
   "source": [
    "my_circle = Circle()"
   ]
  },
  {
   "cell_type": "code",
   "execution_count": 39,
   "id": "09948239-a587-4260-8a2d-f91b3f91fbcd",
   "metadata": {},
   "outputs": [
    {
     "data": {
      "text/plain": [
       "6.28"
      ]
     },
     "execution_count": 39,
     "metadata": {},
     "output_type": "execute_result"
    }
   ],
   "source": [
    "my_circle.get_circumference()"
   ]
  },
  {
   "cell_type": "code",
   "execution_count": 40,
   "id": "c3bc7db6-26b4-46d7-88ac-00d3ea8b5df6",
   "metadata": {},
   "outputs": [
    {
     "data": {
      "text/plain": [
       "3.14"
      ]
     },
     "execution_count": 40,
     "metadata": {},
     "output_type": "execute_result"
    }
   ],
   "source": [
    "my_circle.pi\n",
    "\n",
    "# remember this is a class object attribute, so you can also creference it by class name as below:"
   ]
  },
  {
   "cell_type": "code",
   "execution_count": 41,
   "id": "faa61a73-c3d7-46e2-a8e9-263ae2a55e62",
   "metadata": {},
   "outputs": [
    {
     "data": {
      "text/plain": [
       "3.14"
      ]
     },
     "execution_count": 41,
     "metadata": {},
     "output_type": "execute_result"
    }
   ],
   "source": [
    "Circle.pi"
   ]
  },
  {
   "cell_type": "code",
   "execution_count": 36,
   "id": "5a9e45bc-02ef-4bca-8b8c-09f899798906",
   "metadata": {},
   "outputs": [
    {
     "data": {
      "text/plain": [
       "1"
      ]
     },
     "execution_count": 36,
     "metadata": {},
     "output_type": "execute_result"
    }
   ],
   "source": [
    "# notice the use of the default value, if we had input data for radius it would overried the default value for the attribute\n",
    "\n",
    "my_circle.radius"
   ]
  },
  {
   "cell_type": "code",
   "execution_count": 37,
   "id": "f8a20770-949e-40dc-8f2a-1f83d0841c61",
   "metadata": {},
   "outputs": [
    {
     "data": {
      "text/plain": [
       "3.14"
      ]
     },
     "execution_count": 37,
     "metadata": {},
     "output_type": "execute_result"
    }
   ],
   "source": [
    "my_circle.area"
   ]
  },
  {
   "cell_type": "markdown",
   "id": "da72ee2a-1933-4ff8-b74a-b78fd78d3eda",
   "metadata": {},
   "source": [
    "oop part 3: inheritance and polymorphism\n",
    "\n",
    "inheritance:\n",
    "\n",
    "it is a way to form new classes using classes that have already been eefined\n",
    "- reduces work load\n",
    "- simplifies code"
   ]
  },
  {
   "cell_type": "code",
   "execution_count": 7,
   "id": "88c52dab-d7d7-4d20-85b2-a988454d092a",
   "metadata": {},
   "outputs": [],
   "source": [
    "# working with inheritance:\n",
    "\n",
    "\n",
    "class Animal():\n",
    "    \n",
    "    def __init__(self):\n",
    "        print(\"ANIMAL CREATED\")\n",
    "        \n",
    "    def who_am_i(self):\n",
    "        print(\"I AM AN ANIMAL\")\n",
    "        \n",
    "    def eat(self):\n",
    "        print(\"I AM EATING\")"
   ]
  },
  {
   "cell_type": "code",
   "execution_count": 8,
   "id": "d2dbc54b-0de4-48bb-b754-d07fb36d2e50",
   "metadata": {},
   "outputs": [
    {
     "name": "stdout",
     "output_type": "stream",
     "text": [
      "ANIMAL CREATED\n"
     ]
    }
   ],
   "source": [
    "myanimal = Animal()"
   ]
  },
  {
   "cell_type": "code",
   "execution_count": 9,
   "id": "e2c0f910-6a0d-4624-8d15-b980465e8648",
   "metadata": {},
   "outputs": [],
   "source": [
    "# so we have the animal class, now we can create other classes that inherit methods from the animal class\n",
    "\n",
    "# example we create a different class, the horse class:\n",
    "\n",
    "class Horse(Animal):\n",
    "\n",
    "    #some of the methods for animal will be useful for horse, so we will inherit some methods (derive them) from animal class\n",
    "    \n",
    "    def __init__(self):\n",
    "        Animal.__init__(self)\n",
    "        print(\"Dog Created\")"
   ]
  },
  {
   "cell_type": "code",
   "execution_count": 10,
   "id": "864aa234-82bf-4150-bcca-58dfe27673d6",
   "metadata": {},
   "outputs": [
    {
     "name": "stdout",
     "output_type": "stream",
     "text": [
      "ANIMAL CREATED\n",
      "Dog Created\n"
     ]
    }
   ],
   "source": [
    "myhorse = Horse()"
   ]
  },
  {
   "cell_type": "code",
   "execution_count": 11,
   "id": "ed9ace0c-8f24-42dc-a37f-3e92a02e7359",
   "metadata": {},
   "outputs": [
    {
     "ename": "SyntaxError",
     "evalue": "invalid syntax (3485501498.py, line 3)",
     "output_type": "error",
     "traceback": [
      "\u001b[0;36m  File \u001b[0;32m\"/var/folders/9l/kb4zxp_16lx6phccx7c7yk0r0000gn/T/ipykernel_4454/3485501498.py\"\u001b[0;36m, line \u001b[0;32m3\u001b[0m\n\u001b[0;31m    myhorse.\u001b[0m\n\u001b[0m            ^\u001b[0m\n\u001b[0;31mSyntaxError\u001b[0m\u001b[0;31m:\u001b[0m invalid syntax\n"
     ]
    }
   ],
   "source": [
    "# now all of those methods available for the animal class are nherited in the horse class\n",
    "\n",
    "# you can overwite any inherited methods too and have them run without the inherited method's original logic\n",
    "\n",
    "# cam also add methods\n",
    "\n",
    "myhorse."
   ]
  },
  {
   "cell_type": "markdown",
   "id": "96b99c0d-ec81-46a1-86eb-ea7b8f31daa7",
   "metadata": {},
   "source": [
    "NOW DISCUSSING POLYMORPHISM:\n",
    "    \n",
    "    \n",
    "refers to the way in which different object classes can share the same method name\n",
    "\n",
    "basically think two classes with identical method names \n",
    "\n",
    "they both follow the same process, but are in different classes"
   ]
  },
  {
   "cell_type": "code",
   "execution_count": 14,
   "id": "994fee7a-ff6a-4952-8e60-8f9e2fd31690",
   "metadata": {},
   "outputs": [],
   "source": [
    "# COMMON CONCEPT: ABSTRACT CLASSES, USED JUST FOR BASE CLASSES\n",
    "\n",
    "# MAKING ABSTRACT / BASE CLASS:\n",
    "\n",
    "class Animal():\n",
    "    \n",
    "    def __init__(self, name):\n",
    "        self.name = name\n",
    "        \n",
    "    def speak(self):\n",
    "        raise NotImplementedError(\"Subclass must implement this absract method\")\n",
    "        \n",
    "        "
   ]
  },
  {
   "cell_type": "code",
   "execution_count": 18,
   "id": "78300ab7-885b-43ee-b0cd-21e8eb9d0ae8",
   "metadata": {},
   "outputs": [],
   "source": [
    "# now making a subclass to use the abstract class / abstract methods\n",
    "\n",
    "class Dog(Animal):\n",
    "    def speak(self):\n",
    "        return self.name+ \" says woof!\""
   ]
  },
  {
   "cell_type": "markdown",
   "id": "350cdcbf-1134-4ec8-b8f6-964cad09ce66",
   "metadata": {},
   "source": [
    "REAL LIFE EXAMPLE OF POLYMORPHISM:\n",
    "\n",
    "MAYBE OPENING FILES, YOU WOULD WANT TO MAKE A BASE CLASS FOR OPENING FILES, THEN SUBCLASSES FOR OPENING. SPECIFIC TYPES OF FILES\n",
    "- YOU WOULD WANT THESE CLASSES TO SHARE THE SAME METHOD NAME, LIKE .OPEN OR SOMETHING\n",
    "- THEN THE CLASS ITSELF S THE DIFFERENTIATOR BETWEEN WHICH .OPEN TO USE (WHICH METHOD TO USE)"
   ]
  },
  {
   "cell_type": "markdown",
   "id": "51b8b97a-e3fa-40cc-ba3c-91ff9ee01407",
   "metadata": {},
   "source": [
    "OOP PART 4:\n",
    "\n",
    "TALKING ABOUT SPECIAL METHODS\n",
    "\n",
    "ALLOW US TO USEW SOME BUILT IN METHODS IN PYTHON WITH OUR OWN USER-CREATED OBJECTS"
   ]
  },
  {
   "cell_type": "code",
   "execution_count": 19,
   "id": "882876b0-dccd-48e2-bf0b-dbcdfce8eab7",
   "metadata": {},
   "outputs": [
    {
     "data": {
      "text/plain": [
       "3"
      ]
     },
     "execution_count": 19,
     "metadata": {},
     "output_type": "execute_result"
    }
   ],
   "source": [
    "# SIMPLE EXAMPLE WITH SPECIAL METHODS:\n",
    "\n",
    "mylist = [1,2,3]\n",
    "\n",
    "len(mylist)"
   ]
  },
  {
   "cell_type": "code",
   "execution_count": 20,
   "id": "b6c072d4-bfc6-4713-86df-7a4688910747",
   "metadata": {},
   "outputs": [],
   "source": [
    "class Sample():\n",
    "    pass"
   ]
  },
  {
   "cell_type": "code",
   "execution_count": 23,
   "id": "ee2a2f2b-9e96-49b4-b32d-e3d7885f15e3",
   "metadata": {},
   "outputs": [
    {
     "ename": "TypeError",
     "evalue": "object of type 'Sample' has no len()",
     "output_type": "error",
     "traceback": [
      "\u001b[0;31m---------------------------------------------------------------------------\u001b[0m",
      "\u001b[0;31mTypeError\u001b[0m                                 Traceback (most recent call last)",
      "\u001b[0;32m/var/folders/9l/kb4zxp_16lx6phccx7c7yk0r0000gn/T/ipykernel_4454/1725490122.py\u001b[0m in \u001b[0;36m<module>\u001b[0;34m\u001b[0m\n\u001b[1;32m      1\u001b[0m \u001b[0mmysample\u001b[0m \u001b[0;34m=\u001b[0m \u001b[0mSample\u001b[0m\u001b[0;34m(\u001b[0m\u001b[0;34m)\u001b[0m\u001b[0;34m\u001b[0m\u001b[0;34m\u001b[0m\u001b[0m\n\u001b[1;32m      2\u001b[0m \u001b[0;34m\u001b[0m\u001b[0m\n\u001b[0;32m----> 3\u001b[0;31m \u001b[0mlen\u001b[0m\u001b[0;34m(\u001b[0m\u001b[0mmysample\u001b[0m\u001b[0;34m)\u001b[0m\u001b[0;34m\u001b[0m\u001b[0;34m\u001b[0m\u001b[0m\n\u001b[0m",
      "\u001b[0;31mTypeError\u001b[0m: object of type 'Sample' has no len()"
     ]
    }
   ],
   "source": [
    "mysample = Sample()\n",
    "\n",
    "len(mysample)"
   ]
  },
  {
   "cell_type": "code",
   "execution_count": 24,
   "id": "613ff659-578d-4cd3-967b-6e82d0040d87",
   "metadata": {},
   "outputs": [
    {
     "name": "stdout",
     "output_type": "stream",
     "text": [
      "<__main__.Sample object at 0x7fe2e3addad0>\n"
     ]
    }
   ],
   "source": [
    "print(mysample)"
   ]
  },
  {
   "cell_type": "code",
   "execution_count": 32,
   "id": "c4c1fa9f-7a35-4175-8ae4-39e0b8aefbec",
   "metadata": {},
   "outputs": [],
   "source": [
    "# the question is how can we use built in methods with our own user-defined objects\n",
    "\n",
    "#these are frequently called magic methods or dunder methods\n",
    "\n",
    "#the main special methods for now:\n",
    "\n",
    "class Book():\n",
    "    \n",
    "    def __init__(self, title, author, pages):\n",
    "        \n",
    "        self.title = title\n",
    "        self.author = author\n",
    "        self.pages = pages\n",
    "        \n",
    "        \n",
    "#     using __str__ special method    \n",
    "    def __str__(self):\n",
    "        return f\"{self.title} by {self.author}\"\n",
    "    \n",
    "#     using __len__ special method\n",
    "\n",
    "    def __len__(self):\n",
    "        return self.pages\n",
    "    \n",
    "    \n",
    "    # sometimes we want to delete an object, we can use del, then input the variable name, and it will wipe these variables of your computer's memory\n",
    "\n",
    "\n",
    "# to specify other things that may occur when calling delted, use __del__ method\n",
    "\n",
    "    def __del__(self):\n",
    "        print(\"A book object has been deleted\")"
   ]
  },
  {
   "cell_type": "code",
   "execution_count": 33,
   "id": "f6a59eb8-9cad-4397-a85f-dbfcab284c1d",
   "metadata": {},
   "outputs": [
    {
     "name": "stdout",
     "output_type": "stream",
     "text": [
      "Python Book by Jose\n"
     ]
    }
   ],
   "source": [
    "b = Book('Python Book', 'Jose', 200)\n",
    "\n",
    "print(b)"
   ]
  },
  {
   "cell_type": "code",
   "execution_count": 34,
   "id": "1f698232-fb89-4a80-b855-da247037a0cf",
   "metadata": {},
   "outputs": [
    {
     "data": {
      "text/plain": [
       "200"
      ]
     },
     "execution_count": 34,
     "metadata": {},
     "output_type": "execute_result"
    }
   ],
   "source": [
    "# so above we just print the memory locationn withoit our __str__ method\n",
    "# when you call the print function, it asks what the string representation is of whatever is input\n",
    "\n",
    "# we will use the special method __str__ to get the actual string\n",
    "\n",
    "len(b)"
   ]
  },
  {
   "cell_type": "code",
   "execution_count": 35,
   "id": "1ef7b28f-749e-4be5-8a4f-d67aa0cc7e92",
   "metadata": {},
   "outputs": [
    {
     "name": "stdout",
     "output_type": "stream",
     "text": [
      "A book object has been deleted\n"
     ]
    }
   ],
   "source": [
    "del b"
   ]
  },
  {
   "cell_type": "code",
   "execution_count": null,
   "id": "33433826-098e-457f-8443-8b709fbc50b6",
   "metadata": {},
   "outputs": [],
   "source": []
  }
 ],
 "metadata": {
  "kernelspec": {
   "display_name": "Python 3 (ipykernel)",
   "language": "python",
   "name": "python3"
  },
  "language_info": {
   "codemirror_mode": {
    "name": "ipython",
    "version": 3
   },
   "file_extension": ".py",
   "mimetype": "text/x-python",
   "name": "python",
   "nbconvert_exporter": "python",
   "pygments_lexer": "ipython3",
   "version": "3.7.11"
  }
 },
 "nbformat": 4,
 "nbformat_minor": 5
}
