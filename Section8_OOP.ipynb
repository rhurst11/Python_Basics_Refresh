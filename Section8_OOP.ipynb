{
 "cells": [
  {
   "cell_type": "markdown",
   "id": "91b5b219-e824-4322-8c61-88b4dd886362",
   "metadata": {},
   "source": [
    "DISCUSSING OBJECT ORIENTED PROGRAMMING:\n",
    "\n",
    "OOP ALLOWS PROGRAMMERS TO CREATE THEIR OWN OBJKECTS THAT HAVE METHODS AND ATTRIBUTES\n",
    "\n",
    "RECALL THAT AFTERDEFINING A STRING, LIST, DICTIONARY, OR OTHER OBJECT YOU WERE ABLE TO CALL METHODS OFF OF THEM WITH THE .METHOD_NAME() SYNTAX\n",
    "\n",
    "THESE METHODS ACT AS FUNCTIONS THAT USE INFORMATION ABOUT THE OBJECT AS WELL AS THE OBJECT ITSELF TO RETURN RESULTS, OR CHANGE THE CURRENT OBJECT\n",
    "\n",
    "OOP ALLOWS USERS TO CREATE THEIR OBJECTS WITH THEIR OWN WITH THEIR OWN METHODS AND ATTRIBUTES\n",
    "\n",
    "THE GENERAL FORMAT IS OGFTEN CONFUSING WHEN FIRST ENCOUNTERED, (HAS SELF KEYWORD)\n",
    "\n",
    "IN GENERAL OOP ALLOWS US TO CREATE CODE THAT IS REPEATABLE AND ORGANIZED\n",
    "\n",
    "FOR MUCH LARGER SCRIPTS OF PYTHON CODE, FUNCTIONS BY THEMSELVES AREN;T ENOUGH FOR ORGANIZATION AND REPEATBILITY\n",
    "\n",
    "COMMONLY REPEATED TASKS AND OBJECTS CAN BE DEFINED WITH OOP TO CREATE MORE USEABLE AND READABLE CODE"
   ]
  },
  {
   "cell_type": "code",
   "execution_count": 1,
   "id": "ace6601e-3bdf-4c32-8904-a6e07936a9de",
   "metadata": {},
   "outputs": [],
   "source": [
    "# CHECKING OUT SYNTAX\n",
    "\n",
    "# class keyword is how we define an object\n",
    "# this is why objects are sometimes called classes in python\n",
    "\n",
    "# classes are named in camel case\n",
    "# class NameOfClass()\n",
    "\n",
    "\n",
    "# functions inside of a class call are METHODs"
   ]
  },
  {
   "cell_type": "code",
   "execution_count": 3,
   "id": "da8121f6-3c6a-4209-a3c2-4f1337e70790",
   "metadata": {},
   "outputs": [],
   "source": [
    "# COVERING ATTRIBUTES AND CLASSES FOR OOP\n",
    "\n",
    "# we are going to use our own user-defined objects (just like one of the built in objects)\n",
    "\n",
    "class SampleWord():\n",
    "    #just building a super simple class here and passing \n",
    "    pass\n"
   ]
  },
  {
   "cell_type": "code",
   "execution_count": 4,
   "id": "eaa95587-5ef7-4830-86a4-d3517adbe535",
   "metadata": {},
   "outputs": [],
   "source": [
    "my_sample = SampleWord()"
   ]
  },
  {
   "cell_type": "code",
   "execution_count": 5,
   "id": "4b589e69-93da-4768-902d-a4280cec5de2",
   "metadata": {},
   "outputs": [
    {
     "data": {
      "text/plain": [
       "__main__.SampleWord"
      ]
     },
     "execution_count": 5,
     "metadata": {},
     "output_type": "execute_result"
    }
   ],
   "source": [
    "type(my_sample)"
   ]
  },
  {
   "cell_type": "code",
   "execution_count": 12,
   "id": "83d4859a-0612-4d96-805f-8b0af732a887",
   "metadata": {},
   "outputs": [],
   "source": [
    "class Dog():\n",
    "    def __init__(self, breed):\n",
    "        \n",
    "#         self keyword represents the instance of the object itself\n",
    "# by convention, we use self, it isn;t hard-set, but use self\n",
    "\n",
    "        #here working with Attributes\n",
    "        #we take in the argument\n",
    "        #assign it using self.attribute_name\n",
    "        \n",
    "        self.breed = breed"
   ]
  },
  {
   "cell_type": "code",
   "execution_count": 13,
   "id": "2f500085-1e2b-46b4-8d45-550e453f5ad9",
   "metadata": {},
   "outputs": [
    {
     "ename": "TypeError",
     "evalue": "__init__() missing 1 required positional argument: 'breed'",
     "output_type": "error",
     "traceback": [
      "\u001b[0;31m---------------------------------------------------------------------------\u001b[0m",
      "\u001b[0;31mTypeError\u001b[0m                                 Traceback (most recent call last)",
      "\u001b[0;32m/var/folders/9l/kb4zxp_16lx6phccx7c7yk0r0000gn/T/ipykernel_3558/3226080032.py\u001b[0m in \u001b[0;36m<module>\u001b[0;34m\u001b[0m\n\u001b[0;32m----> 1\u001b[0;31m \u001b[0mmy_dog\u001b[0m \u001b[0;34m=\u001b[0m \u001b[0mDog\u001b[0m\u001b[0;34m(\u001b[0m\u001b[0;34m)\u001b[0m\u001b[0;34m\u001b[0m\u001b[0;34m\u001b[0m\u001b[0m\n\u001b[0m",
      "\u001b[0;31mTypeError\u001b[0m: __init__() missing 1 required positional argument: 'breed'"
     ]
    }
   ],
   "source": [
    "my_dog = Dog()"
   ]
  },
  {
   "cell_type": "code",
   "execution_count": 14,
   "id": "107fa38e-8930-4a5e-8e5e-f8c994db8c54",
   "metadata": {},
   "outputs": [],
   "source": [
    "# getting an error above because we are expecting a breed parameter\n",
    "\n",
    "my_dog = Dog(breed = 'Lab')"
   ]
  },
  {
   "cell_type": "code",
   "execution_count": 15,
   "id": "c851e5c9-b43e-4fec-bc6c-86b28385a133",
   "metadata": {},
   "outputs": [
    {
     "data": {
      "text/plain": [
       "__main__.Dog"
      ]
     },
     "execution_count": 15,
     "metadata": {},
     "output_type": "execute_result"
    }
   ],
   "source": [
    "type(my_dog)"
   ]
  },
  {
   "cell_type": "code",
   "execution_count": 16,
   "id": "2aba2f4d-4273-4470-b950-797c681d12ff",
   "metadata": {},
   "outputs": [
    {
     "data": {
      "text/plain": [
       "'Lab'"
      ]
     },
     "execution_count": 16,
     "metadata": {},
     "output_type": "execute_result"
    }
   ],
   "source": [
    "my_dog.breed"
   ]
  },
  {
   "cell_type": "code",
   "execution_count": 20,
   "id": "adc2e1f0-2e95-48fd-ba53-97c9893fa61c",
   "metadata": {},
   "outputs": [],
   "source": [
    "class ComplicatedDog():\n",
    "    def __init__(self, breed, name, spots):\n",
    "        \n",
    "        # self keyword represents the instance of the object itself\n",
    "        # by convention, we use self, it isn;t hard-set, but use self\n",
    "\n",
    "        #here working with Attributes\n",
    "        #we take in the argument\n",
    "        #assign it using self.attribute_name\n",
    "        \n",
    "        self.breed = breed\n",
    "        self.name = name\n",
    "        \n",
    "        #expecting Boolean for spots attribute\n",
    "        self.spots = spots"
   ]
  },
  {
   "cell_type": "code",
   "execution_count": 21,
   "id": "5cd38fe5-3212-4694-b700-07c95e398a93",
   "metadata": {},
   "outputs": [],
   "source": [
    "my_complicated_dog = ComplicatedDog(breed = 'Huskie', name = 'Pepe', spots = False)"
   ]
  },
  {
   "cell_type": "code",
   "execution_count": 23,
   "id": "e8852887-551b-4867-9644-96623dbaa2fe",
   "metadata": {},
   "outputs": [
    {
     "data": {
      "text/plain": [
       "__main__.ComplicatedDog"
      ]
     },
     "execution_count": 23,
     "metadata": {},
     "output_type": "execute_result"
    }
   ],
   "source": [
    "type(my_complicated_dog)"
   ]
  },
  {
   "cell_type": "code",
   "execution_count": 24,
   "id": "e331d9d0-15f7-475a-a34a-3030424334e8",
   "metadata": {},
   "outputs": [],
   "source": [
    "# you can define attributesa t a class object level (above our __init__ method\n",
    "\n",
    "\n",
    "# these are called \"class object attributes\", they are the same for any instance of a class"
   ]
  },
  {
   "cell_type": "code",
   "execution_count": 25,
   "id": "ec229577-c184-4f37-a0ed-6e870ac351e4",
   "metadata": {},
   "outputs": [],
   "source": [
    "# think of methods as functions defined inside the body of the class and they are used to perform operations that sometimes utilize the attributes of the object we created\n",
    "\n",
    "# basically methods are functions acting on an object that take the object itself into account using the self keyword"
   ]
  },
  {
   "cell_type": "code",
   "execution_count": 32,
   "id": "7c870a62-108b-4b2c-9a4a-3d82f537aa8b",
   "metadata": {},
   "outputs": [],
   "source": [
    "class Circle():\n",
    "    \n",
    "    #class object attribute\n",
    "    pi = 3.14\n",
    "    \n",
    "    #can provide default values\n",
    "    def __init__(self, radius=1):\n",
    "        self.radius = radius\n",
    "        self.area = radius*radius*self.pi\n",
    "        \n",
    "    #METHOD\n",
    "    \n",
    "    def get_circumference(self):\n",
    "        return self.radius * self.pi * 2"
   ]
  },
  {
   "cell_type": "code",
   "execution_count": 33,
   "id": "c87a0807-462e-4458-84e0-41b81f11a0f6",
   "metadata": {},
   "outputs": [],
   "source": [
    "my_circle = Circle()"
   ]
  },
  {
   "cell_type": "code",
   "execution_count": 39,
   "id": "09948239-a587-4260-8a2d-f91b3f91fbcd",
   "metadata": {},
   "outputs": [
    {
     "data": {
      "text/plain": [
       "6.28"
      ]
     },
     "execution_count": 39,
     "metadata": {},
     "output_type": "execute_result"
    }
   ],
   "source": [
    "my_circle.get_circumference()"
   ]
  },
  {
   "cell_type": "code",
   "execution_count": 40,
   "id": "c3bc7db6-26b4-46d7-88ac-00d3ea8b5df6",
   "metadata": {},
   "outputs": [
    {
     "data": {
      "text/plain": [
       "3.14"
      ]
     },
     "execution_count": 40,
     "metadata": {},
     "output_type": "execute_result"
    }
   ],
   "source": [
    "my_circle.pi\n",
    "\n",
    "# remember this is a class object attribute, so you can also creference it by class name as below:"
   ]
  },
  {
   "cell_type": "code",
   "execution_count": 41,
   "id": "faa61a73-c3d7-46e2-a8e9-263ae2a55e62",
   "metadata": {},
   "outputs": [
    {
     "data": {
      "text/plain": [
       "3.14"
      ]
     },
     "execution_count": 41,
     "metadata": {},
     "output_type": "execute_result"
    }
   ],
   "source": [
    "Circle.pi"
   ]
  },
  {
   "cell_type": "code",
   "execution_count": 36,
   "id": "5a9e45bc-02ef-4bca-8b8c-09f899798906",
   "metadata": {},
   "outputs": [
    {
     "data": {
      "text/plain": [
       "1"
      ]
     },
     "execution_count": 36,
     "metadata": {},
     "output_type": "execute_result"
    }
   ],
   "source": [
    "# notice the use of the default value, if we had input data for radius it would overried the default value for the attribute\n",
    "\n",
    "my_circle.radius"
   ]
  },
  {
   "cell_type": "code",
   "execution_count": 37,
   "id": "f8a20770-949e-40dc-8f2a-1f83d0841c61",
   "metadata": {},
   "outputs": [
    {
     "data": {
      "text/plain": [
       "3.14"
      ]
     },
     "execution_count": 37,
     "metadata": {},
     "output_type": "execute_result"
    }
   ],
   "source": [
    "my_circle.area"
   ]
  },
  {
   "cell_type": "code",
   "execution_count": null,
   "id": "81a54e8f-1230-4554-86f2-7d8eebe2dc03",
   "metadata": {},
   "outputs": [],
   "source": []
  }
 ],
 "metadata": {
  "kernelspec": {
   "display_name": "Python 3 (ipykernel)",
   "language": "python",
   "name": "python3"
  },
  "language_info": {
   "codemirror_mode": {
    "name": "ipython",
    "version": 3
   },
   "file_extension": ".py",
   "mimetype": "text/x-python",
   "name": "python",
   "nbconvert_exporter": "python",
   "pygments_lexer": "ipython3",
   "version": "3.7.11"
  }
 },
 "nbformat": 4,
 "nbformat_minor": 5
}
