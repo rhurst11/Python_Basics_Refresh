{
 "cells": [
  {
   "cell_type": "markdown",
   "id": "b7ce5ecb-fc93-45b5-936d-6b560b15a452",
   "metadata": {},
   "source": [
    "SECTION 3.12 (PYTHON NUMBERS)"
   ]
  },
  {
   "cell_type": "code",
   "execution_count": 1,
   "id": "c2823ded-b0e1-4de5-bbb3-c7b09dc585f2",
   "metadata": {},
   "outputs": [
    {
     "data": {
      "text/plain": [
       "4"
      ]
     },
     "execution_count": 1,
     "metadata": {},
     "output_type": "execute_result"
    }
   ],
   "source": [
    "2*2"
   ]
  },
  {
   "cell_type": "code",
   "execution_count": 2,
   "id": "c97e5a0d-d069-4a85-b5c7-7556b5049f81",
   "metadata": {},
   "outputs": [
    {
     "data": {
      "text/plain": [
       "1.5"
      ]
     },
     "execution_count": 2,
     "metadata": {},
     "output_type": "execute_result"
    }
   ],
   "source": [
    "3/2"
   ]
  },
  {
   "cell_type": "markdown",
   "id": "e4aa4df3-598f-47fe-8739-4642a9354bf8",
   "metadata": {},
   "source": [
    "Discussing Module or \"Mod\" Operator\n",
    "\n",
    "imagine you want to just know the remainder or a division, you use the % sign to do that\n",
    "\n",
    "nice for checking if numbers are easily divisble or if they are even or odd"
   ]
  },
  {
   "cell_type": "code",
   "execution_count": 3,
   "id": "22c909e4-5a3f-4895-a5c8-c7d92e87ae1b",
   "metadata": {},
   "outputs": [
    {
     "data": {
      "text/plain": [
       "0"
      ]
     },
     "execution_count": 3,
     "metadata": {},
     "output_type": "execute_result"
    }
   ],
   "source": [
    "50%5"
   ]
  },
  {
   "cell_type": "code",
   "execution_count": 4,
   "id": "7a1d7b10-d118-4812-9e96-8a9edcc4fe39",
   "metadata": {},
   "outputs": [
    {
     "data": {
      "text/plain": [
       "3"
      ]
     },
     "execution_count": 4,
     "metadata": {},
     "output_type": "execute_result"
    }
   ],
   "source": [
    "7%4"
   ]
  },
  {
   "cell_type": "code",
   "execution_count": 6,
   "id": "8f1d1da6-dacf-46cb-9ead-19bea0a0fa9a",
   "metadata": {},
   "outputs": [
    {
     "data": {
      "text/plain": [
       "0"
      ]
     },
     "execution_count": 6,
     "metadata": {},
     "output_type": "execute_result"
    }
   ],
   "source": [
    "# check if a number is even with a module operator of 2\n",
    "\n",
    "a = 4\n",
    "\n",
    "a%2"
   ]
  },
  {
   "cell_type": "markdown",
   "id": "6878f62f-fdaa-4dae-a297-29472c9fbfc9",
   "metadata": {},
   "source": [
    "You calculate exponents with **"
   ]
  },
  {
   "cell_type": "code",
   "execution_count": 8,
   "id": "b81d73a1-fe6d-4b0f-9acf-f16245211b71",
   "metadata": {},
   "outputs": [
    {
     "data": {
      "text/plain": [
       "8"
      ]
     },
     "execution_count": 8,
     "metadata": {},
     "output_type": "execute_result"
    }
   ],
   "source": [
    "2 ** 3"
   ]
  },
  {
   "cell_type": "markdown",
   "id": "2b773859-5866-43e3-9702-4bf8d0f381b0",
   "metadata": {},
   "source": [
    "Order of operations is integrated into python, so make sure to use parentheses when needed"
   ]
  },
  {
   "cell_type": "code",
   "execution_count": 9,
   "id": "253e7e2b-61b0-48f5-9fab-59832bf8bf91",
   "metadata": {},
   "outputs": [
    {
     "data": {
      "text/plain": [
       "144"
      ]
     },
     "execution_count": 9,
     "metadata": {},
     "output_type": "execute_result"
    }
   ],
   "source": [
    "(2+10) * (5+7)"
   ]
  },
  {
   "cell_type": "markdown",
   "id": "d4a4daa6-87ad-4614-a1d5-458fc5194523",
   "metadata": {},
   "source": [
    "SECTION 14 (Variable assignment)"
   ]
  },
  {
   "cell_type": "code",
   "execution_count": 10,
   "id": "c3d23cbc-be4d-4db3-aa91-1ef8793f8963",
   "metadata": {},
   "outputs": [],
   "source": [
    "a =5"
   ]
  },
  {
   "cell_type": "code",
   "execution_count": 11,
   "id": "6a7855c8-60c8-4f4a-8b59-59628a644d18",
   "metadata": {},
   "outputs": [
    {
     "data": {
      "text/plain": [
       "5"
      ]
     },
     "execution_count": 11,
     "metadata": {},
     "output_type": "execute_result"
    }
   ],
   "source": [
    "a"
   ]
  },
  {
   "cell_type": "code",
   "execution_count": 12,
   "id": "8e6c0df5-ae9f-47ef-983d-c4ab13caffd1",
   "metadata": {},
   "outputs": [
    {
     "data": {
      "text/plain": [
       "5"
      ]
     },
     "execution_count": 12,
     "metadata": {},
     "output_type": "execute_result"
    }
   ],
   "source": [
    "a"
   ]
  },
  {
   "cell_type": "code",
   "execution_count": 13,
   "id": "be5c9f13-285c-4ddf-9407-7ef3ea7d2145",
   "metadata": {},
   "outputs": [],
   "source": [
    "a = 10 "
   ]
  },
  {
   "cell_type": "code",
   "execution_count": 14,
   "id": "2a28c6f2-af80-472a-ad99-850b79520d5a",
   "metadata": {},
   "outputs": [
    {
     "data": {
      "text/plain": [
       "10"
      ]
     },
     "execution_count": 14,
     "metadata": {},
     "output_type": "execute_result"
    }
   ],
   "source": [
    "a"
   ]
  },
  {
   "cell_type": "code",
   "execution_count": 17,
   "id": "a9017608-3278-48e0-ae15-cd0635b713e5",
   "metadata": {},
   "outputs": [],
   "source": [
    "# showing dynamic typing here\n",
    "a = 10.5"
   ]
  },
  {
   "cell_type": "code",
   "execution_count": 18,
   "id": "f9cc2b23-d0bf-43ce-82b4-cd27a392ce8d",
   "metadata": {},
   "outputs": [
    {
     "data": {
      "text/plain": [
       "float"
      ]
     },
     "execution_count": 18,
     "metadata": {},
     "output_type": "execute_result"
    }
   ],
   "source": [
    "type(a)"
   ]
  },
  {
   "cell_type": "code",
   "execution_count": 19,
   "id": "490d918d-b5c7-4b78-af6a-f9f2b1df7fb7",
   "metadata": {},
   "outputs": [
    {
     "data": {
      "text/plain": [
       "21.0"
      ]
     },
     "execution_count": 19,
     "metadata": {},
     "output_type": "execute_result"
    }
   ],
   "source": [
    "a + a"
   ]
  },
  {
   "cell_type": "code",
   "execution_count": 20,
   "id": "d43f64fe-e3cf-47aa-bbc9-720925ae442b",
   "metadata": {},
   "outputs": [],
   "source": [
    "a = 5"
   ]
  },
  {
   "cell_type": "code",
   "execution_count": 21,
   "id": "17a7f18a-7630-47c3-8e2b-8210bf2a5cad",
   "metadata": {},
   "outputs": [
    {
     "data": {
      "text/plain": [
       "10"
      ]
     },
     "execution_count": 21,
     "metadata": {},
     "output_type": "execute_result"
    }
   ],
   "source": [
    "a + a"
   ]
  },
  {
   "cell_type": "code",
   "execution_count": 22,
   "id": "518068fd-4da8-4c73-8472-b4950022e1dc",
   "metadata": {},
   "outputs": [],
   "source": [
    "a = a + a"
   ]
  },
  {
   "cell_type": "code",
   "execution_count": 23,
   "id": "04800e19-fe1c-4b51-8087-d15c7adbdf78",
   "metadata": {},
   "outputs": [
    {
     "data": {
      "text/plain": [
       "10"
      ]
     },
     "execution_count": 23,
     "metadata": {},
     "output_type": "execute_result"
    }
   ],
   "source": [
    "a"
   ]
  },
  {
   "cell_type": "code",
   "execution_count": 25,
   "id": "2607f93e-f909-4132-9a6b-621bcd9f7897",
   "metadata": {},
   "outputs": [
    {
     "data": {
      "text/plain": [
       "10.0"
      ]
     },
     "execution_count": 25,
     "metadata": {},
     "output_type": "execute_result"
    }
   ],
   "source": [
    "# example of performing logic with variable names\n",
    "\n",
    "my_income = 100\n",
    "\n",
    "tax_rate = 0.1\n",
    "\n",
    "my_taxes = my_income * tax_rate\n",
    "\n",
    "my_taxes"
   ]
  },
  {
   "cell_type": "markdown",
   "id": "5ba590fa-7cfd-4f8a-b374-f7b2ecabee0a",
   "metadata": {},
   "source": [
    "Indexing and slicing with Strings:"
   ]
  },
  {
   "cell_type": "code",
   "execution_count": 1,
   "id": "0fd06b12-2678-40fd-83e2-40f816a2623b",
   "metadata": {},
   "outputs": [
    {
     "data": {
      "text/plain": [
       "'Hello World'"
      ]
     },
     "execution_count": 1,
     "metadata": {},
     "output_type": "execute_result"
    }
   ],
   "source": [
    "mystring = \"Hello World\"\n",
    "\n",
    "mystring"
   ]
  },
  {
   "cell_type": "code",
   "execution_count": 12,
   "id": "4d1be89f-5bf5-4847-9c31-d19ecfc07a8d",
   "metadata": {},
   "outputs": [
    {
     "data": {
      "text/plain": [
       "'H'"
      ]
     },
     "execution_count": 12,
     "metadata": {},
     "output_type": "execute_result"
    }
   ],
   "source": [
    "# playing with indexing for grabbing certain characters in the string based on index position:\n",
    "\n",
    "# remember that you can use positive or negative index pisitions:\n",
    "\n",
    "mystring[0]"
   ]
  },
  {
   "cell_type": "code",
   "execution_count": 6,
   "id": "644ec2b5-00a5-4014-889a-71f10c370438",
   "metadata": {},
   "outputs": [
    {
     "data": {
      "text/plain": [
       "'r'"
      ]
     },
     "execution_count": 6,
     "metadata": {},
     "output_type": "execute_result"
    }
   ],
   "source": [
    "mystring[8]"
   ]
  },
  {
   "cell_type": "code",
   "execution_count": 7,
   "id": "d20869c9-e4a4-4e5c-a029-7c2d9c3621ef",
   "metadata": {},
   "outputs": [
    {
     "data": {
      "text/plain": [
       "'l'"
      ]
     },
     "execution_count": 7,
     "metadata": {},
     "output_type": "execute_result"
    }
   ],
   "source": [
    "mystring[9]"
   ]
  },
  {
   "cell_type": "code",
   "execution_count": 10,
   "id": "e908fa9f-79fa-4f3f-92ae-4549230ab067",
   "metadata": {},
   "outputs": [
    {
     "data": {
      "text/plain": [
       "'l'"
      ]
     },
     "execution_count": 10,
     "metadata": {},
     "output_type": "execute_result"
    }
   ],
   "source": [
    "# using reverse indexing here:\n",
    "\n",
    "mystring[-2]"
   ]
  },
  {
   "cell_type": "markdown",
   "id": "b40f2432-5ca8-4390-83d0-433fa9beb8d6",
   "metadata": {},
   "source": [
    "SLICING DISCUSSED HERE:\n",
    "\n",
    "SO WE ARE SLICING SECTIONS OF A STRING RATHER THAN INDIVIDEUAL CHARACTERS"
   ]
  },
  {
   "cell_type": "code",
   "execution_count": 13,
   "id": "e1940234-69ca-451c-802c-156b37cc4150",
   "metadata": {},
   "outputs": [
    {
     "data": {
      "text/plain": [
       "'abcdefghijk'"
      ]
     },
     "execution_count": 13,
     "metadata": {},
     "output_type": "execute_result"
    }
   ],
   "source": [
    "new_string = 'abcdefghijk'\n",
    "\n",
    "new_string"
   ]
  },
  {
   "cell_type": "code",
   "execution_count": 14,
   "id": "fb24a415-fff4-48cc-9f01-d959e9ef0d6b",
   "metadata": {},
   "outputs": [
    {
     "data": {
      "text/plain": [
       "'cdefghijk'"
      ]
     },
     "execution_count": 14,
     "metadata": {},
     "output_type": "execute_result"
    }
   ],
   "source": [
    "# say we want to grab a section of the string that starts at a aprticular index and goes all the way to the end:\n",
    "# notice that [:] can be used to indicate a range, if you give [index:] it goes all the way to the end, can use in reverse too like [:index]\n",
    "\n",
    "new_string[2:]"
   ]
  },
  {
   "cell_type": "code",
   "execution_count": 15,
   "id": "476ce2ad-d502-4d42-840b-a3e24b8c7619",
   "metadata": {},
   "outputs": [
    {
     "data": {
      "text/plain": [
       "'abc'"
      ]
     },
     "execution_count": 15,
     "metadata": {},
     "output_type": "execute_result"
    }
   ],
   "source": [
    "new_string[:3]\n",
    "\n",
    "# NOTE THAT THE STOP INDEX GOES UP TO BUT DOES NOT INCLUDE THE STATED INDEX POSITION"
   ]
  },
  {
   "cell_type": "code",
   "execution_count": 16,
   "id": "e3c95a77-b627-4d15-8238-fe14dd72a400",
   "metadata": {},
   "outputs": [
    {
     "data": {
      "text/plain": [
       "'def'"
      ]
     },
     "execution_count": 16,
     "metadata": {},
     "output_type": "execute_result"
    }
   ],
   "source": [
    " # Combining start and stop indexes to grab a satring in the middle:\n",
    "    \n",
    "new_string[3:6]"
   ]
  },
  {
   "cell_type": "code",
   "execution_count": 19,
   "id": "b77a519a-87eb-4968-988c-4da4f1588fce",
   "metadata": {},
   "outputs": [
    {
     "data": {
      "text/plain": [
       "'bc'"
      ]
     },
     "execution_count": 19,
     "metadata": {},
     "output_type": "execute_result"
    }
   ],
   "source": [
    "new_string[1:3]"
   ]
  },
  {
   "cell_type": "code",
   "execution_count": 20,
   "id": "20133cde-391a-4722-98ee-c1b07d8312a1",
   "metadata": {},
   "outputs": [
    {
     "data": {
      "text/plain": [
       "'hi'"
      ]
     },
     "execution_count": 20,
     "metadata": {},
     "output_type": "execute_result"
    }
   ],
   "source": [
    "new_string[-4: -2]"
   ]
  },
  {
   "cell_type": "code",
   "execution_count": 21,
   "id": "ccc7dd49-de7c-4005-84ea-daa3c31b5c01",
   "metadata": {},
   "outputs": [
    {
     "data": {
      "text/plain": [
       "'abcdefghijk'"
      ]
     },
     "execution_count": 21,
     "metadata": {},
     "output_type": "execute_result"
    }
   ],
   "source": [
    "# discussing step size here:\n",
    "\n",
    "new_string[::]"
   ]
  },
  {
   "cell_type": "code",
   "execution_count": 22,
   "id": "c422b18a-5afc-4e5f-81e4-fd02d5568566",
   "metadata": {},
   "outputs": [
    {
     "data": {
      "text/plain": [
       "'acegik'"
      ]
     },
     "execution_count": 22,
     "metadata": {},
     "output_type": "execute_result"
    }
   ],
   "source": [
    "# STEP SIZE EXAMPLE HERE: can combine step size jumps with starts / stops as well\n",
    "# [::] basically just means grab everything from begginning to end\n",
    "\n",
    "# this format allows you to jump in steps like this:\n",
    "\n",
    "new_string[::2]"
   ]
  },
  {
   "cell_type": "code",
   "execution_count": 23,
   "id": "467c84ef-ad95-4d2c-81e4-081bcf89fa70",
   "metadata": {},
   "outputs": [
    {
     "data": {
      "text/plain": [
       "'adgj'"
      ]
     },
     "execution_count": 23,
     "metadata": {},
     "output_type": "execute_result"
    }
   ],
   "source": [
    "new_string[::3]"
   ]
  },
  {
   "cell_type": "code",
   "execution_count": 24,
   "id": "b57f090f-15a3-4bf5-a2bb-1d3fcaf0ebe8",
   "metadata": {},
   "outputs": [
    {
     "data": {
      "text/plain": [
       "'kjihgfedcba'"
      ]
     },
     "execution_count": 24,
     "metadata": {},
     "output_type": "execute_result"
    }
   ],
   "source": [
    "# using step size to reverse a string:\n",
    "\n",
    "new_string[::-1]\n",
    "\n",
    "# this is telling python to go take a backward step throughout the entire strig length, meaning that it ends up in reverse order"
   ]
  },
  {
   "cell_type": "code",
   "execution_count": 26,
   "id": "94e1a159-8a1d-45e7-800b-1c823ac80aef",
   "metadata": {},
   "outputs": [
    {
     "data": {
      "text/plain": [
       "'i'"
      ]
     },
     "execution_count": 26,
     "metadata": {},
     "output_type": "execute_result"
    }
   ],
   "source": [
    "# additional tidbit from exercise:\n",
    "\n",
    "# you don't need to assign a string a variable name to index it: Here's an example of indexing a string directly\n",
    "\n",
    "'this is is not practical'[8]"
   ]
  },
  {
   "cell_type": "code",
   "execution_count": 27,
   "id": "dee4eb24-7ad0-4006-87a0-952df68902fa",
   "metadata": {},
   "outputs": [
    {
     "data": {
      "text/plain": [
       "'lacitcarp ton si si siht'"
      ]
     },
     "execution_count": 27,
     "metadata": {},
     "output_type": "execute_result"
    }
   ],
   "source": [
    "'this is is not practical'[::-1]"
   ]
  },
  {
   "cell_type": "code",
   "execution_count": 28,
   "id": "608a1031-f548-40f0-a11b-2e9213bb5aa6",
   "metadata": {},
   "outputs": [
    {
     "data": {
      "text/plain": [
       "'practical'"
      ]
     },
     "execution_count": 28,
     "metadata": {},
     "output_type": "execute_result"
    }
   ],
   "source": [
    "'this is is not practical'[-9:]"
   ]
  },
  {
   "cell_type": "markdown",
   "id": "a4617967-aeab-4344-9f6b-c0da0bd75d6d",
   "metadata": {},
   "source": [
    "STRING PROPERTIES OVERVIEW:"
   ]
  },
  {
   "cell_type": "code",
   "execution_count": 30,
   "id": "9a4e8e90-ce0a-4670-b6ce-18acf619ea7b",
   "metadata": {},
   "outputs": [],
   "source": [
    "# String property: Immutability\n",
    "\n",
    "name = \"Sam\""
   ]
  },
  {
   "cell_type": "code",
   "execution_count": 32,
   "id": "58aca0c6-0fb4-42e0-9743-c6e47a7f7aac",
   "metadata": {},
   "outputs": [
    {
     "ename": "TypeError",
     "evalue": "'str' object does not support item assignment",
     "output_type": "error",
     "traceback": [
      "\u001b[0;31m---------------------------------------------------------------------------\u001b[0m",
      "\u001b[0;31mTypeError\u001b[0m                                 Traceback (most recent call last)",
      "\u001b[0;32m/var/folders/9l/kb4zxp_16lx6phccx7c7yk0r0000gn/T/ipykernel_5262/755555721.py\u001b[0m in \u001b[0;36m<module>\u001b[0;34m\u001b[0m\n\u001b[1;32m      1\u001b[0m \u001b[0;31m# since strings are immutable, string objects don't support item assignment\u001b[0m\u001b[0;34m\u001b[0m\u001b[0;34m\u001b[0m\u001b[0;34m\u001b[0m\u001b[0m\n\u001b[0;32m----> 2\u001b[0;31m \u001b[0mname\u001b[0m\u001b[0;34m[\u001b[0m\u001b[0;36m0\u001b[0m\u001b[0;34m]\u001b[0m \u001b[0;34m=\u001b[0m \u001b[0;34m'P'\u001b[0m\u001b[0;34m\u001b[0m\u001b[0;34m\u001b[0m\u001b[0m\n\u001b[0m",
      "\u001b[0;31mTypeError\u001b[0m: 'str' object does not support item assignment"
     ]
    }
   ],
   "source": [
    "# since strings are immutable, string objects don't support item assignment\n",
    "name[0] = 'P'"
   ]
  },
  {
   "cell_type": "code",
   "execution_count": 33,
   "id": "8f17dc37-ae5f-464a-8d02-448d9769e969",
   "metadata": {},
   "outputs": [
    {
     "data": {
      "text/plain": [
       "'am'"
      ]
     },
     "execution_count": 33,
     "metadata": {},
     "output_type": "execute_result"
    }
   ],
   "source": [
    "# what we can do to change a string is concatenate it with another string\n",
    "# still trying to change name to pam\n",
    "last_letters = name[1:]\n",
    "\n",
    "last_letters"
   ]
  },
  {
   "cell_type": "code",
   "execution_count": 35,
   "id": "aa4cca6a-158b-44a9-ba29-2afe6db9e7c0",
   "metadata": {},
   "outputs": [
    {
     "data": {
      "text/plain": [
       "'Pam'"
      ]
     },
     "execution_count": 35,
     "metadata": {},
     "output_type": "execute_result"
    }
   ],
   "source": [
    "# EXAMPLE OF STRING CONCATENATION: \n",
    "'P' + last_letters"
   ]
  },
  {
   "cell_type": "code",
   "execution_count": 39,
   "id": "534087af-71a1-4355-a53d-633960b801a0",
   "metadata": {},
   "outputs": [
    {
     "data": {
      "text/plain": [
       "'Hellow World Good Fucking Morning'"
      ]
     },
     "execution_count": 39,
     "metadata": {},
     "output_type": "execute_result"
    }
   ],
   "source": [
    "# more concatenation examples (you don't need to assign variables to do this)\n",
    "\n",
    "x = 'Hellow World'\n",
    "\n",
    "y = 'Good Fucking Morning'\n",
    "\n",
    "x + ' ' + y"
   ]
  },
  {
   "cell_type": "code",
   "execution_count": 42,
   "id": "4e1bdd84-0409-4752-8118-220b9c984020",
   "metadata": {},
   "outputs": [
    {
     "data": {
      "text/plain": [
       "'all work and no play makes jack a dull boy all work and no play makes jack a dull boy all work and no play makes jack a dull boy all work and no play makes jack a dull boy all work and no play makes jack a dull boy all work and no play makes jack a dull boy all work and no play makes jack a dull boy all work and no play makes jack a dull boy all work and no play makes jack a dull boy all work and no play makes jack a dull boy '"
      ]
     },
     "execution_count": 42,
     "metadata": {},
     "output_type": "execute_result"
    }
   ],
   "source": [
    "#  You can concatenate with multiplication as well:\n",
    "\n",
    "c = 'all work and no play makes jack a dull boy '\n",
    "\n",
    "c * 10"
   ]
  },
  {
   "cell_type": "code",
   "execution_count": 49,
   "id": "b0d94366-6c66-4d11-8677-3b699d239873",
   "metadata": {},
   "outputs": [],
   "source": [
    "# Going over more useful methods below:\n",
    "\n",
    "z = 'hello world'\n",
    "\n",
    "# now you can reference this with its variable name, add . then hit tab and you get a running list of methods"
   ]
  },
  {
   "cell_type": "code",
   "execution_count": 50,
   "id": "d2b527fa-29cf-4830-862f-9856939fdba1",
   "metadata": {},
   "outputs": [
    {
     "data": {
      "text/plain": [
       "'HELLO WORLD'"
      ]
     },
     "execution_count": 50,
     "metadata": {},
     "output_type": "execute_result"
    }
   ],
   "source": [
    "z.upper()\n",
    "\n",
    "# the parentheses here are what executes the method\n",
    "# without the parentheses, it just tells ,you what the function / method is"
   ]
  },
  {
   "cell_type": "code",
   "execution_count": 52,
   "id": "d35ed5e7-ace6-4953-a527-dd2e52ba7e8f",
   "metadata": {},
   "outputs": [
    {
     "data": {
      "text/plain": [
       "'hello world'"
      ]
     },
     "execution_count": 52,
     "metadata": {},
     "output_type": "execute_result"
    }
   ],
   "source": [
    "z\n",
    "\n",
    "# notice that the method does not change the original variable unless explicitly reassigned"
   ]
  },
  {
   "cell_type": "code",
   "execution_count": 53,
   "id": "dcc420ae-18cf-44e7-b8d3-1bd240bd1cd0",
   "metadata": {},
   "outputs": [
    {
     "data": {
      "text/plain": [
       "'hello world'"
      ]
     },
     "execution_count": 53,
     "metadata": {},
     "output_type": "execute_result"
    }
   ],
   "source": [
    "z.lower()"
   ]
  },
  {
   "cell_type": "code",
   "execution_count": 55,
   "id": "23c55577-c8e1-487b-9076-ad9a54021752",
   "metadata": {},
   "outputs": [
    {
     "data": {
      "text/plain": [
       "['hello', 'world']"
      ]
     },
     "execution_count": 55,
     "metadata": {},
     "output_type": "execute_result"
    }
   ],
   "source": [
    "# notice that the split method makes a list based on white space or a passed in chracter\n",
    "\n",
    "z.split()"
   ]
  },
  {
   "cell_type": "code",
   "execution_count": 69,
   "id": "0e94c080-2254-446c-8248-8d627416de9e",
   "metadata": {},
   "outputs": [
    {
     "data": {
      "text/plain": [
       "['pop', 'drim', 'dark', 'duggy']"
      ]
     },
     "execution_count": 69,
     "metadata": {},
     "output_type": "execute_result"
    }
   ],
   "source": [
    "# more play with .split()\n",
    "\n",
    "w = 'pop drim dark duggy'\n",
    "\n",
    "w.split()"
   ]
  },
  {
   "cell_type": "code",
   "execution_count": 70,
   "id": "b08921ce-cf97-483f-b4b8-f31bf7f2e6b2",
   "metadata": {},
   "outputs": [
    {
     "data": {
      "text/plain": [
       "['pop ', 'rim ', 'ark ', 'uggy']"
      ]
     },
     "execution_count": 70,
     "metadata": {},
     "output_type": "execute_result"
    }
   ],
   "source": [
    "w.split('d')"
   ]
  },
  {
   "cell_type": "code",
   "execution_count": 72,
   "id": "7cb9d373-932e-4cdb-abdd-c537f5715c47",
   "metadata": {},
   "outputs": [
    {
     "data": {
      "text/plain": [
       "['pop d', 'im da', 'k duggy']"
      ]
     },
     "execution_count": 72,
     "metadata": {},
     "output_type": "execute_result"
    }
   ],
   "source": [
    "w.split('r')"
   ]
  },
  {
   "cell_type": "code",
   "execution_count": 74,
   "id": "e5ba2ef4-629f-41a2-85bd-d8533340f976",
   "metadata": {},
   "outputs": [
    {
     "data": {
      "text/plain": [
       "['', 'rim ', 'ark ', 'uggy']"
      ]
     },
     "execution_count": 74,
     "metadata": {},
     "output_type": "execute_result"
    }
   ],
   "source": [
    "# this one is interesting: notice how it splits for the first section\n",
    "w = 'drim dark duggy'\n",
    "\n",
    "w.split('d')"
   ]
  },
  {
   "cell_type": "markdown",
   "id": "d5c1886c-9d97-473e-925d-84fe94267902",
   "metadata": {},
   "source": [
    "REVIEWING FAQS FOR STRINGS:\n",
    "\n",
    "Are strings mutable?\n",
    "    NO strings are not mutable, this means that you can;t use indexing to change individual elements of a string"
   ]
  },
  {
   "cell_type": "markdown",
   "id": "ed28ba49-33d5-4ad0-9f7e-182271712f22",
   "metadata": {},
   "source": [
    "NEXT TOPIC: String Formatting For Printing\n",
    "\n",
    "- you will often want to \"inject\" a variable into your string for printing\n",
    "\n",
    "example of string injection:\n",
    "\n",
    "user_name = \"Jose\"\n",
    "\n",
    "print(\"Hello\" + user_name)\n",
    "\n",
    "- there are multiple ways to format strings for printing variable in them\n",
    "- this process is STRING INTERPOLATION"
   ]
  },
  {
   "cell_type": "code",
   "execution_count": 76,
   "id": "09a303f0-358b-4802-9c00-d6264728e6ec",
   "metadata": {},
   "outputs": [
    {
     "name": "stdout",
     "output_type": "stream",
     "text": [
      "Hello Jose\n"
     ]
    }
   ],
   "source": [
    "user_name = \"Jose\"\n",
    "\n",
    "print(\"Hello \" + user_name)"
   ]
  },
  {
   "cell_type": "markdown",
   "id": "bf096ccf-7953-495c-89d5-b4984d911dbb",
   "metadata": {},
   "source": [
    "String interpolation is just a fancy way of saying we are going to stick a variable into a string\n",
    "\n",
    "there are two main methods for this:\n",
    "\n",
    ".format() method\n",
    "\n",
    "f-strings (stands for: formatted string literals)"
   ]
  },
  {
   "cell_type": "code",
   "execution_count": 78,
   "id": "a27e530f-4b0f-4a15-8220-5cc57cf390b5",
   "metadata": {},
   "outputs": [],
   "source": [
    "# .format() method syntax\n",
    "\n",
    "# 'String here {} then also {}'.format('injection1', 'injection2')\n",
    "\n",
    "# notice that this format uses curly braces as placeholders for the injection of variables"
   ]
  },
  {
   "cell_type": "code",
   "execution_count": 80,
   "id": "929cac03-5d62-44ed-b2b1-b5116edd1493",
   "metadata": {},
   "outputs": [
    {
     "name": "stdout",
     "output_type": "stream",
     "text": [
      "This is a string INSERTED\n"
     ]
    }
   ],
   "source": [
    "# .format() example:\n",
    "\n",
    "print('This is a string {}'.format('INSERTED'))"
   ]
  },
  {
   "cell_type": "code",
   "execution_count": 81,
   "id": "f757f34b-3770-41f3-9715-677fbfdf87e0",
   "metadata": {},
   "outputs": [
    {
     "name": "stdout",
     "output_type": "stream",
     "text": [
      "The fox brown quick\n"
     ]
    }
   ],
   "source": [
    "# We can insert via index position with .format()\n",
    "\n",
    "\"\"\"\n",
    "think about it, we are using a list and the list is \n",
    "then used to inject our list items into the correpsonding \n",
    "index value within the string, dictated by {}\n",
    "\"\"\"\n",
    "\n",
    "print('The {} {} {}'.format('fox', 'brown', 'quick'))"
   ]
  },
  {
   "cell_type": "code",
   "execution_count": 82,
   "id": "b1fcb5be-dadb-43db-aad8-0917d2bd1856",
   "metadata": {},
   "outputs": [
    {
     "name": "stdout",
     "output_type": "stream",
     "text": [
      "The quick brown fox\n"
     ]
    }
   ],
   "source": [
    "\"\"\"\n",
    "using index positions of this list above, \n",
    "we will reorder the string injection \n",
    "to make grammatical sense:\n",
    "\"\"\"\n",
    "\n",
    "print('The {2} {1} {0}'.format('fox', 'brown', 'quick'))"
   ]
  },
  {
   "cell_type": "code",
   "execution_count": 83,
   "id": "067c2368-8703-4e6e-b0c1-6d8d69776ebd",
   "metadata": {},
   "outputs": [
    {
     "name": "stdout",
     "output_type": "stream",
     "text": [
      "The fox fox fox\n"
     ]
    }
   ],
   "source": [
    "# additonal play for understanding of indexing with .format\n",
    "\n",
    "print('The {0} {0} {0}'.format('fox', 'brown', 'quick'))"
   ]
  },
  {
   "cell_type": "markdown",
   "id": "8f54076f-e196-46b8-9d99-923f97fd7408",
   "metadata": {},
   "source": [
    "CAN ASSIGN KEYWORDS TO LIST SO WE DON'T HAVE TO USE INDEX POSITION:"
   ]
  },
  {
   "cell_type": "code",
   "execution_count": 85,
   "id": "69952f3d-ec0c-423e-9cca-1fb1d4323c79",
   "metadata": {},
   "outputs": [
    {
     "name": "stdout",
     "output_type": "stream",
     "text": [
      "The fox brown quick\n"
     ]
    }
   ],
   "source": [
    "print('The {f} {b} {q}'.format(f = 'fox', b = 'brown', q = 'quick'))"
   ]
  },
  {
   "cell_type": "code",
   "execution_count": 86,
   "id": "24fe2c6b-b98d-4595-8661-d76221b2048f",
   "metadata": {},
   "outputs": [
    {
     "name": "stdout",
     "output_type": "stream",
     "text": [
      "The quick brown fox\n"
     ]
    }
   ],
   "source": [
    "print('The {q} {b} {f}'.format(f = 'fox', b = 'brown', q = 'quick'))"
   ]
  },
  {
   "cell_type": "markdown",
   "id": "fa19f7bb-69e4-4088-8823-fccee7da9857",
   "metadata": {},
   "source": [
    "FLOAT FORMATTING WITH .format method\n",
    "\n",
    "using the .format method for a floating point number allows us to adjust the width and precision of the float\n",
    "\n",
    "\n",
    "syntax for .format with floats:\n",
    "\n",
    "\"{value:width.precision f}\"\n",
    " \n",
    "the value is the value name \n",
    "\n",
    "width value dictates the amount of white space around your printed info\n",
    "\n",
    "the precision is really what you will care about"
   ]
  },
  {
   "cell_type": "code",
   "execution_count": 88,
   "id": "3f9ab6cc-094b-4756-8295-e6a40b56c393",
   "metadata": {},
   "outputs": [
    {
     "data": {
      "text/plain": [
       "0.1287001287001287"
      ]
     },
     "execution_count": 88,
     "metadata": {},
     "output_type": "execute_result"
    }
   ],
   "source": [
    "result = 100 / 777\n",
    "result"
   ]
  },
  {
   "cell_type": "code",
   "execution_count": 96,
   "id": "4690d45d-cf7f-45cb-a0ee-d5134039e84c",
   "metadata": {},
   "outputs": [
    {
     "name": "stdout",
     "output_type": "stream",
     "text": [
      "The result was 0.1287001287001287\n"
     ]
    }
   ],
   "source": [
    "print(\"The result was {}\".format(result))"
   ]
  },
  {
   "cell_type": "code",
   "execution_count": 97,
   "id": "e9eca91f-2eca-444a-8038-d3a0f5db80e4",
   "metadata": {},
   "outputs": [
    {
     "name": "stdout",
     "output_type": "stream",
     "text": [
      "The result was 0.1287001287001287\n"
     ]
    }
   ],
   "source": [
    "print(\"The result was {r}\".format(r = result))"
   ]
  },
  {
   "cell_type": "code",
   "execution_count": 105,
   "id": "9e194685-1c98-4e72-a101-eeb578d05547",
   "metadata": {},
   "outputs": [
    {
     "name": "stdout",
     "output_type": "stream",
     "text": [
      "The result was 0.12870\n"
     ]
    }
   ],
   "source": [
    "# here we can use .format to clean up the result to less decimal places\n",
    "print(\"The result was {r:1.5f}\".format(r = result))\n",
    "\n",
    "# looks like the f just adds a zero"
   ]
  },
  {
   "cell_type": "code",
   "execution_count": 106,
   "id": "e748ee2d-318e-498a-9ca4-c3ba7bbaad19",
   "metadata": {},
   "outputs": [
    {
     "name": "stdout",
     "output_type": "stream",
     "text": [
      "The result was 0.1287\n"
     ]
    }
   ],
   "source": [
    "print(\"The result was {r:1.5}\".format(r = result))"
   ]
  },
  {
   "cell_type": "markdown",
   "id": "328ac9c1-7d12-4694-a0c9-812cceaf5484",
   "metadata": {},
   "source": [
    "REVIW: FORMATTED STRING LITERALS< was added in python 3.6\n",
    "\n",
    "basically f-strings allow you to skipe the .format step"
   ]
  },
  {
   "cell_type": "code",
   "execution_count": 107,
   "id": "7492e0f3-007e-4a90-ad05-a948fdda4fc4",
   "metadata": {},
   "outputs": [],
   "source": [
    "name = \"Jose\""
   ]
  },
  {
   "cell_type": "code",
   "execution_count": 109,
   "id": "800af3d4-8034-42bf-8d7f-0cfcb4244b8a",
   "metadata": {},
   "outputs": [
    {
     "name": "stdout",
     "output_type": "stream",
     "text": [
      "Hello, his name is Jose\n"
     ]
    }
   ],
   "source": [
    "# the old method ( .format() )\n",
    "print('Hello, his name is {}'.format(name))"
   ]
  },
  {
   "cell_type": "code",
   "execution_count": 114,
   "id": "d94a40b9-a5f5-4cc9-ae35-5150a9aac548",
   "metadata": {},
   "outputs": [
    {
     "name": "stdout",
     "output_type": "stream",
     "text": [
      "Hello, his name is Jose\n",
      "Jose is 20 years old\n"
     ]
    }
   ],
   "source": [
    "# f-string method, just more strategies for string interpolation\n",
    "\n",
    "\"\"\"\n",
    "notice that it's really just a convenience improvement\n",
    "\n",
    "you write the variable name directly in the curly braces \n",
    "\n",
    "\n",
    "it will work with multiple variables as well just like .format()\n",
    "\"\"\"\n",
    "\n",
    "print(f'Hello, his name is {name}')\n",
    "\n",
    "age = 20\n",
    "\n",
    "print(f'{name} is {age} years old')\n"
   ]
  },
  {
   "cell_type": "markdown",
   "id": "fcdf00e7-0b68-43e7-b171-9702812f274b",
   "metadata": {},
   "source": [
    "LISTS IN PYTHON\n",
    "\n",
    "Lists are order sequences that can hold a variety of object types\n",
    "\n",
    "Just like strings, they support indexing and slicing"
   ]
  },
  {
   "cell_type": "code",
   "execution_count": 29,
   "id": "2c124cdd-3419-48d8-8c99-d39df6d2d784",
   "metadata": {},
   "outputs": [],
   "source": [
    "my_list = [1, 2, 3]"
   ]
  },
  {
   "cell_type": "code",
   "execution_count": 30,
   "id": "41ec43e5-05a1-4e8e-aae6-f52af17e752b",
   "metadata": {},
   "outputs": [
    {
     "data": {
      "text/plain": [
       "[1, 2, 3]"
      ]
     },
     "execution_count": 30,
     "metadata": {},
     "output_type": "execute_result"
    }
   ],
   "source": [
    "my_list"
   ]
  },
  {
   "cell_type": "code",
   "execution_count": 31,
   "id": "28640332-1573-4981-a0a1-dafc1bf4c69d",
   "metadata": {},
   "outputs": [],
   "source": [
    "# notice that lists can hold multiple data types\n",
    "\n",
    "my_list = ['STRING', 10, 23.2]"
   ]
  },
  {
   "cell_type": "code",
   "execution_count": 32,
   "id": "67b22f10-4ea4-45c7-adc8-3100496c541f",
   "metadata": {},
   "outputs": [
    {
     "data": {
      "text/plain": [
       "3"
      ]
     },
     "execution_count": 32,
     "metadata": {},
     "output_type": "execute_result"
    }
   ],
   "source": [
    "len(my_list)\n",
    "\n",
    "# len returns how many items are in the list"
   ]
  },
  {
   "cell_type": "code",
   "execution_count": 33,
   "id": "2297cfbe-825f-49c4-8007-8607045a565c",
   "metadata": {},
   "outputs": [
    {
     "data": {
      "text/plain": [
       "1"
      ]
     },
     "execution_count": 33,
     "metadata": {},
     "output_type": "execute_result"
    }
   ],
   "source": [
    "# because a list is an ordered seuqnece of elements, we c an use slicing or indexing\n",
    "\n",
    "\n",
    "my_list = [1, 2, 3]\n",
    "\n",
    "my_list[0]"
   ]
  },
  {
   "cell_type": "code",
   "execution_count": 34,
   "id": "837f3962-d78c-40da-b495-e3c31de250bd",
   "metadata": {},
   "outputs": [
    {
     "data": {
      "text/plain": [
       "[2, 3]"
      ]
     },
     "execution_count": 34,
     "metadata": {},
     "output_type": "execute_result"
    }
   ],
   "source": [
    "my_list[1:]"
   ]
  },
  {
   "cell_type": "code",
   "execution_count": 35,
   "id": "c6f66c45-710b-4c77-b72d-ca952a6671c6",
   "metadata": {},
   "outputs": [
    {
     "data": {
      "text/plain": [
       "[3, 2, 1]"
      ]
     },
     "execution_count": 35,
     "metadata": {},
     "output_type": "execute_result"
    }
   ],
   "source": [
    "my_list[::-1]"
   ]
  },
  {
   "cell_type": "code",
   "execution_count": 36,
   "id": "81691808-ed86-495b-9e75-6b911dee3ee4",
   "metadata": {},
   "outputs": [
    {
     "data": {
      "text/plain": [
       "[1, 2, 3, 'four', 'five']"
      ]
     },
     "execution_count": 36,
     "metadata": {},
     "output_type": "execute_result"
    }
   ],
   "source": [
    "# can concatenate lists together\n",
    "\n",
    "another_list = ['four', 'five']\n",
    "\n",
    "new_list = my_list + another_list\n",
    "\n",
    "new_list"
   ]
  },
  {
   "cell_type": "markdown",
   "id": "ea9cf589-af1f-45ca-b5fa-7b1622a8f720",
   "metadata": {},
   "source": [
    "LISTS ARE MUTABLE (CAN MUTATE THEM), UNLIKE WITH STRINGS:"
   ]
  },
  {
   "cell_type": "code",
   "execution_count": 37,
   "id": "c9ac8db1-bfb7-46b3-8e54-194e5a01f332",
   "metadata": {},
   "outputs": [
    {
     "data": {
      "text/plain": [
       "[1, 2, 3, 'four', 'five']"
      ]
     },
     "execution_count": 37,
     "metadata": {},
     "output_type": "execute_result"
    }
   ],
   "source": [
    "new_list"
   ]
  },
  {
   "cell_type": "code",
   "execution_count": 38,
   "id": "e45a9734-25c0-4e93-b60c-4219a154f33d",
   "metadata": {},
   "outputs": [
    {
     "data": {
      "text/plain": [
       "['BIG FUCKING CHANGE', 2, 3, 'four', 'five']"
      ]
     },
     "execution_count": 38,
     "metadata": {},
     "output_type": "execute_result"
    }
   ],
   "source": [
    "# example of mutating a list (changing it)\n",
    "\n",
    "new_list[0] = 'BIG FUCKING CHANGE'\n",
    "\n",
    "new_list"
   ]
  },
  {
   "cell_type": "code",
   "execution_count": 39,
   "id": "52e690dc-cc5a-4f24-9a34-fda74ca88a76",
   "metadata": {},
   "outputs": [
    {
     "data": {
      "text/plain": [
       "['BIG FUCKING CHANGE', 2, 3, 'four', 'five', 'six']"
      ]
     },
     "execution_count": 39,
     "metadata": {},
     "output_type": "execute_result"
    }
   ],
   "source": [
    "# adding an element to the end of a list: using append here\n",
    "\n",
    "new_list.append('six')\n",
    "\n",
    "new_list"
   ]
  },
  {
   "cell_type": "code",
   "execution_count": 40,
   "id": "c9f5e89f-757f-496c-866c-c37ab0fad2aa",
   "metadata": {},
   "outputs": [
    {
     "data": {
      "text/plain": [
       "['BIG FUCKING CHANGE', 2, 3, 'four', 'five', 'six', 'seven']"
      ]
     },
     "execution_count": 40,
     "metadata": {},
     "output_type": "execute_result"
    }
   ],
   "source": [
    "new_list.append('seven')\n",
    "\n",
    "new_list"
   ]
  },
  {
   "cell_type": "code",
   "execution_count": 41,
   "id": "efe9833c-3682-4f51-93e0-6b8b30093e39",
   "metadata": {},
   "outputs": [
    {
     "data": {
      "text/plain": [
       "'seven'"
      ]
     },
     "execution_count": 41,
     "metadata": {},
     "output_type": "execute_result"
    }
   ],
   "source": [
    "# using POP method here, it pops off an item from the end of a list\n",
    "\n",
    "new_list.pop()"
   ]
  },
  {
   "cell_type": "code",
   "execution_count": 43,
   "id": "b1c510b8-d8c8-4c9d-a8ba-832d6c8a6ad1",
   "metadata": {},
   "outputs": [
    {
     "data": {
      "text/plain": [
       "['BIG FUCKING CHANGE', 2, 3, 'four', 'five', 'six']"
      ]
     },
     "execution_count": 43,
     "metadata": {},
     "output_type": "execute_result"
    }
   ],
   "source": [
    "# notice that new_list no longer has the seven at the end because we popped it off\n",
    "\n",
    "new_list"
   ]
  },
  {
   "cell_type": "code",
   "execution_count": 44,
   "id": "73c48013-af82-4199-be6b-b2dc713f5227",
   "metadata": {},
   "outputs": [],
   "source": [
    "# can save a popped item accordingly:\n",
    "\n",
    "new_item = new_list.pop()"
   ]
  },
  {
   "cell_type": "code",
   "execution_count": 45,
   "id": "ccdac4ab-3c96-42a4-a1e5-19ad4391768f",
   "metadata": {},
   "outputs": [
    {
     "data": {
      "text/plain": [
       "'six'"
      ]
     },
     "execution_count": 45,
     "metadata": {},
     "output_type": "execute_result"
    }
   ],
   "source": [
    "new_item"
   ]
  },
  {
   "cell_type": "code",
   "execution_count": 47,
   "id": "0b78f6e5-c4c2-44f9-aa0b-2261e6dfdae1",
   "metadata": {},
   "outputs": [
    {
     "data": {
      "text/plain": [
       "'BIG FUCKING CHANGE'"
      ]
     },
     "execution_count": 47,
     "metadata": {},
     "output_type": "execute_result"
    }
   ],
   "source": [
    "new_list.pop(0)"
   ]
  },
  {
   "cell_type": "code",
   "execution_count": 49,
   "id": "2e64b00a-0256-44f1-be86-17725aca9bbf",
   "metadata": {},
   "outputs": [
    {
     "data": {
      "text/plain": [
       "[2, 3, 'four']"
      ]
     },
     "execution_count": 49,
     "metadata": {},
     "output_type": "execute_result"
    }
   ],
   "source": [
    "new_list"
   ]
  },
  {
   "cell_type": "code",
   "execution_count": 50,
   "id": "df03e426-d6d5-41d3-aa77-21537e80d75a",
   "metadata": {},
   "outputs": [],
   "source": [
    "new_list = ['a', 'e', 'x', 'b', 'c']\n",
    "\n",
    "num_list = [4, 1, 8, 3]"
   ]
  },
  {
   "cell_type": "code",
   "execution_count": 53,
   "id": "c1976f6b-882a-449d-b5f7-df69903043b3",
   "metadata": {},
   "outputs": [],
   "source": [
    "# notice that this sorts the list in place and sorted it in alphabetical order. It didn;t actually return anything\n",
    "\n",
    "new_list.sort()"
   ]
  },
  {
   "cell_type": "code",
   "execution_count": 54,
   "id": "d66a82e0-1e07-4c4d-86b7-6f0dd85707cc",
   "metadata": {},
   "outputs": [
    {
     "data": {
      "text/plain": [
       "['a', 'b', 'c', 'e', 'x']"
      ]
     },
     "execution_count": 54,
     "metadata": {},
     "output_type": "execute_result"
    }
   ],
   "source": [
    "new_list"
   ]
  },
  {
   "cell_type": "code",
   "execution_count": 56,
   "id": "4e15b06d-1503-468c-8af6-3bad554a9ad6",
   "metadata": {},
   "outputs": [],
   "source": [
    "# notice that is we try assiging the sorted list to anew variable, it won;t return any data, because it sorted new_list in place rather than providing any new list\n",
    "\n",
    "new_list_sorted = new_list.sort()\n",
    "\n",
    "new_list_sorted"
   ]
  },
  {
   "cell_type": "code",
   "execution_count": 57,
   "id": "525aac86-6745-42aa-8139-0ed7aa4b2388",
   "metadata": {},
   "outputs": [
    {
     "data": {
      "text/plain": [
       "NoneType"
      ]
     },
     "execution_count": 57,
     "metadata": {},
     "output_type": "execute_result"
    }
   ],
   "source": [
    "type(new_list_sorted)"
   ]
  },
  {
   "cell_type": "code",
   "execution_count": 58,
   "id": "9f4b45c4-582f-46c4-a75b-470e91a96423",
   "metadata": {},
   "outputs": [
    {
     "data": {
      "text/plain": [
       "[1, 3, 4, 8]"
      ]
     },
     "execution_count": 58,
     "metadata": {},
     "output_type": "execute_result"
    }
   ],
   "source": [
    "num_list.sort()\n",
    "\n",
    "num_list"
   ]
  },
  {
   "cell_type": "code",
   "execution_count": 61,
   "id": "8f34b44c-e435-4158-9e17-8403400a4923",
   "metadata": {},
   "outputs": [
    {
     "data": {
      "text/plain": [
       "[8, 4, 3, 1]"
      ]
     },
     "execution_count": 61,
     "metadata": {},
     "output_type": "execute_result"
    }
   ],
   "source": [
    "# discussing reverse method now, this operates in placve just like sort\n",
    "\n",
    "num_list.reverse()\n",
    "\n",
    "num_list"
   ]
  },
  {
   "cell_type": "markdown",
   "id": "880bedff-3086-4c12-bdb8-17cc479aa163",
   "metadata": {},
   "source": [
    "DISCUSSING DICTIONOARIES NOW\n",
    "\n",
    "ARE UNOREDERED MAPPINGS FOR STORING OBJECTS\n",
    "\n",
    "DICTIONARIES USE KEY-VALUE PAIRING AS AN ALTERNATIV E TO ORDERED SEQUENCING\n",
    "\n",
    "DICTIONARY SYNTAX:\n",
    "\n",
    "{'key1': 'value1', 'key2': 'value2'}"
   ]
  },
  {
   "cell_type": "code",
   "execution_count": 65,
   "id": "114cecc5-3437-4980-b588-11e67c8f198d",
   "metadata": {},
   "outputs": [
    {
     "data": {
      "text/plain": [
       "'value1'"
      ]
     },
     "execution_count": 65,
     "metadata": {},
     "output_type": "execute_result"
    }
   ],
   "source": [
    "# basically you trade ease of navigation (via key pairs) for the ability to order or sequence that you would get with a list)\n",
    "\n",
    "my_dict = {'key1': 'value1', 'key2': 'value2'}\n",
    "\n",
    "my_dict['key1']"
   ]
  },
  {
   "cell_type": "code",
   "execution_count": 68,
   "id": "40cfca8d-08c1-4303-8128-40266acd433a",
   "metadata": {},
   "outputs": [],
   "source": [
    "prices_lookup = {'apple':2.99, 'oranges':1.99, 'milk':5.80}"
   ]
  },
  {
   "cell_type": "code",
   "execution_count": 69,
   "id": "11fe1db9-2e78-4320-81c6-52be4786695a",
   "metadata": {},
   "outputs": [
    {
     "data": {
      "text/plain": [
       "2.99"
      ]
     },
     "execution_count": 69,
     "metadata": {},
     "output_type": "execute_result"
    }
   ],
   "source": [
    "prices_lookup['apple']"
   ]
  },
  {
   "cell_type": "code",
   "execution_count": 72,
   "id": "81473b92-d2b5-4cec-8d48-bce345196c43",
   "metadata": {},
   "outputs": [],
   "source": [
    "# remember that dictionaries can hold lists or other dictionaries\n",
    "\n",
    "d = {'k1':123, 'k2': [0, 1, 2], 'k3': {'insidekey':100}}"
   ]
  },
  {
   "cell_type": "code",
   "execution_count": 76,
   "id": "09c66f70-829c-4a8e-a9e9-6c8c70ffe360",
   "metadata": {},
   "outputs": [
    {
     "data": {
      "text/plain": [
       "[0, 1, 2]"
      ]
     },
     "execution_count": 76,
     "metadata": {},
     "output_type": "execute_result"
    }
   ],
   "source": [
    "d['k2']"
   ]
  },
  {
   "cell_type": "code",
   "execution_count": 79,
   "id": "109399bb-e303-4bb0-aaec-a0f1dfaed1a2",
   "metadata": {},
   "outputs": [
    {
     "data": {
      "text/plain": [
       "2"
      ]
     },
     "execution_count": 79,
     "metadata": {},
     "output_type": "execute_result"
    }
   ],
   "source": [
    "d['k2'][2]"
   ]
  },
  {
   "cell_type": "code",
   "execution_count": 77,
   "id": "9e4cb2f3-f6a5-4fd0-b480-e7d3c44ba078",
   "metadata": {},
   "outputs": [
    {
     "data": {
      "text/plain": [
       "{'insidekey': 100}"
      ]
     },
     "execution_count": 77,
     "metadata": {},
     "output_type": "execute_result"
    }
   ],
   "source": [
    "d['k3']"
   ]
  },
  {
   "cell_type": "code",
   "execution_count": 78,
   "id": "a2f23a3f-0115-46f0-9956-1460520d80de",
   "metadata": {},
   "outputs": [
    {
     "data": {
      "text/plain": [
       "100"
      ]
     },
     "execution_count": 78,
     "metadata": {},
     "output_type": "execute_result"
    }
   ],
   "source": [
    "d['k3']['insidekey']"
   ]
  },
  {
   "cell_type": "code",
   "execution_count": 80,
   "id": "68be8850-d5f4-4711-bef1-6f47d93423e3",
   "metadata": {},
   "outputs": [
    {
     "data": {
      "text/plain": [
       "[1, 2, 3]"
      ]
     },
     "execution_count": 80,
     "metadata": {},
     "output_type": "execute_result"
    }
   ],
   "source": [
    "new_dict = {'k1': [1, 2, 3]}\n",
    "    \n",
    "my_list = new_dict['k1']\n",
    "\n",
    "my_list"
   ]
  },
  {
   "cell_type": "code",
   "execution_count": 81,
   "id": "c6c45567-72e2-4d5e-8ded-0734bcc86db9",
   "metadata": {},
   "outputs": [],
   "source": [
    "# adding new values to a dicionary\n",
    "\n",
    "d = {'k1': 100, 'k2': 300}"
   ]
  },
  {
   "cell_type": "code",
   "execution_count": 82,
   "id": "050968fd-5f12-4377-bb7f-7e46fc0b7077",
   "metadata": {},
   "outputs": [],
   "source": [
    "d['k3'] = 300"
   ]
  },
  {
   "cell_type": "code",
   "execution_count": 83,
   "id": "57f3982a-bb1e-4770-8092-7470e6d7442c",
   "metadata": {},
   "outputs": [
    {
     "data": {
      "text/plain": [
       "{'k1': 100, 'k2': 300, 'k3': 300}"
      ]
     },
     "execution_count": 83,
     "metadata": {},
     "output_type": "execute_result"
    }
   ],
   "source": [
    "d"
   ]
  },
  {
   "cell_type": "code",
   "execution_count": 84,
   "id": "4409b39e-3928-4c36-a2cb-72ae77c69e1c",
   "metadata": {},
   "outputs": [],
   "source": [
    "# use the same method for adding a new dictionary value to overwirt ean old value\n",
    "\n",
    "d['k1'] = 'FUCK'"
   ]
  },
  {
   "cell_type": "code",
   "execution_count": 85,
   "id": "6b0962ff-e334-45f2-9e79-e957e606d2e5",
   "metadata": {},
   "outputs": [
    {
     "data": {
      "text/plain": [
       "{'k1': 'FUCK', 'k2': 300, 'k3': 300}"
      ]
     },
     "execution_count": 85,
     "metadata": {},
     "output_type": "execute_result"
    }
   ],
   "source": [
    "d"
   ]
  },
  {
   "cell_type": "code",
   "execution_count": 88,
   "id": "81473683-4c59-4f4a-96a8-422004fadfe0",
   "metadata": {},
   "outputs": [
    {
     "data": {
      "text/plain": [
       "dict_keys(['k1', 'k2', 'k3'])"
      ]
     },
     "execution_count": 88,
     "metadata": {},
     "output_type": "execute_result"
    }
   ],
   "source": [
    "# this is how you see all the keyas\n",
    "\n",
    "d.keys()"
   ]
  },
  {
   "cell_type": "code",
   "execution_count": 90,
   "id": "e7ce6817-2aa6-4f1a-b09f-7bb2098fc86d",
   "metadata": {},
   "outputs": [
    {
     "data": {
      "text/plain": [
       "dict_values(['FUCK', 300, 300])"
      ]
     },
     "execution_count": 90,
     "metadata": {},
     "output_type": "execute_result"
    }
   ],
   "source": [
    "#  this is how you see all the values\n",
    "d.values()"
   ]
  },
  {
   "cell_type": "code",
   "execution_count": 91,
   "id": "3fe89a7e-b7be-4b7a-b73c-cef8dbe5753e",
   "metadata": {},
   "outputs": [
    {
     "data": {
      "text/plain": [
       "dict_items([('k1', 'FUCK'), ('k2', 300), ('k3', 300)])"
      ]
     },
     "execution_count": 91,
     "metadata": {},
     "output_type": "execute_result"
    }
   ],
   "source": [
    "# this is how you see the entire dicitonary\n",
    "\n",
    "d.items()"
   ]
  },
  {
   "cell_type": "code",
   "execution_count": 92,
   "id": "5fdd474d-9ab6-4ead-9513-5bb7669a165b",
   "metadata": {},
   "outputs": [],
   "source": [
    "# key value pairs are basically just a tuple"
   ]
  },
  {
   "cell_type": "markdown",
   "id": "d54bdea6-f1cd-4a2f-8e54-4b717edaaba9",
   "metadata": {},
   "source": [
    "TUPLES IN PYTHON:\n",
    "\n",
    "Tuples are very similar to Lists, but tuples are IMMUTABLE\n",
    "\n",
    "once an element is inside a tuple, it cannot be reassigned\n",
    "\n",
    "Tuple syntax:\n",
    "\n",
    "you use parentheses: (1, 2, 3)\n"
   ]
  },
  {
   "cell_type": "code",
   "execution_count": 2,
   "id": "fd1e6d3c-ffd3-4def-a452-d86b9e7bf9ea",
   "metadata": {},
   "outputs": [],
   "source": [
    "# Keep in mind that tuples function ina. very simkilar way to lists\n",
    "\n",
    "mytuple = (1,2,3)"
   ]
  },
  {
   "cell_type": "code",
   "execution_count": 3,
   "id": "b58a2d9f-bad6-42be-b8c3-63e72e6b01b6",
   "metadata": {},
   "outputs": [],
   "source": [
    "mylist = [1,2,3]"
   ]
  },
  {
   "cell_type": "code",
   "execution_count": 4,
   "id": "c38d946a-ec87-436b-8584-79960002dd8e",
   "metadata": {},
   "outputs": [
    {
     "data": {
      "text/plain": [
       "tuple"
      ]
     },
     "execution_count": 4,
     "metadata": {},
     "output_type": "execute_result"
    }
   ],
   "source": [
    "type(mytuple)"
   ]
  },
  {
   "cell_type": "code",
   "execution_count": 5,
   "id": "e6bb3852-29e6-4c02-80d7-b2869c4a9197",
   "metadata": {},
   "outputs": [
    {
     "data": {
      "text/plain": [
       "list"
      ]
     },
     "execution_count": 5,
     "metadata": {},
     "output_type": "execute_result"
    }
   ],
   "source": [
    "type(mylist)"
   ]
  },
  {
   "cell_type": "code",
   "execution_count": 6,
   "id": "e7eb0bc4-ddb2-4e85-8d47-fabf5c5208bf",
   "metadata": {},
   "outputs": [
    {
     "data": {
      "text/plain": [
       "3"
      ]
     },
     "execution_count": 6,
     "metadata": {},
     "output_type": "execute_result"
    }
   ],
   "source": [
    "len(mytuple)"
   ]
  },
  {
   "cell_type": "code",
   "execution_count": 8,
   "id": "9d003c3f-f6be-4cb8-9229-b885bb747a16",
   "metadata": {},
   "outputs": [],
   "source": [
    "# it's fine to mix obnject types in a tuple just like with a list, you can also slice and index like with lists\n",
    "\n",
    "tuple = ('one', 2)"
   ]
  },
  {
   "cell_type": "code",
   "execution_count": 10,
   "id": "550daac2-8378-47a2-80cf-798ae4643157",
   "metadata": {},
   "outputs": [
    {
     "data": {
      "text/plain": [
       "'one'"
      ]
     },
     "execution_count": 10,
     "metadata": {},
     "output_type": "execute_result"
    }
   ],
   "source": [
    "tuple[0]"
   ]
  },
  {
   "cell_type": "code",
   "execution_count": 11,
   "id": "2fa0406b-773c-49bc-870c-bc54e2cc6411",
   "metadata": {},
   "outputs": [],
   "source": [
    "t = ('a', 'a', 'b')"
   ]
  },
  {
   "cell_type": "code",
   "execution_count": 12,
   "id": "1b090dba-39c5-487f-be93-b8bfde550b35",
   "metadata": {},
   "outputs": [
    {
     "data": {
      "text/plain": [
       "<function tuple.count(value, /)>"
      ]
     },
     "execution_count": 12,
     "metadata": {},
     "output_type": "execute_result"
    }
   ],
   "source": [
    "t.count"
   ]
  },
  {
   "cell_type": "code",
   "execution_count": 15,
   "id": "ef61ffa7-3559-4cbf-8b36-b76874c82685",
   "metadata": {},
   "outputs": [
    {
     "data": {
      "text/plain": [
       "2"
      ]
     },
     "execution_count": 15,
     "metadata": {},
     "output_type": "execute_result"
    }
   ],
   "source": [
    "t.count('a')"
   ]
  },
  {
   "cell_type": "code",
   "execution_count": 16,
   "id": "ceff7872-f8d1-467a-9f50-218adfc1f199",
   "metadata": {},
   "outputs": [
    {
     "data": {
      "text/plain": [
       "0"
      ]
     },
     "execution_count": 16,
     "metadata": {},
     "output_type": "execute_result"
    }
   ],
   "source": [
    "t.index('a')"
   ]
  },
  {
   "cell_type": "code",
   "execution_count": 17,
   "id": "0de4ab22-411e-4951-8255-1171c649eb02",
   "metadata": {},
   "outputs": [
    {
     "data": {
      "text/plain": [
       "2"
      ]
     },
     "execution_count": 17,
     "metadata": {},
     "output_type": "execute_result"
    }
   ],
   "source": [
    "t.index('b')"
   ]
  },
  {
   "cell_type": "code",
   "execution_count": 19,
   "id": "372116ea-08a3-494b-98d7-0e9327f2c834",
   "metadata": {},
   "outputs": [],
   "source": [
    "# WHAT MAKES A TUPLE DIFFERENT FROMA LIST: IMMUTABILITY\n",
    "\n",
    "mylist[0] = 'new'"
   ]
  },
  {
   "cell_type": "code",
   "execution_count": 21,
   "id": "70d2f86a-580c-4ddc-befd-54287563b1f1",
   "metadata": {},
   "outputs": [
    {
     "ename": "TypeError",
     "evalue": "'tuple' object does not support item assignment",
     "output_type": "error",
     "traceback": [
      "\u001b[0;31m---------------------------------------------------------------------------\u001b[0m",
      "\u001b[0;31mTypeError\u001b[0m                                 Traceback (most recent call last)",
      "\u001b[0;32m/var/folders/9l/kb4zxp_16lx6phccx7c7yk0r0000gn/T/ipykernel_11206/3008787185.py\u001b[0m in \u001b[0;36m<module>\u001b[0;34m\u001b[0m\n\u001b[1;32m      1\u001b[0m \u001b[0;31m# this should throw an error because tuples are immutable\u001b[0m\u001b[0;34m\u001b[0m\u001b[0;34m\u001b[0m\u001b[0;34m\u001b[0m\u001b[0m\n\u001b[1;32m      2\u001b[0m \u001b[0;34m\u001b[0m\u001b[0m\n\u001b[0;32m----> 3\u001b[0;31m \u001b[0mmytuple\u001b[0m\u001b[0;34m[\u001b[0m\u001b[0;36m0\u001b[0m\u001b[0;34m]\u001b[0m \u001b[0;34m=\u001b[0m \u001b[0;34m'new'\u001b[0m\u001b[0;34m\u001b[0m\u001b[0;34m\u001b[0m\u001b[0m\n\u001b[0m",
      "\u001b[0;31mTypeError\u001b[0m: 'tuple' object does not support item assignment"
     ]
    }
   ],
   "source": [
    "# this should throw an error because tuples are immutable\n",
    "\n",
    "mytuple[0] = 'new'"
   ]
  },
  {
   "cell_type": "code",
   "execution_count": 22,
   "id": "5da526ad-da43-4bc5-a340-fa822f5ce723",
   "metadata": {},
   "outputs": [],
   "source": [
    "# tuples are really useful later on in programming, especially when you are passing around objects in your program and want to make sure that your data types don;t change (that they maintain data integrity)"
   ]
  },
  {
   "cell_type": "markdown",
   "id": "5b8c1995-79e2-4978-9baf-f9a660f8f81e",
   "metadata": {},
   "source": [
    "SETS IN PYTHON:\n",
    "\n",
    "Sets are unordered collections of unique elements \n",
    "\n",
    "Meaning there can only be one representative of the same object\n",
    "\n",
    "you can use this on strings, lists or whatever really"
   ]
  },
  {
   "cell_type": "markdown",
   "id": "28e1052f-f090-44a3-a64a-74d49cc1ca04",
   "metadata": {},
   "source": [
    "myset = set()"
   ]
  },
  {
   "cell_type": "code",
   "execution_count": 24,
   "id": "2c832537-b2c3-4c5d-96b1-b77023e63683",
   "metadata": {},
   "outputs": [
    {
     "data": {
      "text/plain": [
       "set()"
      ]
     },
     "execution_count": 24,
     "metadata": {},
     "output_type": "execute_result"
    }
   ],
   "source": [
    "myset"
   ]
  },
  {
   "cell_type": "code",
   "execution_count": 25,
   "id": "17defb74-d164-404c-9b4c-65b05be14927",
   "metadata": {},
   "outputs": [],
   "source": [
    "myset.add(1)"
   ]
  },
  {
   "cell_type": "code",
   "execution_count": 26,
   "id": "cb99f975-88b3-4f12-b5c4-d40ade9250ea",
   "metadata": {},
   "outputs": [
    {
     "data": {
      "text/plain": [
       "{1}"
      ]
     },
     "execution_count": 26,
     "metadata": {},
     "output_type": "execute_result"
    }
   ],
   "source": [
    "myset"
   ]
  },
  {
   "cell_type": "code",
   "execution_count": 28,
   "id": "b9613dbd-6240-494a-8e33-86e9210d1b14",
   "metadata": {},
   "outputs": [],
   "source": [
    "# notice that the set looks like a dictionary, it is NOT, has no key-value pairs\n",
    "\n",
    "myset.add(2)"
   ]
  },
  {
   "cell_type": "code",
   "execution_count": 29,
   "id": "8cfa237a-7fe5-4c4a-ae74-1b88d85f3ecf",
   "metadata": {},
   "outputs": [
    {
     "data": {
      "text/plain": [
       "{1, 2}"
      ]
     },
     "execution_count": 29,
     "metadata": {},
     "output_type": "execute_result"
    }
   ],
   "source": [
    "myset"
   ]
  },
  {
   "cell_type": "code",
   "execution_count": 30,
   "id": "0825c59b-77f8-4c28-9546-0a795d8e3326",
   "metadata": {},
   "outputs": [],
   "source": [
    "myset.add(2)"
   ]
  },
  {
   "cell_type": "code",
   "execution_count": 31,
   "id": "4194c314-606a-4a81-900b-2b9b6ea0a025",
   "metadata": {},
   "outputs": [
    {
     "data": {
      "text/plain": [
       "{1, 2}"
      ]
     },
     "execution_count": 31,
     "metadata": {},
     "output_type": "execute_result"
    }
   ],
   "source": [
    "myset"
   ]
  },
  {
   "cell_type": "markdown",
   "id": "48b2d0b4-5149-4749-a5eb-170d17b1b859",
   "metadata": {},
   "source": [
    "Notice that it only accepts unique values!!\n",
    "\n",
    "you can cast a list to a set though to only get unique values, super useful for EIA data\n"
   ]
  },
  {
   "cell_type": "code",
   "execution_count": 34,
   "id": "8854065e-93b4-4ca1-8288-9ec862dbd0d6",
   "metadata": {},
   "outputs": [
    {
     "data": {
      "text/plain": [
       "{1, 3, 4, 5, 7, 8}"
      ]
     },
     "execution_count": 34,
     "metadata": {},
     "output_type": "execute_result"
    }
   ],
   "source": [
    "mylist = [1,1,3,4,5,5,5,7,8,8]\n",
    "\n",
    "newset = set(mylist)\n",
    "\n",
    "newset"
   ]
  },
  {
   "cell_type": "code",
   "execution_count": 35,
   "id": "37fe8fec-9fd4-48e4-889d-7d4f9cbcd8e7",
   "metadata": {},
   "outputs": [
    {
     "data": {
      "text/plain": [
       "[1, 3, 4, 5, 7, 8]"
      ]
     },
     "execution_count": 35,
     "metadata": {},
     "output_type": "execute_result"
    }
   ],
   "source": [
    "# can also convert a set back into a list!!!!! this is fucking sick\n",
    "\n",
    "list(newset)"
   ]
  },
  {
   "cell_type": "markdown",
   "id": "1975a4e6-63b6-46f8-925b-ef73208c535c",
   "metadata": {},
   "source": [
    "BOOLEANS:\n",
    "    \n",
    "    Booleans are operators that allow you to convery True or False statements\n",
    "    \n",
    "    these ar every important later on for control flow and conditional logic\n",
    "    \n",
    "    \n",
    "    \n",
    "    Booleans are either True or False (case-sensitive)"
   ]
  },
  {
   "cell_type": "code",
   "execution_count": 36,
   "id": "faf69c08-ac16-4cbc-9375-73c5573799eb",
   "metadata": {},
   "outputs": [
    {
     "data": {
      "text/plain": [
       "True"
      ]
     },
     "execution_count": 36,
     "metadata": {},
     "output_type": "execute_result"
    }
   ],
   "source": [
    "True"
   ]
  },
  {
   "cell_type": "code",
   "execution_count": 37,
   "id": "42265d0c-7624-492d-a803-c91207201e3a",
   "metadata": {},
   "outputs": [
    {
     "data": {
      "text/plain": [
       "False"
      ]
     },
     "execution_count": 37,
     "metadata": {},
     "output_type": "execute_result"
    }
   ],
   "source": [
    "False"
   ]
  },
  {
   "cell_type": "code",
   "execution_count": 38,
   "id": "4cf917a9-99a3-45d7-88f4-5ae4396872ef",
   "metadata": {},
   "outputs": [
    {
     "ename": "NameError",
     "evalue": "name 'true' is not defined",
     "output_type": "error",
     "traceback": [
      "\u001b[0;31m---------------------------------------------------------------------------\u001b[0m",
      "\u001b[0;31mNameError\u001b[0m                                 Traceback (most recent call last)",
      "\u001b[0;32m/var/folders/9l/kb4zxp_16lx6phccx7c7yk0r0000gn/T/ipykernel_11206/592217714.py\u001b[0m in \u001b[0;36m<module>\u001b[0;34m\u001b[0m\n\u001b[0;32m----> 1\u001b[0;31m \u001b[0mtrue\u001b[0m\u001b[0;34m\u001b[0m\u001b[0;34m\u001b[0m\u001b[0m\n\u001b[0m",
      "\u001b[0;31mNameError\u001b[0m: name 'true' is not defined"
     ]
    }
   ],
   "source": [
    "true"
   ]
  },
  {
   "cell_type": "code",
   "execution_count": 39,
   "id": "6232ae30-c093-4164-8239-7e6f0a90ff97",
   "metadata": {},
   "outputs": [
    {
     "ename": "NameError",
     "evalue": "name 'false' is not defined",
     "output_type": "error",
     "traceback": [
      "\u001b[0;31m---------------------------------------------------------------------------\u001b[0m",
      "\u001b[0;31mNameError\u001b[0m                                 Traceback (most recent call last)",
      "\u001b[0;32m/var/folders/9l/kb4zxp_16lx6phccx7c7yk0r0000gn/T/ipykernel_11206/1273114308.py\u001b[0m in \u001b[0;36m<module>\u001b[0;34m\u001b[0m\n\u001b[0;32m----> 1\u001b[0;31m \u001b[0mfalse\u001b[0m\u001b[0;34m\u001b[0m\u001b[0;34m\u001b[0m\u001b[0m\n\u001b[0m",
      "\u001b[0;31mNameError\u001b[0m: name 'false' is not defined"
     ]
    }
   ],
   "source": [
    "false"
   ]
  },
  {
   "cell_type": "code",
   "execution_count": 40,
   "id": "a31493cc-d666-408f-8433-aa1737baaa64",
   "metadata": {},
   "outputs": [
    {
     "data": {
      "text/plain": [
       "bool"
      ]
     },
     "execution_count": 40,
     "metadata": {},
     "output_type": "execute_result"
    }
   ],
   "source": [
    "type(True)"
   ]
  },
  {
   "cell_type": "code",
   "execution_count": 41,
   "id": "15183993-c3e2-4b0b-b224-9199423b4997",
   "metadata": {},
   "outputs": [
    {
     "data": {
      "text/plain": [
       "bool"
      ]
     },
     "execution_count": 41,
     "metadata": {},
     "output_type": "execute_result"
    }
   ],
   "source": [
    "type(False)"
   ]
  },
  {
   "cell_type": "code",
   "execution_count": 45,
   "id": "df0d770a-462c-4f1f-8917-57deb666c492",
   "metadata": {},
   "outputs": [
    {
     "data": {
      "text/plain": [
       "False"
      ]
     },
     "execution_count": 45,
     "metadata": {},
     "output_type": "execute_result"
    }
   ],
   "source": [
    "# comparison operators like > < ==, = all return booleans\n",
    "\n",
    "1>2"
   ]
  },
  {
   "cell_type": "code",
   "execution_count": 46,
   "id": "35d0e417-e0b9-43fc-8292-9007227fcfd6",
   "metadata": {},
   "outputs": [
    {
     "data": {
      "text/plain": [
       "True"
      ]
     },
     "execution_count": 46,
     "metadata": {},
     "output_type": "execute_result"
    }
   ],
   "source": [
    "1 == 1"
   ]
  },
  {
   "cell_type": "code",
   "execution_count": 47,
   "id": "9a56dee2-6972-4c22-a52c-87e1101ce2bb",
   "metadata": {},
   "outputs": [
    {
     "data": {
      "text/plain": [
       "False"
      ]
     },
     "execution_count": 47,
     "metadata": {},
     "output_type": "execute_result"
    }
   ],
   "source": [
    "1 == 3"
   ]
  },
  {
   "cell_type": "code",
   "execution_count": 48,
   "id": "f4dcb4d0-05cb-4c99-b78f-5c41e7d3affc",
   "metadata": {},
   "outputs": [
    {
     "ename": "NameError",
     "evalue": "name 'b' is not defined",
     "output_type": "error",
     "traceback": [
      "\u001b[0;31m---------------------------------------------------------------------------\u001b[0m",
      "\u001b[0;31mNameError\u001b[0m                                 Traceback (most recent call last)",
      "\u001b[0;32m/var/folders/9l/kb4zxp_16lx6phccx7c7yk0r0000gn/T/ipykernel_11206/1094981218.py\u001b[0m in \u001b[0;36m<module>\u001b[0;34m\u001b[0m\n\u001b[1;32m      1\u001b[0m \u001b[0;31m# can use None as a placeholder and then it won;t throw an error\u001b[0m\u001b[0;34m\u001b[0m\u001b[0;34m\u001b[0m\u001b[0;34m\u001b[0m\u001b[0m\n\u001b[1;32m      2\u001b[0m \u001b[0;34m\u001b[0m\u001b[0m\n\u001b[0;32m----> 3\u001b[0;31m \u001b[0mb\u001b[0m\u001b[0;34m\u001b[0m\u001b[0;34m\u001b[0m\u001b[0m\n\u001b[0m",
      "\u001b[0;31mNameError\u001b[0m: name 'b' is not defined"
     ]
    }
   ],
   "source": [
    "# can use None as a placeholder and then it won;t throw an error\n",
    "\n",
    "b"
   ]
  },
  {
   "cell_type": "code",
   "execution_count": 49,
   "id": "de6292a3-b7a8-4d97-bf79-f1692d1b0103",
   "metadata": {},
   "outputs": [],
   "source": [
    "b = None"
   ]
  },
  {
   "cell_type": "code",
   "execution_count": 51,
   "id": "58535083-78db-405f-ad4d-3146bcd2351f",
   "metadata": {},
   "outputs": [],
   "source": [
    "b"
   ]
  },
  {
   "cell_type": "markdown",
   "id": "0e7d2a4c-0ce7-4523-bebb-90c6a84a716d",
   "metadata": {},
   "source": [
    "INPUT / OUPUT WITH BASIC FILES IN PYTHON\n",
    "\n",
    "WILL SHOW HOW TO DO BASIC I/O WITH A .TXT FILE THIS WILL BE VERY RELEVANT FOR MORE ADVANCED FUNCTIONALITY LATER ON"
   ]
  },
  {
   "cell_type": "code",
   "execution_count": 54,
   "id": "8d18c749-7f41-40db-9471-d09b81ef6954",
   "metadata": {},
   "outputs": [
    {
     "name": "stdout",
     "output_type": "stream",
     "text": [
      "Writing myfile.txt\n"
     ]
    }
   ],
   "source": [
    "%%writefile myfile.txt\n",
    "Hello this is a shortcut for writing a text file in Jupyter lab\n",
    "it Only works in a jupyter notebook"
   ]
  },
  {
   "cell_type": "code",
   "execution_count": 55,
   "id": "b743df32-2fc8-4abe-808c-dbf4d0cde458",
   "metadata": {},
   "outputs": [
    {
     "data": {
      "text/plain": [
       "'\\nSTEP 1: CREATE A TXT FILE up above\\n\\nyou cannot include comments when usng the command up abovew with the %%, it will throw an error\\n'"
      ]
     },
     "execution_count": 55,
     "metadata": {},
     "output_type": "execute_result"
    }
   ],
   "source": [
    "\"\"\"\n",
    "STEP 1: CREATE A TXT FILE up above\n",
    "\n",
    "you cannot include comments when usng the command up abovew with the %%, it will throw an error\n",
    "\"\"\""
   ]
  },
  {
   "cell_type": "code",
   "execution_count": 57,
   "id": "9da54dc9-32ab-4e9f-9f3d-e6233c16fd64",
   "metadata": {},
   "outputs": [],
   "source": [
    "# how to open a file\n",
    "\n",
    "myfile = open('myfile.txt')"
   ]
  },
  {
   "cell_type": "code",
   "execution_count": 58,
   "id": "0830eb46-b806-4300-a313-70185474dcf1",
   "metadata": {},
   "outputs": [
    {
     "ename": "FileNotFoundError",
     "evalue": "[Errno 2] No such file or directory: 'whoops.txt'",
     "output_type": "error",
     "traceback": [
      "\u001b[0;31m---------------------------------------------------------------------------\u001b[0m",
      "\u001b[0;31mFileNotFoundError\u001b[0m                         Traceback (most recent call last)",
      "\u001b[0;32m/var/folders/9l/kb4zxp_16lx6phccx7c7yk0r0000gn/T/ipykernel_11206/1228390109.py\u001b[0m in \u001b[0;36m<module>\u001b[0;34m\u001b[0m\n\u001b[1;32m      1\u001b[0m \u001b[0;31m# what it looks like to open a non-existent file, you will get error number 2\u001b[0m\u001b[0;34m\u001b[0m\u001b[0;34m\u001b[0m\u001b[0;34m\u001b[0m\u001b[0m\n\u001b[1;32m      2\u001b[0m \u001b[0;34m\u001b[0m\u001b[0m\n\u001b[0;32m----> 3\u001b[0;31m \u001b[0mmyfile\u001b[0m \u001b[0;34m=\u001b[0m \u001b[0mopen\u001b[0m\u001b[0;34m(\u001b[0m\u001b[0;34m'whoops.txt'\u001b[0m\u001b[0;34m)\u001b[0m\u001b[0;34m\u001b[0m\u001b[0;34m\u001b[0m\u001b[0m\n\u001b[0m",
      "\u001b[0;31mFileNotFoundError\u001b[0m: [Errno 2] No such file or directory: 'whoops.txt'"
     ]
    }
   ],
   "source": [
    "# what it looks like to open a non-existent file, you will get error number 2\n",
    "\n",
    "myfile = open('whoops.txt')"
   ]
  },
  {
   "cell_type": "code",
   "execution_count": 61,
   "id": "b85c7ede-9f38-434c-910d-526356026eea",
   "metadata": {},
   "outputs": [
    {
     "data": {
      "text/plain": [
       "'/Users/raymondhurst/Desktop/UDEMY_Python/2022_Complete_Bootcamp'"
      ]
     },
     "execution_count": 61,
     "metadata": {},
     "output_type": "execute_result"
    }
   ],
   "source": [
    "pwd"
   ]
  },
  {
   "cell_type": "code",
   "execution_count": 62,
   "id": "bc086f81-a9ac-4f3e-b13e-6b88887c0c5a",
   "metadata": {},
   "outputs": [],
   "source": [
    "# can use command lines for file locating I guess, but can;t include comments\n"
   ]
  },
  {
   "cell_type": "code",
   "execution_count": 63,
   "id": "148cc05e-4c51-407e-94db-ad337d980551",
   "metadata": {},
   "outputs": [],
   "source": [
    "myfile = open('myfile.txt')"
   ]
  },
  {
   "cell_type": "code",
   "execution_count": 64,
   "id": "80cccfae-9aee-4e2d-abd2-f87edd277a2e",
   "metadata": {},
   "outputs": [
    {
     "data": {
      "text/plain": [
       "'Hello this is a shortcut for writing a text file in Jupyter lab\\nit Only works in a jupyter notebook\\n'"
      ]
     },
     "execution_count": 64,
     "metadata": {},
     "output_type": "execute_result"
    }
   ],
   "source": [
    "# several methods I can use off of myfile\n",
    "\n",
    "myfile.read()"
   ]
  },
  {
   "cell_type": "code",
   "execution_count": 66,
   "id": "39eecedf-9456-4eb6-9fac-87560a60f9b6",
   "metadata": {},
   "outputs": [
    {
     "data": {
      "text/plain": [
       "'\\nnotice that if you try to read the file again you receive an empty string, \\n\\nthis is because you basically have a cursor that reads across the file, and that cursor is already at the end of the file, so we need to reset it\\n\\nfor this we use myfile.seek(0)to reset the \"cursor\"\\n'"
      ]
     },
     "execution_count": 66,
     "metadata": {},
     "output_type": "execute_result"
    }
   ],
   "source": [
    "\"\"\"\n",
    "notice that if you try to read the file again you receive an empty string, \n",
    "\n",
    "this is because you basically have a cursor that reads across the file, and that cursor is already at the end of the file, so we need to reset it\n",
    "\n",
    "for this we use myfile.seek(0)to reset the \"cursor\"\n",
    "\"\"\""
   ]
  },
  {
   "cell_type": "code",
   "execution_count": 67,
   "id": "7e85fe34-bd8f-46d0-b0ab-9c40b36284bb",
   "metadata": {},
   "outputs": [
    {
     "data": {
      "text/plain": [
       "''"
      ]
     },
     "execution_count": 67,
     "metadata": {},
     "output_type": "execute_result"
    }
   ],
   "source": [
    "myfile.read()"
   ]
  },
  {
   "cell_type": "code",
   "execution_count": 68,
   "id": "c9ccc018-8f59-4135-a2ef-84f0bd8644ee",
   "metadata": {},
   "outputs": [
    {
     "data": {
      "text/plain": [
       "0"
      ]
     },
     "execution_count": 68,
     "metadata": {},
     "output_type": "execute_result"
    }
   ],
   "source": [
    "myfile.seek(0)"
   ]
  },
  {
   "cell_type": "code",
   "execution_count": 69,
   "id": "ee849a18-7e12-4e2e-85b0-5359140be73f",
   "metadata": {},
   "outputs": [
    {
     "data": {
      "text/plain": [
       "'Hello this is a shortcut for writing a text file in Jupyter lab\\nit Only works in a jupyter notebook\\n'"
      ]
     },
     "execution_count": 69,
     "metadata": {},
     "output_type": "execute_result"
    }
   ],
   "source": [
    "myfile.read()"
   ]
  },
  {
   "cell_type": "code",
   "execution_count": 70,
   "id": "944e4a4a-523a-46ed-b5fd-3857e05e0ec0",
   "metadata": {},
   "outputs": [
    {
     "data": {
      "text/plain": [
       "0"
      ]
     },
     "execution_count": 70,
     "metadata": {},
     "output_type": "execute_result"
    }
   ],
   "source": [
    "myfile.seek(0)"
   ]
  },
  {
   "cell_type": "code",
   "execution_count": 71,
   "id": "eef50f51-9e77-40b6-bc93-d6086167a84c",
   "metadata": {},
   "outputs": [
    {
     "data": {
      "text/plain": [
       "['Hello this is a shortcut for writing a text file in Jupyter lab\\n',\n",
       " 'it Only works in a jupyter notebook\\n']"
      ]
     },
     "execution_count": 71,
     "metadata": {},
     "output_type": "execute_result"
    }
   ],
   "source": [
    "# this method reads each line as a list where each element represents a line, (still have \\n that represent new lines)\n",
    "\n",
    "myfile.readlines()"
   ]
  },
  {
   "cell_type": "code",
   "execution_count": 72,
   "id": "25fbb168-8afd-49f8-a3bb-720882ca84ec",
   "metadata": {},
   "outputs": [
    {
     "data": {
      "text/plain": [
       "'\\nto open a file at any location ona c omputer, you provide the absolute path (the entire path)\\n\\nfor macOS we use forward slashes //\\n'"
      ]
     },
     "execution_count": 72,
     "metadata": {},
     "output_type": "execute_result"
    }
   ],
   "source": [
    "\"\"\"\n",
    "to open a file at any location ona c omputer, you provide the absolute path (the entire path)\n",
    "\n",
    "for macOS we use forward slashes //\n",
    "\"\"\""
   ]
  },
  {
   "cell_type": "code",
   "execution_count": 73,
   "id": "49841d81-a433-429c-96ca-b3b7e9cebc9b",
   "metadata": {},
   "outputs": [
    {
     "data": {
      "text/plain": [
       "'/Users/raymondhurst/Desktop/UDEMY_Python/2022_Complete_Bootcamp'"
      ]
     },
     "execution_count": 73,
     "metadata": {},
     "output_type": "execute_result"
    }
   ],
   "source": [
    "pwd"
   ]
  },
  {
   "cell_type": "code",
   "execution_count": 74,
   "id": "c9ab2fde-ca3a-4677-800c-e978ad7862e3",
   "metadata": {},
   "outputs": [],
   "source": [
    "# THE PWD above is a great example of an absolute path"
   ]
  },
  {
   "cell_type": "code",
   "execution_count": 75,
   "id": "c17778d1-080f-4b75-b399-9087af2288bb",
   "metadata": {},
   "outputs": [],
   "source": [
    "# remember, we need to close any files we opened. Python is using this file, so we need to manually close it"
   ]
  },
  {
   "cell_type": "code",
   "execution_count": 78,
   "id": "bf8dd147-a58f-4104-975b-5892e044096b",
   "metadata": {},
   "outputs": [],
   "source": [
    "# to close a file, do this:\n",
    "\n",
    "myfile.close()\n",
    "\n"
   ]
  },
  {
   "cell_type": "code",
   "execution_count": 81,
   "id": "608c86d4-13bb-4063-88c1-0285e0f9d1f9",
   "metadata": {},
   "outputs": [],
   "source": [
    "# can also open a file using the with statment and creating a function, this allows me to not have to worry about closing the file\n",
    "\n",
    "with open('myfile.txt') as my_new_file:\n",
    "    contents = my_new_file.read()"
   ]
  },
  {
   "cell_type": "code",
   "execution_count": 82,
   "id": "dad4f1f0-a098-4ccd-a53f-a558f9d205c3",
   "metadata": {},
   "outputs": [
    {
     "data": {
      "text/plain": [
       "'Hello this is a shortcut for writing a text file in Jupyter lab\\nit Only works in a jupyter notebook\\n'"
      ]
     },
     "execution_count": 82,
     "metadata": {},
     "output_type": "execute_result"
    }
   ],
   "source": [
    "contents"
   ]
  },
  {
   "cell_type": "code",
   "execution_count": 83,
   "id": "412e088e-e1fc-4d3d-b082-7317574d3468",
   "metadata": {},
   "outputs": [],
   "source": [
    "# we can also read and write to files\n",
    "\n",
    "with open ('myfile.txt',mode='r') as myfile:\n",
    "    contents = myfile.read()"
   ]
  },
  {
   "cell_type": "code",
   "execution_count": 84,
   "id": "7821d63c-579b-4bf5-96a3-0f3a32a1f8e5",
   "metadata": {},
   "outputs": [
    {
     "data": {
      "text/plain": [
       "'Hello this is a shortcut for writing a text file in Jupyter lab\\nit Only works in a jupyter notebook\\n'"
      ]
     },
     "execution_count": 84,
     "metadata": {},
     "output_type": "execute_result"
    }
   ],
   "source": [
    "contents"
   ]
  },
  {
   "cell_type": "code",
   "execution_count": 86,
   "id": "056fa107-de18-44ac-a558-c1aef4ab5134",
   "metadata": {},
   "outputs": [
    {
     "ename": "UnsupportedOperation",
     "evalue": "not readable",
     "output_type": "error",
     "traceback": [
      "\u001b[0;31m---------------------------------------------------------------------------\u001b[0m",
      "\u001b[0;31mUnsupportedOperation\u001b[0m                      Traceback (most recent call last)",
      "\u001b[0;32m/var/folders/9l/kb4zxp_16lx6phccx7c7yk0r0000gn/T/ipykernel_11206/3472133403.py\u001b[0m in \u001b[0;36m<module>\u001b[0;34m\u001b[0m\n\u001b[1;32m      4\u001b[0m \u001b[0;34m\u001b[0m\u001b[0m\n\u001b[1;32m      5\u001b[0m \u001b[0;32mwith\u001b[0m \u001b[0mopen\u001b[0m \u001b[0;34m(\u001b[0m\u001b[0;34m'myfile.txt'\u001b[0m\u001b[0;34m,\u001b[0m\u001b[0mmode\u001b[0m\u001b[0;34m=\u001b[0m\u001b[0;34m'w'\u001b[0m\u001b[0;34m)\u001b[0m \u001b[0;32mas\u001b[0m \u001b[0mmyfile\u001b[0m\u001b[0;34m:\u001b[0m\u001b[0;34m\u001b[0m\u001b[0;34m\u001b[0m\u001b[0m\n\u001b[0;32m----> 6\u001b[0;31m     \u001b[0mcontents\u001b[0m \u001b[0;34m=\u001b[0m \u001b[0mmyfile\u001b[0m\u001b[0;34m.\u001b[0m\u001b[0mread\u001b[0m\u001b[0;34m(\u001b[0m\u001b[0;34m)\u001b[0m\u001b[0;34m\u001b[0m\u001b[0;34m\u001b[0m\u001b[0m\n\u001b[0m",
      "\u001b[0;31mUnsupportedOperation\u001b[0m: not readable"
     ]
    }
   ],
   "source": [
    "\"\"\"\n",
    "notice here that we can't read to a file since we are using the write (w) mode\n",
    "\"\"\"\n",
    "\n",
    "with open ('myfile.txt',mode='w') as myfile:\n",
    "    contents = myfile.read()"
   ]
  },
  {
   "cell_type": "code",
   "execution_count": 87,
   "id": "ed934fdd-7387-4c80-ad67-376ceb87242b",
   "metadata": {},
   "outputs": [
    {
     "data": {
      "text/plain": [
       "'\\ncan use w to write over files, \\nr = read files, \\na is equal to appending files, \\nmode r+ is for reading and writing, \\nw+ is for writing and reading\\n'"
      ]
     },
     "execution_count": 87,
     "metadata": {},
     "output_type": "execute_result"
    }
   ],
   "source": [
    "\"\"\"\n",
    "can use w to write over files, \n",
    "r = read files, \n",
    "a is equal to appending files, \n",
    "mode r+ is for reading and writing, \n",
    "w+ is for writing and reading\n",
    "\"\"\""
   ]
  },
  {
   "cell_type": "code",
   "execution_count": 96,
   "id": "b92224e2-a449-46d9-961f-49fc40253077",
   "metadata": {},
   "outputs": [
    {
     "name": "stdout",
     "output_type": "stream",
     "text": [
      "Overwriting my_new_file.txt\n"
     ]
    }
   ],
   "source": [
    "%%writefile my_new_file.txt\n",
    "ONE ON FIRST\n",
    "TWO ON SECOND\n",
    "THREE ON THIRD"
   ]
  },
  {
   "cell_type": "code",
   "execution_count": 97,
   "id": "03daa8f0-e55b-4565-9a1f-c6ac1313e528",
   "metadata": {},
   "outputs": [
    {
     "name": "stdout",
     "output_type": "stream",
     "text": [
      "ONE ON FIRST\n",
      "TWO ON SECOND\n",
      "THREE ON THIRD\n",
      "\n"
     ]
    }
   ],
   "source": [
    "with open('my_new_file.txt', mode = 'r') as f:\n",
    "    print(f.read())"
   ]
  },
  {
   "cell_type": "code",
   "execution_count": 98,
   "id": "67611057-8d9e-4d26-b348-7de6a8cf0f05",
   "metadata": {},
   "outputs": [],
   "source": [
    "# here I am appedning another line\n",
    "\n",
    "with open('my_new_file.txt', mode = 'a') as f:\n",
    "    f.write('FOUR ON FOURTH')"
   ]
  },
  {
   "cell_type": "code",
   "execution_count": 99,
   "id": "9dff0dfc-0e99-48a2-ba1b-1115223acaf0",
   "metadata": {},
   "outputs": [
    {
     "name": "stdout",
     "output_type": "stream",
     "text": [
      "ONE ON FIRST\n",
      "TWO ON SECOND\n",
      "THREE ON THIRD\n",
      "FOUR ON FOURTH\n"
     ]
    }
   ],
   "source": [
    "with open('my_new_file.txt', mode = 'r') as f:\n",
    "    print(f.read())"
   ]
  },
  {
   "cell_type": "code",
   "execution_count": 101,
   "id": "f1d06b40-3be6-4612-82a4-78fb99a066cb",
   "metadata": {},
   "outputs": [],
   "source": [
    "# here I am writing\n",
    "# you can create files this way, they don;t have to have existed already\n",
    "\n",
    "with open('egsdfgbdfxgcv sbdfgabh.txt', mode = 'w') as f:\n",
    "    f.write('I created this file')"
   ]
  },
  {
   "cell_type": "code",
   "execution_count": 103,
   "id": "095844b3-2eb3-41f7-acf7-185866fefdac",
   "metadata": {},
   "outputs": [
    {
     "name": "stdout",
     "output_type": "stream",
     "text": [
      "I created this file\n"
     ]
    }
   ],
   "source": [
    "with open('egsdfgbdfxgcv sbdfgabh.txt', mode = 'r') as f:\n",
    "    print(f.read())"
   ]
  },
  {
   "cell_type": "code",
   "execution_count": null,
   "id": "2785d1ce-0402-4cf2-9867-57987b3b5483",
   "metadata": {},
   "outputs": [],
   "source": []
  }
 ],
 "metadata": {
  "kernelspec": {
   "display_name": "Python 3 (ipykernel)",
   "language": "python",
   "name": "python3"
  },
  "language_info": {
   "codemirror_mode": {
    "name": "ipython",
    "version": 3
   },
   "file_extension": ".py",
   "mimetype": "text/x-python",
   "name": "python",
   "nbconvert_exporter": "python",
   "pygments_lexer": "ipython3",
   "version": "3.7.11"
  }
 },
 "nbformat": 4,
 "nbformat_minor": 5
}
