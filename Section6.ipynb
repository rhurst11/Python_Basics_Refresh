{
 "cells": [
  {
   "cell_type": "markdown",
   "id": "b05bf1ff-cd72-4f43-9855-02d07f7c4227",
   "metadata": {},
   "source": [
    "METHODS AND FUNCTIONS:\n",
    "\n",
    "METHODS:\n",
    "\n",
    "- METHODS ARE ESSENTIALLY FUNCTIONS THAT ARE BUILT INTO OBJECTS"
   ]
  },
  {
   "cell_type": "code",
   "execution_count": 4,
   "id": "f3d04434-b440-462f-a451-ab2122ee00d4",
   "metadata": {},
   "outputs": [
    {
     "name": "stdout",
     "output_type": "stream",
     "text": [
      "Help on built-in function insert:\n",
      "\n",
      "insert(index, object, /) method of builtins.list instance\n",
      "    Insert object before index.\n",
      "\n"
     ]
    }
   ],
   "source": [
    "mylist = [1,2,3]\n",
    "\n",
    "# examples of methods useable with lists would be .append, .pop, etc...\n",
    "\n",
    "\n",
    "# here's how to get a list of methods for various built in objects:\n",
    "\n",
    "# have an object add notation and ht tab\n",
    "\n",
    "# can also use help function with above syntax\n",
    "\n",
    "# example of using built in help function (could use shift tab, or, if not in jupyter notebook, cvall the nbuiltin help function as below:  \n",
    "\n",
    "help(mylist.insert)\n",
    "\n",
    "# third option is to just go to the python documentation"
   ]
  },
  {
   "cell_type": "code",
   "execution_count": 5,
   "id": "52bdd5f2-4194-4904-91df-5ca56c0f0a52",
   "metadata": {},
   "outputs": [],
   "source": [
    "# look up the python standard library, it is literally the holy grail of python documentation\n",
    "# you will find that a lot of answers are really only found in the documentation as yoi get more advanced\n",
    "\n",
    "\n",
    "# go to stack overflow for readable answers though"
   ]
  },
  {
   "cell_type": "markdown",
   "id": "c8dfc965-f8c7-40d5-9bc3-2d8d228c8a0b",
   "metadata": {},
   "source": [
    "DISCUSSING FUNCTIONS NEXT:\n",
    "\n",
    "CREATING CLEAN AND REPEATABLE CODE IS CRITICAL TO BEING A GOOD PROGRAMMER\n",
    "FUNCTIONS ALLOW US TO CREATE BLOCKS OF CODE THAT CAN EASILY BE EXECUTED MANY TIMES, WITHOUT NEEDING TO CONSTANTLY REWRITE THE ENTIRE BLOCK OF CODE"
   ]
  },
  {
   "cell_type": "markdown",
   "id": "a32a7100-79ed-4504-8f76-ef46c752b210",
   "metadata": {},
   "source": [
    "lecture on the def keyword:\n",
    "\n",
    "\n",
    "creating a function requires very specific keywords and syntax\n",
    "\n",
    "def function_name(parameters):\n",
    "    actions here\n",
    "    return (allows us to assign the output of the function to a new variable)\n",
    "\n",
    "\n",
    "example function syntax (writing):\n",
    "\n",
    "def name_of_function(name):\n",
    "    \"\"\"comments here describing purpose of function\"\"\"\n",
    "    print(\"Hello\")\n",
    "    \n",
    "example function syntax (calling)\n",
    "\n",
    "name_of_function(\"Jose\")\n",
    "\n",
    "\n",
    "notice snakecasing (all underscores with underscores between words, this is status quo for function syntax\n",
    "\n",
    "classes will use camel casing\n",
    "\n",
    "\n",
    "example with mutliple parameters and a return statement:\n",
    "\n",
    "def add_function(parameter1, parameter2):\n",
    "    return parameter1 + parameter2\n",
    " "
   ]
  },
  {
   "cell_type": "code",
   "execution_count": 7,
   "id": "cff787ee-a3d2-48f9-9233-8426a02104d5",
   "metadata": {},
   "outputs": [
    {
     "data": {
      "text/plain": [
       "9"
      ]
     },
     "execution_count": 7,
     "metadata": {},
     "output_type": "execute_result"
    }
   ],
   "source": [
    "#  working with example function \n",
    "def add_function(parameter1, parameter2):\n",
    "    return parameter1 + parameter2\n",
    "\n",
    "output_of_return_statement = add_function(4, 5)\n",
    "output_of_return_statement"
   ]
  },
  {
   "cell_type": "markdown",
   "id": "7f8686c7-a411-4721-86e9-5e1b7c08f07c",
   "metadata": {},
   "source": [
    "BASICS OF PYTHON LECTURE:"
   ]
  },
  {
   "cell_type": "code",
   "execution_count": 9,
   "id": "9af845af-4bc8-4c30-991c-7e257a4bf644",
   "metadata": {},
   "outputs": [
    {
     "name": "stdout",
     "output_type": "stream",
     "text": [
      "hi\n"
     ]
    }
   ],
   "source": [
    "# example practice\n",
    "\n",
    "\n",
    "def say_hi():\n",
    "    print(\"hi\")\n",
    "    \n",
    "say_hi()"
   ]
  },
  {
   "cell_type": "code",
   "execution_count": 11,
   "id": "0b2408b8-eb7a-4080-9d05-96f5b0a462a0",
   "metadata": {},
   "outputs": [
    {
     "name": "stdout",
     "output_type": "stream",
     "text": [
      "hi\n",
      "how\n",
      "are\n",
      "you\n"
     ]
    }
   ],
   "source": [
    "# example practice\n",
    "def say_hi():\n",
    "    print(\"hi\")\n",
    "    print(\"how\")\n",
    "    print(\"are\")\n",
    "    print(\"you\")\n",
    "say_hi()"
   ]
  },
  {
   "cell_type": "code",
   "execution_count": 13,
   "id": "22c1516b-5c09-4654-ab89-cc831879c544",
   "metadata": {},
   "outputs": [
    {
     "name": "stdout",
     "output_type": "stream",
     "text": [
      "Hello Ray\n"
     ]
    }
   ],
   "source": [
    "# example practice\n",
    "\n",
    "def intro_name(name):\n",
    "    print(f'Hello {name}')\n",
    "\n",
    "intro_name('Ray')"
   ]
  },
  {
   "cell_type": "code",
   "execution_count": 14,
   "id": "c0dbe298-c953-4bde-a917-d1341c438ce0",
   "metadata": {},
   "outputs": [
    {
     "name": "stdout",
     "output_type": "stream",
     "text": [
      "Hello Default\n"
     ]
    }
   ],
   "source": [
    "# example practice\n",
    "# providing a default value here if name is not provided\n",
    "\n",
    "def intro_name(name = 'Default'):\n",
    "    print(f'Hello {name}')\n",
    "\n",
    "intro_name()"
   ]
  },
  {
   "cell_type": "code",
   "execution_count": 15,
   "id": "47d8a406-d919-41dc-bfef-cba810b22aff",
   "metadata": {},
   "outputs": [],
   "source": [
    "def add_num(num1, num2):\n",
    "    return num1 + num2"
   ]
  },
  {
   "cell_type": "code",
   "execution_count": 16,
   "id": "82a9ca14-9aff-4c44-b944-72db00d754ee",
   "metadata": {},
   "outputs": [
    {
     "data": {
      "text/plain": [
       "7"
      ]
     },
     "execution_count": 16,
     "metadata": {},
     "output_type": "execute_result"
    }
   ],
   "source": [
    "output_variable_of_function = add_num(3,4)\n",
    "\n",
    "output_variable_of_function"
   ]
  },
  {
   "cell_type": "code",
   "execution_count": 17,
   "id": "35480c9c-5853-4f87-80ad-7104462a6fed",
   "metadata": {},
   "outputs": [
    {
     "data": {
      "text/plain": [
       "7"
      ]
     },
     "execution_count": 17,
     "metadata": {},
     "output_type": "execute_result"
    }
   ],
   "source": [
    "output_variable_of_function"
   ]
  },
  {
   "cell_type": "code",
   "execution_count": 18,
   "id": "58d3512d-808a-4878-be56-ef52a4fa61b0",
   "metadata": {},
   "outputs": [],
   "source": [
    "\"\"\"\n",
    "Here we will compare print and return, \n",
    "\n",
    "return allows you to directly assign the output of a function to a variable, while print does not\n",
    "\"\"\"\n",
    "\n",
    "def print_result(a, b):\n",
    "    print(a+b)\n",
    "    \n",
    "\n",
    "def return_result(a,b):\n",
    "    return a + b"
   ]
  },
  {
   "cell_type": "code",
   "execution_count": 19,
   "id": "6206759d-3ede-47d8-aef8-eaae99fd1d0f",
   "metadata": {},
   "outputs": [
    {
     "name": "stdout",
     "output_type": "stream",
     "text": [
      "9\n"
     ]
    }
   ],
   "source": [
    "print_result(4,5)"
   ]
  },
  {
   "cell_type": "code",
   "execution_count": 22,
   "id": "4827ba0d-6bb1-463b-9693-84a7ce6cfad5",
   "metadata": {},
   "outputs": [
    {
     "name": "stdout",
     "output_type": "stream",
     "text": [
      "9\n"
     ]
    }
   ],
   "source": [
    "result = print_result(4,5)\n",
    "\n",
    "result"
   ]
  },
  {
   "cell_type": "code",
   "execution_count": 23,
   "id": "5a6106da-2c2d-4e94-b348-d51d2cfd752e",
   "metadata": {},
   "outputs": [
    {
     "data": {
      "text/plain": [
       "NoneType"
      ]
     },
     "execution_count": 23,
     "metadata": {},
     "output_type": "execute_result"
    }
   ],
   "source": [
    "type(result)\n",
    "\n",
    "# doesn't actually return anything, no saved variable"
   ]
  },
  {
   "cell_type": "code",
   "execution_count": 24,
   "id": "97c0d129-49d0-4792-9fd1-01be9d5b5b4b",
   "metadata": {},
   "outputs": [
    {
     "data": {
      "text/plain": [
       "9"
      ]
     },
     "execution_count": 24,
     "metadata": {},
     "output_type": "execute_result"
    }
   ],
   "source": [
    "return_result(4,5)"
   ]
  },
  {
   "cell_type": "code",
   "execution_count": 25,
   "id": "5397e5b3-3bc2-433f-bdda-5351ee248e1d",
   "metadata": {},
   "outputs": [],
   "source": [
    "result = return_result(4,5)"
   ]
  },
  {
   "cell_type": "code",
   "execution_count": 26,
   "id": "a67fcd34-1c68-4f5b-91bf-d6bdc4e14d2b",
   "metadata": {},
   "outputs": [
    {
     "data": {
      "text/plain": [
       "9"
      ]
     },
     "execution_count": 26,
     "metadata": {},
     "output_type": "execute_result"
    }
   ],
   "source": [
    "result"
   ]
  },
  {
   "cell_type": "code",
   "execution_count": 27,
   "id": "3887b903-7bf0-40e1-90d3-8c391da71f0f",
   "metadata": {},
   "outputs": [
    {
     "data": {
      "text/plain": [
       "int"
      ]
     },
     "execution_count": 27,
     "metadata": {},
     "output_type": "execute_result"
    }
   ],
   "source": [
    "type(result)"
   ]
  },
  {
   "cell_type": "code",
   "execution_count": 28,
   "id": "9c178eec-bdce-44d3-8b5d-66aff5dbbfd6",
   "metadata": {},
   "outputs": [
    {
     "name": "stdout",
     "output_type": "stream",
     "text": [
      "10\n"
     ]
    },
    {
     "data": {
      "text/plain": [
       "10"
      ]
     },
     "execution_count": 28,
     "metadata": {},
     "output_type": "execute_result"
    }
   ],
   "source": [
    "# you can print and return in th esame function, not sure why you would but it will not throw an error\n",
    "\n",
    "def return_result(a,b):\n",
    "    print(a + b)\n",
    "    return a + b\n",
    "\n",
    "return_result(5,5)"
   ]
  },
  {
   "cell_type": "code",
   "execution_count": 31,
   "id": "108e62d6-42c8-4c6d-9cf2-7ba08459ab61",
   "metadata": {},
   "outputs": [
    {
     "name": "stdout",
     "output_type": "stream",
     "text": [
      "1020\n"
     ]
    },
    {
     "data": {
      "text/plain": [
       "'1020'"
      ]
     },
     "execution_count": 31,
     "metadata": {},
     "output_type": "execute_result"
    }
   ],
   "source": [
    "# really should check that your datatypes are compatible with your functions:\n",
    "\n",
    "def return_result(a,b):\n",
    "    print(a + b)\n",
    "    return a + b\n",
    "\n",
    "# adding strings here to highlight risks of not type checking\n",
    "return_result('10','20')"
   ]
  },
  {
   "cell_type": "code",
   "execution_count": 34,
   "id": "e5e19d99-2dae-49f7-9487-07c51f52d1b7",
   "metadata": {},
   "outputs": [
    {
     "data": {
      "text/plain": [
       "30"
      ]
     },
     "execution_count": 34,
     "metadata": {},
     "output_type": "execute_result"
    }
   ],
   "source": [
    "# checking data types here:\n",
    "\n",
    "\n",
    "def return_result(a,b):\n",
    "    checked_type_a = int(a)\n",
    "    checked_type_b = int(b)\n",
    "    return checked_type_a + checked_type_b\n",
    "\n",
    "# adding strings here to highlight risks of not type checking\n",
    "return_result('10','20')"
   ]
  },
  {
   "cell_type": "markdown",
   "id": "e47eba33-166c-46ef-8949-089538152c8d",
   "metadata": {},
   "source": [
    "LECTURE ON LOGIC WITH PYTHON FUNCTIONS:"
   ]
  }
 ],
 "metadata": {
  "kernelspec": {
   "display_name": "Python 3 (ipykernel)",
   "language": "python",
   "name": "python3"
  },
  "language_info": {
   "codemirror_mode": {
    "name": "ipython",
    "version": 3
   },
   "file_extension": ".py",
   "mimetype": "text/x-python",
   "name": "python",
   "nbconvert_exporter": "python",
   "pygments_lexer": "ipython3",
   "version": "3.7.11"
  }
 },
 "nbformat": 4,
 "nbformat_minor": 5
}
