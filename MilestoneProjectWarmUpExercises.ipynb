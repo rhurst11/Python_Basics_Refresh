{
 "cells": [
  {
   "cell_type": "markdown",
   "id": "c89c4ffe-4a0d-429e-9506-0bbab6ef6c55",
   "metadata": {},
   "source": [
    "DISPLAYING INFORMATION:\n",
    "\n",
    "GOING TO LEARN HOW WE CAN COMBINE A CUSTOM FUNCTION WITH THE BUILT IN PRINT FUNCTION TO DUSPLAY SOMETHING TO THE END USER"
   ]
  },
  {
   "cell_type": "code",
   "execution_count": 2,
   "id": "361162a3-56fc-4b66-940c-1447495eccd9",
   "metadata": {},
   "outputs": [
    {
     "name": "stdout",
     "output_type": "stream",
     "text": [
      "[1, 2, 3]\n"
     ]
    }
   ],
   "source": [
    "# REVIEWING PRINT\n",
    "\n",
    "print([1,2,3])"
   ]
  },
  {
   "cell_type": "code",
   "execution_count": 3,
   "id": "ccc5298b-1fed-49b0-be84-0a10c6988313",
   "metadata": {},
   "outputs": [
    {
     "name": "stdout",
     "output_type": "stream",
     "text": [
      "[1, 2, 3]\n",
      "[4, 5, 6]\n",
      "[7, 8, 9]\n"
     ]
    }
   ],
   "source": [
    "print([1,2,3])\n",
    "print([4,5,6])\n",
    "print([7,8,9])"
   ]
  },
  {
   "cell_type": "code",
   "execution_count": 4,
   "id": "97797477-e050-4e3b-bfb1-e47020ca3735",
   "metadata": {},
   "outputs": [],
   "source": [
    "def display(row1, row2, row3):\n",
    "    print(row1)\n",
    "    print(row2)\n",
    "    print(row3)"
   ]
  },
  {
   "cell_type": "code",
   "execution_count": 5,
   "id": "928fc215-040c-4ff4-8a65-8f8b66323000",
   "metadata": {},
   "outputs": [
    {
     "name": "stdout",
     "output_type": "stream",
     "text": [
      "[1, 2, 3]\n",
      "[1, 2, 3]\n",
      "[1, 2, 3]\n"
     ]
    }
   ],
   "source": [
    "example_row = [1,2,3]\n",
    "\n",
    "display(example_row, example_row, example_row)"
   ]
  },
  {
   "cell_type": "code",
   "execution_count": 8,
   "id": "5c65fd3b-d2c6-40fd-9a77-32059caf4123",
   "metadata": {},
   "outputs": [],
   "source": [
    "row1 = ['', '', '']\n",
    "row2 = ['', '', '']\n",
    "row3 = ['', '', '']"
   ]
  },
  {
   "cell_type": "code",
   "execution_count": 9,
   "id": "d4bc3831-acd4-4a36-bd4c-1ee45586bdde",
   "metadata": {},
   "outputs": [
    {
     "name": "stdout",
     "output_type": "stream",
     "text": [
      "['', '', '']\n",
      "['', '', '']\n",
      "['', '', '']\n"
     ]
    }
   ],
   "source": [
    "display(row1,row2,row3)"
   ]
  },
  {
   "cell_type": "code",
   "execution_count": 12,
   "id": "76316661-fcad-47fb-9da6-c1e0e776417b",
   "metadata": {},
   "outputs": [
    {
     "name": "stdout",
     "output_type": "stream",
     "text": [
      "['', '', '']\n",
      "['', 'X', '']\n",
      "['', '', '']\n"
     ]
    }
   ],
   "source": [
    "# think of the above like a board, how would you grab the center position and put an x there?\n",
    "\n",
    "row2[1] = 'X'\n",
    "\n",
    "display(row1,row2,row3)"
   ]
  },
  {
   "cell_type": "code",
   "execution_count": 13,
   "id": "44133cf8-1b6b-4ed2-be55-6adc44df8ed5",
   "metadata": {},
   "outputs": [
    {
     "name": "stdin",
     "output_type": "stream",
     "text": [
      "This is the string the user will see:  2\n"
     ]
    },
    {
     "data": {
      "text/plain": [
       "'2'"
      ]
     },
     "execution_count": 13,
     "metadata": {},
     "output_type": "execute_result"
    }
   ],
   "source": [
    "# now want to be able to take / accept user input\n",
    "\n",
    "# use the input function\n",
    "\n",
    "input(\"This is the string the user will see: \")"
   ]
  },
  {
   "cell_type": "code",
   "execution_count": 17,
   "id": "c625363b-2bcc-477d-b99c-b37067d94aa0",
   "metadata": {},
   "outputs": [
    {
     "name": "stdin",
     "output_type": "stream",
     "text": [
      "User Value 2\n"
     ]
    }
   ],
   "source": [
    "result = input(\"User Value\")"
   ]
  },
  {
   "cell_type": "code",
   "execution_count": 20,
   "id": "8dbdc7fc-626f-45e4-a84e-31ca4c1f1fbc",
   "metadata": {},
   "outputs": [
    {
     "data": {
      "text/plain": [
       "str"
      ]
     },
     "execution_count": 20,
     "metadata": {},
     "output_type": "execute_result"
    }
   ],
   "source": [
    "type(result)"
   ]
  },
  {
   "cell_type": "code",
   "execution_count": 22,
   "id": "dd163c5c-1707-4f12-871c-438042a1d041",
   "metadata": {},
   "outputs": [
    {
     "data": {
      "text/plain": [
       "int"
      ]
     },
     "execution_count": 22,
     "metadata": {},
     "output_type": "execute_result"
    }
   ],
   "source": [
    "result_int = int(result)\n",
    "\n",
    "type(result_int)"
   ]
  },
  {
   "cell_type": "code",
   "execution_count": 23,
   "id": "1c5a6379-7b45-4709-af1c-4d97d7fc5d05",
   "metadata": {},
   "outputs": [
    {
     "name": "stdin",
     "output_type": "stream",
     "text": [
      "Choose and Index Position 2\n"
     ]
    }
   ],
   "source": [
    "position_index = int(input('Choose and Index Position'))"
   ]
  },
  {
   "cell_type": "code",
   "execution_count": 24,
   "id": "b4238dbe-64f2-42a6-bdbe-bea84d4cded9",
   "metadata": {},
   "outputs": [
    {
     "data": {
      "text/plain": [
       "int"
      ]
     },
     "execution_count": 24,
     "metadata": {},
     "output_type": "execute_result"
    }
   ],
   "source": [
    "type(position_index)"
   ]
  },
  {
   "cell_type": "code",
   "execution_count": 26,
   "id": "af504387-f0cb-40b9-816f-a485ee992969",
   "metadata": {},
   "outputs": [
    {
     "data": {
      "text/plain": [
       "''"
      ]
     },
     "execution_count": 26,
     "metadata": {},
     "output_type": "execute_result"
    }
   ],
   "source": [
    "row2[position_index]"
   ]
  },
  {
   "cell_type": "markdown",
   "id": "6f90248b-2864-4750-9d7e-54cfb2f87701",
   "metadata": {},
   "source": [
    "VALIDATING USER INPUT:\n",
    "\n",
    "WE'VE SEEN HOW TO USE INPUT() TO INTERACT WITH A USER AND HOW TO CONVERTTHE STRING DATA TYPE INTO ANOTHER TPYE, SUCH AS AN INTEGER\n",
    "\n",
    "LET'S NOW EXPLORE HOW TO FURTHER VALIDATE USER INPUT TO AVOID ERRORS FOR INVALID CONVERSIONS"
   ]
  },
  {
   "cell_type": "code",
   "execution_count": 2,
   "id": "1ae1509f-ae75-4b3e-998f-03a18cbb037f",
   "metadata": {},
   "outputs": [
    {
     "name": "stdin",
     "output_type": "stream",
     "text": [
      "Choose and index position 4\n"
     ]
    }
   ],
   "source": [
    "# GOING TO DEAL WITH VALUE ERRORS AND OTHER EDGE CASES ARISING FROM, USER INPUT SCENARIOS:\n",
    "# say the user puts in the word for a number instead of the digits\n",
    "\n",
    "position_index = int(input(\"Choose and index position\"))"
   ]
  },
  {
   "cell_type": "markdown",
   "id": "8c352521-20b4-4fa0-874b-eb6d08a9e95d",
   "metadata": {},
   "source": [
    "TO FIX THIS WE WILL USE A WHILE LOOP AND CHECK FOR THE DATA TYPE OF THE INPUT"
   ]
  },
  {
   "cell_type": "code",
   "execution_count": 21,
   "id": "52982004-52aa-436c-bb87-02a3bafc1e24",
   "metadata": {},
   "outputs": [],
   "source": [
    "# building a function to run our user input and validate that the input is in integer format (still will switch data type)\n",
    "\n",
    "# did this slightly different from instructore, did before went through, my answerr is fine, sacrificing a small amount of readability for efficiency\n",
    "\n",
    "def user_choice():\n",
    "    choice = input('Please enter a number (0-10): ')\n",
    "    \n",
    "    #using isdigit method which can be used on a string\n",
    "    #it returns a boolean, True if the string is in digits\n",
    "    \n",
    "    while not choice.isdigit():\n",
    "        \n",
    "        print(\"Sorry that is not a digit!\")\n",
    "        \n",
    "        choice = input('Only enter a digit between 1 and 10 in numeric characters: ')\n",
    "\n",
    "            \n",
    "        \n",
    "    if int(choice) not in range(0,10):\n",
    "        print(\"Sorry that is not in the range!\")\n",
    "        choice = input('Only enter a digit between 1 and 10 in numeric characters: ')\n",
    "    \n",
    "    return int(choice)"
   ]
  },
  {
   "cell_type": "code",
   "execution_count": 20,
   "id": "9a5e182a-4267-47b3-9e50-144cb7d9deb6",
   "metadata": {},
   "outputs": [
    {
     "name": "stdin",
     "output_type": "stream",
     "text": [
      "Please enter a number (0-10):  ten\n"
     ]
    },
    {
     "name": "stdout",
     "output_type": "stream",
     "text": [
      "Sorry that is not a digit!\n"
     ]
    },
    {
     "name": "stdin",
     "output_type": "stream",
     "text": [
      "Only enter a digit between 1 and 10 in numeric characters:  11\n"
     ]
    },
    {
     "name": "stdout",
     "output_type": "stream",
     "text": [
      "Sorry that is not in the range!\n"
     ]
    },
    {
     "name": "stdin",
     "output_type": "stream",
     "text": [
      "Only enter a digit between 1 and 10 in numeric characters:  10\n"
     ]
    },
    {
     "data": {
      "text/plain": [
       "10"
      ]
     },
     "execution_count": 20,
     "metadata": {},
     "output_type": "execute_result"
    }
   ],
   "source": [
    "user_choice()"
   ]
  },
  {
   "cell_type": "code",
   "execution_count": 34,
   "id": "ca2655b1-366c-49ff-8ff9-a3d257241b40",
   "metadata": {},
   "outputs": [
    {
     "data": {
      "text/plain": [
       "False"
      ]
     },
     "execution_count": 34,
     "metadata": {},
     "output_type": "execute_result"
    }
   ],
   "source": [
    "choice = 'bob'\n",
    "\n",
    "choice.isdigit()"
   ]
  },
  {
   "cell_type": "markdown",
   "id": "e699172f-6e17-41d7-ac02-1cc1779185e9",
   "metadata": {},
   "source": [
    "REVIEWING SIMPLE USER INTERACTIONS:\n",
    "\n",
    "\n",
    "PROGRAM WILL DISPLAY A LIST CONSISTING OF THREE ITEMS\n",
    "\n",
    "HAVE A USER CHOOSE AND INDEX POSITION AND AN INPUT VALUE\n",
    "\n",
    "REPLACE VALUE AT INDEX POSITION WITH USER'S CHOSEN INPUT VALUE"
   ]
  },
  {
   "cell_type": "code",
   "execution_count": 38,
   "id": "401e7030-ffaf-46c0-8699-486e00a27b2a",
   "metadata": {},
   "outputs": [],
   "source": [
    "def twoSum(nums, target):\n",
    "    \"\"\"\n",
    "    :type nums: List[int]\n",
    "    :type target: int\n",
    "    :rtype: List[int]\n",
    "    \"\"\"\n",
    "        \n",
    "    reference_list = []\n",
    "        \n",
    "    for num in nums:\n",
    "        reference = target - num\n",
    "        reference_list.append(reference)\n",
    "        \n",
    "    for item in reference_list:\n",
    "        \n",
    "        # iterating through ref list to find commonality with nums\n",
    "        #assigining common variables to z variable\n",
    "        if item in nums:\n",
    "            nums[item].replace(' ')\n",
    "            y = nums[item]\n",
    "    \n",
    "    \n",
    "#         # making variable for nums list \n",
    "#         y = target - item\n",
    "#         if y in nums:\n",
    "            \n",
    "        \n",
    "        \n",
    "    return [nums.index(z), nums.index(y)]\n"
   ]
  },
  {
   "cell_type": "code",
   "execution_count": 39,
   "id": "0a73008c-0e4a-4600-acbe-66889f67cd6c",
   "metadata": {},
   "outputs": [
    {
     "ename": "IndexError",
     "evalue": "list index out of range",
     "output_type": "error",
     "traceback": [
      "\u001b[0;31m---------------------------------------------------------------------------\u001b[0m",
      "\u001b[0;31mIndexError\u001b[0m                                Traceback (most recent call last)",
      "\u001b[0;32m/var/folders/9l/kb4zxp_16lx6phccx7c7yk0r0000gn/T/ipykernel_2695/4274664836.py\u001b[0m in \u001b[0;36m<module>\u001b[0;34m\u001b[0m\n\u001b[1;32m      5\u001b[0m \u001b[0;31m# test_input.\u001b[0m\u001b[0;34m\u001b[0m\u001b[0;34m\u001b[0m\u001b[0;34m\u001b[0m\u001b[0m\n\u001b[1;32m      6\u001b[0m \u001b[0;34m\u001b[0m\u001b[0m\n\u001b[0;32m----> 7\u001b[0;31m \u001b[0mtwoSum\u001b[0m\u001b[0;34m(\u001b[0m\u001b[0mtest_input\u001b[0m\u001b[0;34m,\u001b[0m \u001b[0mtarget\u001b[0m\u001b[0;34m)\u001b[0m\u001b[0;34m\u001b[0m\u001b[0;34m\u001b[0m\u001b[0m\n\u001b[0m",
      "\u001b[0;32m/var/folders/9l/kb4zxp_16lx6phccx7c7yk0r0000gn/T/ipykernel_2695/3808271802.py\u001b[0m in \u001b[0;36mtwoSum\u001b[0;34m(nums, target)\u001b[0m\n\u001b[1;32m     17\u001b[0m         \u001b[0;31m#assigining common variables to z variable\u001b[0m\u001b[0;34m\u001b[0m\u001b[0;34m\u001b[0m\u001b[0;34m\u001b[0m\u001b[0m\n\u001b[1;32m     18\u001b[0m         \u001b[0;32mif\u001b[0m \u001b[0mitem\u001b[0m \u001b[0;32min\u001b[0m \u001b[0mnums\u001b[0m\u001b[0;34m:\u001b[0m\u001b[0;34m\u001b[0m\u001b[0;34m\u001b[0m\u001b[0m\n\u001b[0;32m---> 19\u001b[0;31m             \u001b[0mnums\u001b[0m\u001b[0;34m[\u001b[0m\u001b[0mitem\u001b[0m\u001b[0;34m]\u001b[0m\u001b[0;34m.\u001b[0m\u001b[0mreplace\u001b[0m\u001b[0;34m(\u001b[0m\u001b[0;34m' '\u001b[0m\u001b[0;34m)\u001b[0m\u001b[0;34m\u001b[0m\u001b[0;34m\u001b[0m\u001b[0m\n\u001b[0m\u001b[1;32m     20\u001b[0m             \u001b[0my\u001b[0m \u001b[0;34m=\u001b[0m \u001b[0mnums\u001b[0m\u001b[0;34m[\u001b[0m\u001b[0mitem\u001b[0m\u001b[0;34m]\u001b[0m\u001b[0;34m\u001b[0m\u001b[0;34m\u001b[0m\u001b[0m\n\u001b[1;32m     21\u001b[0m \u001b[0;34m\u001b[0m\u001b[0m\n",
      "\u001b[0;31mIndexError\u001b[0m: list index out of range"
     ]
    }
   ],
   "source": [
    "test_input = [3,3]\n",
    "\n",
    "target = 6\n",
    "\n",
    "# test_input.\n",
    "\n",
    "twoSum(test_input, target)"
   ]
  },
  {
   "cell_type": "code",
   "execution_count": null,
   "id": "36e4750b-2679-46fb-a81b-e4e98ff037a7",
   "metadata": {},
   "outputs": [],
   "source": []
  }
 ],
 "metadata": {
  "kernelspec": {
   "display_name": "Python 3 (ipykernel)",
   "language": "python",
   "name": "python3"
  },
  "language_info": {
   "codemirror_mode": {
    "name": "ipython",
    "version": 3
   },
   "file_extension": ".py",
   "mimetype": "text/x-python",
   "name": "python",
   "nbconvert_exporter": "python",
   "pygments_lexer": "ipython3",
   "version": "3.7.11"
  }
 },
 "nbformat": 4,
 "nbformat_minor": 5
}
