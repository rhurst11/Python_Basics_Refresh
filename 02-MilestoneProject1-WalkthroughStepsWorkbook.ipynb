{
 "cells": [
  {
   "cell_type": "markdown",
   "metadata": {},
   "source": [
    "___\n",
    "\n",
    "<a href='https://www.udemy.com/user/joseportilla/'><img src='../Pierian_Data_Logo.png'/></a>\n",
    "___\n",
    "<center><em>Content Copyright by Pierian Data</em></center>"
   ]
  },
  {
   "cell_type": "markdown",
   "metadata": {},
   "source": [
    "# Milestone Project 1: Walkthrough Steps Workbook\n",
    "\n",
    "Below is a set of steps for you to follow to try to create the Tic Tac Toe Milestone Project game!"
   ]
  },
  {
   "cell_type": "markdown",
   "metadata": {},
   "source": [
    "#### Some suggested tools before you get started:\n",
    "To take input from a user:\n",
    "\n",
    "    player1 = input(\"Please pick a marker 'X' or 'O'\")\n",
    "    \n",
    "Note that input() takes in a string. If you need an integer value, use\n",
    "\n",
    "    position = int(input('Please enter a number'))\n",
    "    \n",
    "<br>To clear the screen between moves:\n",
    "\n",
    "    from IPython.display import clear_output\n",
    "    clear_output()\n",
    "    \n",
    "Note that clear_output() will only work in jupyter. To clear the screen in other IDEs, consider:\n",
    "\n",
    "    print('\\n'*100)\n",
    "    \n",
    "This scrolls the previous board up out of view. Now on to the program!"
   ]
  },
  {
   "cell_type": "markdown",
   "metadata": {},
   "source": [
    "**Step 1: Write a function that can print out a board. Set up your board as a list, where each index 1-9 corresponds with a number on a number pad, so you get a 3 by 3 board representation.**"
   ]
  },
  {
   "cell_type": "code",
   "execution_count": 49,
   "metadata": {
    "tags": []
   },
   "outputs": [],
   "source": [
    "# imorting function to clear the screen between moves\n",
    "from IPython.display import clear_output\n",
    "\n",
    "def display_board(board):\n",
    "#     row1 = board[1:4]\n",
    "#     row2 = board[4:7]\n",
    "#     row3 = board[7:10]\n",
    "#     print(row1) \n",
    "#     print(row2)\n",
    "#     print(row3)\n",
    "    clear_output()\n",
    "\n",
    "    print(board[7] + '|' + board[8] + '|' + board[9])\n",
    "    print(board[4] + '|' + board[5] + '|' + board[6])\n",
    "    print(board[1] + '|' + board[2] + '|' + board[3])"
   ]
  },
  {
   "cell_type": "markdown",
   "metadata": {},
   "source": [
    "**TEST Step 1:** run your function on a test version of the board list, and make adjustments as necessary"
   ]
  },
  {
   "cell_type": "code",
   "execution_count": 50,
   "metadata": {
    "tags": []
   },
   "outputs": [
    {
     "name": "stdout",
     "output_type": "stream",
     "text": [
      "X|O|X\n",
      "O|X|O\n",
      "X|O|X\n"
     ]
    }
   ],
   "source": [
    "test_board = ['#','X','O','X','O','X','O','X','O','X']\n",
    "\n",
    "display_board(test_board)\n",
    "display_board(test_board)"
   ]
  },
  {
   "cell_type": "markdown",
   "metadata": {},
   "source": [
    "**Step 2: Write a function that can take in a player input and assign their marker as 'X' or 'O'. Think about using *while* loops to continually ask until you get a correct answer.**"
   ]
  },
  {
   "cell_type": "code",
   "execution_count": 51,
   "metadata": {
    "tags": []
   },
   "outputs": [],
   "source": [
    "def player_input():\n",
    "    \n",
    "    marker = ''\n",
    "    \n",
    "    \"\"\"\n",
    "    OUTPUT = (Player 1 marker, PLayer 2 marker)\n",
    "    \"\"\"\n",
    "    \n",
    "    while marker != 'X' and marker != 'O': \n",
    "        marker = input('Player 1, choose X or O').upper()\n",
    "            \n",
    "    if marker == 'X':\n",
    "            \n",
    "        return ('X', 'O')\n",
    "        \n",
    "    else:\n",
    "        return ('O', 'X')\n"
   ]
  },
  {
   "cell_type": "code",
   "execution_count": null,
   "metadata": {},
   "outputs": [],
   "source": []
  },
  {
   "cell_type": "markdown",
   "metadata": {},
   "source": [
    "**TEST Step 2:** run the function to make sure it returns the desired output"
   ]
  },
  {
   "cell_type": "code",
   "execution_count": 52,
   "metadata": {
    "tags": []
   },
   "outputs": [
    {
     "name": "stdin",
     "output_type": "stream",
     "text": [
      "Player 1, choose X or O O\n"
     ]
    },
    {
     "data": {
      "text/plain": [
       "('O', 'X')"
      ]
     },
     "execution_count": 52,
     "metadata": {},
     "output_type": "execute_result"
    }
   ],
   "source": [
    "player_input()"
   ]
  },
  {
   "cell_type": "markdown",
   "metadata": {},
   "source": [
    "**Step 3: Write a function that takes in the board list object, a marker ('X' or 'O'), and a desired position (number 1-9) and assigns it to the board.**"
   ]
  },
  {
   "cell_type": "code",
   "execution_count": 53,
   "metadata": {
    "tags": []
   },
   "outputs": [],
   "source": [
    "def place_marker(board, marker, position):\n",
    "    \n",
    "#     #need to take desired position from user\n",
    "#     position = int(input('Please enter a number 1-9'))\n",
    "    \n",
    "#     #check that position is in range of board specs\n",
    "#     if position not in range(1,10):\n",
    "#         print(\"Please enter a number ranging from 1 -9\")\n",
    "#         position = int(input('Please enter a number 1-9'))\n",
    "    \n",
    "#     #place marker on board \n",
    "    board[position] = marker\n",
    "    # else:\n",
    "        "
   ]
  },
  {
   "cell_type": "markdown",
   "metadata": {},
   "source": [
    "**TEST Step 3:** run the place marker function using test parameters and display the modified board"
   ]
  },
  {
   "cell_type": "code",
   "execution_count": 54,
   "metadata": {
    "tags": []
   },
   "outputs": [
    {
     "name": "stdout",
     "output_type": "stream",
     "text": [
      "X|$|X\n",
      "O|X|O\n",
      "X|O|X\n"
     ]
    }
   ],
   "source": [
    "place_marker(test_board,'$',8)\n",
    "display_board(test_board)"
   ]
  },
  {
   "cell_type": "markdown",
   "metadata": {},
   "source": [
    "**Step 4: Write a function that takes in a board and a mark (X or O) and then checks to see if that mark has won. **"
   ]
  },
  {
   "cell_type": "code",
   "execution_count": 55,
   "metadata": {
    "tags": []
   },
   "outputs": [],
   "source": [
    "def win_check(board, mark):\n",
    "    \n",
    "    # Board Rows\n",
    "    if (board[1] == board[2] == board[3] == mark) or (board[4] == board[5] == board[6] == mark) or (board[7] == board[8] == board[9] == mark):\n",
    "        return True\n",
    "\n",
    "    # Board Columns\n",
    "    if (board[1] == board[4] == board[7] == mark) or (board[2] == board[5] == board[8] == mark) or (board[3] == board[6] == board[9] == mark):\n",
    "        return True\n",
    "    \n",
    "    # Board Diagonals\n",
    "    if (board[3] == board[5] == board[7] == mark) or (board[1] == board[5] == board[9] == mark):\n",
    "        return True"
   ]
  },
  {
   "cell_type": "markdown",
   "metadata": {},
   "source": [
    "**TEST Step 4:** run the win_check function against our test_board - it should return True"
   ]
  },
  {
   "cell_type": "code",
   "execution_count": 56,
   "metadata": {
    "tags": []
   },
   "outputs": [
    {
     "data": {
      "text/plain": [
       "True"
      ]
     },
     "execution_count": 56,
     "metadata": {},
     "output_type": "execute_result"
    }
   ],
   "source": [
    "win_check(test_board,'X')"
   ]
  },
  {
   "cell_type": "markdown",
   "metadata": {},
   "source": [
    "**Step 5: Write a function that uses the random module to randomly decide which player goes first. You may want to lookup random.randint() Return a string of which player went first.**"
   ]
  },
  {
   "cell_type": "code",
   "execution_count": 58,
   "metadata": {
    "tags": []
   },
   "outputs": [],
   "source": [
    "import random\n",
    "\n",
    "\n",
    "def choose_first():\n",
    "\n",
    "    #generating a random number between 1 and 2\n",
    "    randomizer = random.randint(0,1)\n",
    "    \n",
    "    #if the randomizer generates a 1, player1 goes first, otherwise player 2 goes first\n",
    "    if randomizer == 0:\n",
    "        return 'Player 1'\n",
    "    else:\n",
    "        return 'Player 2'\n",
    "    "
   ]
  },
  {
   "cell_type": "markdown",
   "metadata": {},
   "source": [
    "**Step 6: Write a function that returns a boolean indicating whether a space on the board is freely available.**"
   ]
  },
  {
   "cell_type": "code",
   "execution_count": 60,
   "metadata": {
    "tags": []
   },
   "outputs": [],
   "source": [
    "def space_check(board, position):\n",
    "    return (board[position]) == ''"
   ]
  },
  {
   "cell_type": "markdown",
   "metadata": {},
   "source": [
    "**Step 7: Write a function that checks if the board is full and returns a boolean value. True if full, False otherwise.**"
   ]
  },
  {
   "cell_type": "code",
   "execution_count": 62,
   "metadata": {
    "tags": []
   },
   "outputs": [],
   "source": [
    "def full_board_check(board):\n",
    "    empty_spaces = 0\n",
    "    \n",
    "    for spot in range(1,10):\n",
    "        \n",
    "        if space_check(board, spot):\n",
    "            return False\n",
    "        \n",
    "        #if board is not full we will get a true value \n",
    "        return True\n",
    "            \n",
    "        "
   ]
  },
  {
   "cell_type": "markdown",
   "metadata": {},
   "source": [
    "**Step 8: Write a function that asks for a player's next position (as a number 1-9) and then uses the function from step 6 to check if it's a free position. If it is, then return the position for later use.**"
   ]
  },
  {
   "cell_type": "code",
   "execution_count": 63,
   "metadata": {
    "tags": []
   },
   "outputs": [],
   "source": [
    "def player_choice(board):\n",
    "    \n",
    "    position = 0\n",
    "    \n",
    "    while posiiton not in range[1,10] or not space_check(board, position):    \n",
    "    position_choice = int(input('Please enter a number 1-9'))\n",
    "    \n",
    "    return position\n",
    "    \n",
    "    "
   ]
  },
  {
   "cell_type": "markdown",
   "metadata": {},
   "source": [
    "**Step 9: Write a function that asks the player if they want to play again and returns a boolean True if they do want to play again.**"
   ]
  },
  {
   "cell_type": "code",
   "execution_count": 65,
   "metadata": {
    "tags": []
   },
   "outputs": [],
   "source": [
    "def replay():\n",
    "    \n",
    "    repeat_choice = input(\"Do you want to play again? Indicate 'yes' or 'no'\").lower()\n",
    "\n",
    "    return repeat_choice == 'yes'"
   ]
  },
  {
   "cell_type": "markdown",
   "metadata": {},
   "source": [
    "**Step 10: Here comes the hard part! Use while loops and the functions you've made to run the game!**"
   ]
  },
  {
   "cell_type": "code",
   "execution_count": null,
   "metadata": {
    "tags": []
   },
   "outputs": [
    {
     "name": "stdout",
     "output_type": "stream",
     "text": [
      "Welcome to Tic Tac Toe!\n"
     ]
    },
    {
     "name": "stdin",
     "output_type": "stream",
     "text": [
      "Player 1, choose X or O O\n"
     ]
    },
    {
     "name": "stdout",
     "output_type": "stream",
     "text": [
      "Player 1will go first\n"
     ]
    },
    {
     "name": "stdin",
     "output_type": "stream",
     "text": [
      "Ready to play? yes or no yes\n"
     ]
    },
    {
     "data": {
      "text/plain": [
       "['', '', '', '', '', '', '', '', '', '']"
      ]
     },
     "metadata": {},
     "output_type": "display_data"
    }
   ],
   "source": [
    "# while loop to keep running the game\n",
    "\n",
    "print('Welcome to Tic Tac Toe!')\n",
    "\n",
    "while True:\n",
    "\n",
    "    # PLAY THE GAME\n",
    "    \n",
    "    ## set up board, player order, marker choice (X, O)\n",
    "    the_board = ['']*10\n",
    "    \n",
    "    #using tuple unpacking here\n",
    "    player1_marker, player2_marker = player_input()\n",
    "    \n",
    "    turn = choose_first()\n",
    "    print(turn + 'will go first')\n",
    "    \n",
    "    play_game = input('Ready to play? yes or no').lower()\n",
    "    \n",
    "    if play_game == 'yes':\n",
    "        game_on = True\n",
    "    else:\n",
    "        game_on = False\n",
    "        \n",
    "    \n",
    "    ## gameplay\n",
    "    \n",
    "    while game_on:\n",
    "        \n",
    "        if turn == 'Player 1':\n",
    "            \n",
    "\n",
    "            ### player 1 turn\n",
    "\n",
    "            # showing the board\n",
    "            display(the_board)\n",
    "\n",
    "            #player chooses position\n",
    "            position = player_choice(the_board)\n",
    "\n",
    "            #place marker on position\n",
    "            place_marker(the_board, player1_marker, position)\n",
    "\n",
    "            #check for win\n",
    "            if win_check(the_board, player1_marker, position):\n",
    "                display(the_board)\n",
    "                print('PLAYER 1 HAS WON')\n",
    "                game_on = False\n",
    "\n",
    "            #check for tie\n",
    "            if full_board_check(the_board):\n",
    "                display(the_board)\n",
    "                print('TIE GAME')\n",
    "                game_on = False\n",
    "\n",
    "            else:\n",
    "                turn = \"Player 2\"\n",
    "        \n",
    "        # no tie and no win? then next player's turn\n",
    "        \n",
    "    \n",
    "        \n",
    "        else:\n",
    "    \n",
    "            ### player 2 turn\n",
    "\n",
    "            # showing the board\n",
    "            display(the_board)\n",
    "\n",
    "            #player chooses position\n",
    "            position = player_choice(the_board)\n",
    "\n",
    "            #place marker on position\n",
    "            place_marker(the_board, player2_marker, position)\n",
    "\n",
    "            #check for win\n",
    "            if win_check(the_board, player2_marker, position):\n",
    "                display(the_board)\n",
    "                print('PLAYER 2 HAS WON')\n",
    "                game_on = False\n",
    "\n",
    "            #check for tie\n",
    "            if full_board_check(the_board):\n",
    "                display(the_board)\n",
    "                print('TIE GAME')\n",
    "                game_on = False\n",
    "\n",
    "            else:\n",
    "                turn = \"Player 1\"\n",
    "\n",
    "# break out of while loop ON replay()\n",
    "    if not replay():\n",
    "        break"
   ]
  },
  {
   "cell_type": "code",
   "execution_count": null,
   "metadata": {},
   "outputs": [],
   "source": [
    "\n"
   ]
  },
  {
   "cell_type": "markdown",
   "metadata": {},
   "source": [
    "## Good Job!"
   ]
  }
 ],
 "metadata": {
  "kernelspec": {
   "display_name": "Python 3 (ipykernel)",
   "language": "python",
   "name": "python3"
  },
  "language_info": {
   "codemirror_mode": {
    "name": "ipython",
    "version": 3
   },
   "file_extension": ".py",
   "mimetype": "text/x-python",
   "name": "python",
   "nbconvert_exporter": "python",
   "pygments_lexer": "ipython3",
   "version": "3.7.11"
  }
 },
 "nbformat": 4,
 "nbformat_minor": 4
}
