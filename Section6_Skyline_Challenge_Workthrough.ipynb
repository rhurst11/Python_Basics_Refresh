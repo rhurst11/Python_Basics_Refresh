{
 "cells": [
  {
   "cell_type": "code",
   "execution_count": 33,
   "id": "17bc3aa0-76a7-47e3-8d8e-d2c61a75417f",
   "metadata": {},
   "outputs": [],
   "source": [
    "# so they want all odd numbers to be lower case and all evens to be uppercase\n",
    "\n",
    "\n",
    "def myfunc(input_string):\n",
    "    output_string = []\n",
    "    for x in input_string:\n",
    "        if (input_string.find(x)) %2 == 0:\n",
    "           output_string.append(x.upper())\n",
    "        # else:\n",
    "        #     x = x.lower()\n",
    "        else:\n",
    "            output_string.append(x)\n",
    "            \n",
    "    return output_string"
   ]
  },
  {
   "cell_type": "code",
   "execution_count": 34,
   "id": "6e70ec8a-54f3-4a7c-89e5-b01a35d34efc",
   "metadata": {},
   "outputs": [
    {
     "name": "stdout",
     "output_type": "stream",
     "text": [
      "['A', 'n', 'T', 'h', 'R', 'o', 'P', 'o', 'R', 'm', 'o', 'R', 'P', 'h', 'I', 's', 'm']\n"
     ]
    }
   ],
   "source": [
    "input_string = 'Anthropormorphism'\n",
    "\n",
    "print(myfunc('anthropormorphism'))"
   ]
  },
  {
   "cell_type": "code",
   "execution_count": 46,
   "id": "96d10423-3458-4358-bc27-395caa5106b7",
   "metadata": {},
   "outputs": [
    {
     "ename": "TypeError",
     "evalue": "not all arguments converted during string formatting",
     "output_type": "error",
     "traceback": [
      "\u001b[0;31m---------------------------------------------------------------------------\u001b[0m",
      "\u001b[0;31mTypeError\u001b[0m                                 Traceback (most recent call last)",
      "\u001b[0;32m/var/folders/9l/kb4zxp_16lx6phccx7c7yk0r0000gn/T/ipykernel_24036/2187954520.py\u001b[0m in \u001b[0;36m<module>\u001b[0;34m\u001b[0m\n\u001b[1;32m      3\u001b[0m \u001b[0;32mfor\u001b[0m \u001b[0mx\u001b[0m \u001b[0;32min\u001b[0m \u001b[0minput_string\u001b[0m\u001b[0;34m:\u001b[0m\u001b[0;34m\u001b[0m\u001b[0;34m\u001b[0m\u001b[0m\n\u001b[1;32m      4\u001b[0m     \u001b[0;31m# print(test_string.index(x))\u001b[0m\u001b[0;34m\u001b[0m\u001b[0;34m\u001b[0m\u001b[0;34m\u001b[0m\u001b[0m\n\u001b[0;32m----> 5\u001b[0;31m     \u001b[0;32mif\u001b[0m \u001b[0mx\u001b[0m\u001b[0;34m%\u001b[0m\u001b[0;36m2\u001b[0m \u001b[0;34m==\u001b[0m\u001b[0;36m0\u001b[0m\u001b[0;34m:\u001b[0m\u001b[0;34m\u001b[0m\u001b[0;34m\u001b[0m\u001b[0m\n\u001b[0m\u001b[1;32m      6\u001b[0m         \u001b[0mprint\u001b[0m\u001b[0;34m(\u001b[0m\u001b[0mx\u001b[0m\u001b[0;34m)\u001b[0m\u001b[0;34m\u001b[0m\u001b[0;34m\u001b[0m\u001b[0m\n",
      "\u001b[0;31mTypeError\u001b[0m: not all arguments converted during string formatting"
     ]
    }
   ],
   "source": [
    "\n",
    "test_string = input_string = 'Anthropormorphism'\n",
    "\n",
    "for x in input_string:\n",
    "    # print(test_string.index(x))\n",
    "    if x%2 ==0:\n",
    "        print(x)"
   ]
  },
  {
   "cell_type": "code",
   "execution_count": null,
   "id": "c26a2705-ba9f-4845-a43e-e9de408f2e1c",
   "metadata": {},
   "outputs": [],
   "source": []
  }
 ],
 "metadata": {
  "kernelspec": {
   "display_name": "Python 3 (ipykernel)",
   "language": "python",
   "name": "python3"
  },
  "language_info": {
   "codemirror_mode": {
    "name": "ipython",
    "version": 3
   },
   "file_extension": ".py",
   "mimetype": "text/x-python",
   "name": "python",
   "nbconvert_exporter": "python",
   "pygments_lexer": "ipython3",
   "version": "3.7.11"
  }
 },
 "nbformat": 4,
 "nbformat_minor": 5
}
